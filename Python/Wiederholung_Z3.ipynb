{
 "cells": [
  {
   "attachments": {},
   "cell_type": "markdown",
   "metadata": {},
   "source": [
    "# Allgemein"
   ]
  },
  {
   "cell_type": "code",
   "execution_count": 1,
   "metadata": {},
   "outputs": [],
   "source": [
    "import z3"
   ]
  },
  {
   "attachments": {},
   "cell_type": "markdown",
   "metadata": {},
   "source": [
    "# Beispiele"
   ]
  },
  {
   "attachments": {},
   "cell_type": "markdown",
   "metadata": {},
   "source": [
    "## Brothers and Sisters"
   ]
  },
  {
   "cell_type": "markdown",
   "metadata": {},
   "source": [
    "I have as many brothers as I have sisters, but my sister has twice as many brothers as she has sisters.\n",
    "How many children does my father have?"
   ]
  },
  {
   "attachments": {},
   "cell_type": "markdown",
   "metadata": {},
   "source": [
    "The method `check` examines whether the given set of constraints is satisfiable.\n",
    "In general, it can return one of the following results:\n",
    "- `sat`   is returned if the problem is solvable, (`sat` is short for *satisfiable*)\n",
    "- `unsat` is returned if the problem is unsatisfiable,\n",
    "- `unknown` is returned if the constraint solver is not powerful enough to solve the given problem.\n",
    "\n",
    "  In contrast to *ChatGPT*, `Z3` does not start to halucinate if it is unable to solve a given problem, but instead clearly states that it was unable to solve the problem."
   ]
  },
  {
   "cell_type": "code",
   "execution_count": 3,
   "metadata": {},
   "outputs": [
    {
     "name": "stdout",
     "output_type": "stream",
     "text": [
      "satisfiable\n",
      "My father has 7 children: 4 boys and 3 girls.\n",
      "I have 4 - 1 = 3 brother and 3 sisters.\n",
      "My sister has 3 - 1 = 2 sisters and 4 = 2 * 2  brothers.\n"
     ]
    }
   ],
   "source": [
    "boys  = z3.Int('boys')\n",
    "girls = z3.Int('girls')\n",
    "\n",
    "S = z3.Solver()\n",
    "\n",
    "S.add(boys - 1 == girls)\n",
    "S.add(2 * (girls - 1) == boys)\n",
    "\n",
    "if str(S.check()) == 'sat':\n",
    "    print('satisfiable')\n",
    "\n",
    "solution = S.model()\n",
    "\n",
    "b = solution[boys ].as_long()\n",
    "g = solution[girls].as_long()\n",
    "\n",
    "print(f'My father has {b + g} children: {b} boys and {g} girls.')\n",
    "print(f'I have {b} - 1 = {b-1} brother and {g} sisters.')\n",
    "print(f'My sister has {g} - 1 = {g-1} sisters and {b} = 2 * {g-1}  brothers.')"
   ]
  },
  {
   "attachments": {},
   "cell_type": "markdown",
   "metadata": {},
   "source": [
    "## Train"
   ]
  },
  {
   "attachments": {},
   "cell_type": "markdown",
   "metadata": {},
   "source": [
    "<blockquote id=\"fancy\">\n",
    "\n",
    "   **Solving a Quadratic Equation with  Z3**\n",
    "\n",
    "   A train travels at a uniform speed for 360 miles.  \n",
    "   The train would have taken 48 minutes less to travel the same distance \n",
    "   if it had been 5 miles per hour faster. <br/>\n",
    "    \n",
    "   **Find the speed of the train**.\n",
    "</blockquote>"
   ]
  },
  {
   "cell_type": "code",
   "execution_count": 7,
   "metadata": {},
   "outputs": [
    {
     "name": "stdout",
     "output_type": "stream",
     "text": [
      "satisfiable\n",
      "velocicty = 45.0\n",
      "time = 8.0\n",
      "\n",
      "Check:\n",
      "360.0\n",
      "360.0\n"
     ]
    }
   ],
   "source": [
    "t = z3.Real('t')\n",
    "v = z3.Real('v')\n",
    "\n",
    "S = z3.Solver()\n",
    "\n",
    "S.add(360 == t * v)\n",
    "S.add(360 == (t - z3.Q(4, 5)) * (v + 5))\n",
    "\n",
    "S.add(t > 0)\n",
    "\n",
    "if str(S.check()) == 'sat':\n",
    "    print('satisfiable')\n",
    "\n",
    "solution = S.model()\n",
    "\n",
    "velocity = float(solution[v].as_decimal(17)) # Precision = 17\n",
    "time = float(solution[t].as_decimal(17))\n",
    "\n",
    "print(f'velocicty = {velocity}')\n",
    "print(f'time = {time}')\n",
    "\n",
    "# Check\n",
    "\n",
    "print('\\nCheck:')\n",
    "print(time * velocity)\n",
    "print((time - 4/5) * (velocity + 5))"
   ]
  },
  {
   "attachments": {},
   "cell_type": "markdown",
   "metadata": {},
   "source": [
    "## Parrot and Penguin"
   ]
  },
  {
   "attachments": {},
   "cell_type": "markdown",
   "metadata": {},
   "source": [
    "- A Japanese deli offers both\n",
    "  [penguins](https://www.discovermagazine.com/health/hearty-penguin-steaks-the-old-school-explorers-salve-for-scurvy)\n",
    "     and [parrots](http://fancytoast.blogspot.com/2007/04/parrot-three-ways.html). \n",
    "- A parrot and a penguin together cost 666 bucks.\n",
    "- The penguin costs 600 dollars more than the parrot.\n",
    "- **What is the price of the parrot?**"
   ]
  },
  {
   "cell_type": "code",
   "execution_count": 17,
   "metadata": {},
   "outputs": [
    {
     "name": "stdout",
     "output_type": "stream",
     "text": [
      "satisfiable\n",
      "Parrot = 33\n"
     ]
    }
   ],
   "source": [
    "parrot = z3.Int('par')\n",
    "penguin = z3.Int('penguin')\n",
    "\n",
    "S = z3.Solver()\n",
    "\n",
    "S.add(parrot + penguin == 666)\n",
    "S.add(penguin == parrot + 600)\n",
    "\n",
    "if str(S.check()) == 'sat':\n",
    "    print('satisfiable')\n",
    "\n",
    "solution = S.model()\n",
    "\n",
    "print(f'Parrot = {solution[parrot].as_long()}')"
   ]
  },
  {
   "attachments": {},
   "cell_type": "markdown",
   "metadata": {},
   "source": [
    "## Sudoku"
   ]
  },
  {
   "cell_type": "code",
   "execution_count": 8,
   "metadata": {},
   "outputs": [],
   "source": [
    "def create_puzzle():\n",
    "    return [ [\"*\",  3 ,  9 , \"*\", \"*\", \"*\", \"*\", \"*\",  7 ], \n",
    "             [\"*\", \"*\", \"*\",  7 , \"*\", \"*\",  4 ,  9 ,  2 ],\n",
    "             [\"*\", \"*\", \"*\", \"*\",  6 ,  5 , \"*\",  8 ,  3 ],\n",
    "             [\"*\", \"*\", \"*\",  6 , \"*\",  3 ,  2 ,  7 , \"*\"],\n",
    "             [\"*\", \"*\", \"*\", \"*\",  4 , \"*\",  8 , \"*\", \"*\"],\n",
    "             [ 5 ,  6 , \"*\", \"*\", \"*\", \"*\", \"*\", \"*\", \"*\"],\n",
    "             [\"*\", \"*\",  5 ,  2 , \"*\",  9 , \"*\", \"*\",  1 ],\n",
    "             [\"*\",  2 ,  1 , \"*\", \"*\", \"*\", \"*\",  4 , \"*\"],\n",
    "             [ 7 , \"*\", \"*\", \"*\", \"*\", \"*\",  5 , \"*\", \"*\"]\n",
    "           ]"
   ]
  },
  {
   "cell_type": "code",
   "execution_count": 9,
   "metadata": {},
   "outputs": [],
   "source": [
    "def all_variables():\n",
    "    Variables = set()\n",
    "    for row in range(1, 9+1):\n",
    "        for col in range(1, 9+1):\n",
    "            Variables.add(f'V{row}{col}')\n",
    "    return Variables"
   ]
  },
  {
   "cell_type": "code",
   "execution_count": 10,
   "metadata": {},
   "outputs": [],
   "source": [
    "def allDifferent(L):\n",
    "    return { f'{x} != {y}' for x in L \n",
    "                           for y in L\n",
    "                           if  x < y\n",
    "           }"
   ]
  },
  {
   "cell_type": "code",
   "execution_count": 11,
   "metadata": {},
   "outputs": [],
   "source": [
    "def constraints_from_puzzle():\n",
    "    Puzzle = create_puzzle()\n",
    "    return { f'V{row+1}{col+1} == {Puzzle[row][col]}' for row in range(8+1)\n",
    "                                                      for col in range(8+1)\n",
    "                                                      if  Puzzle[row][col] != '*'\n",
    "           }"
   ]
  },
  {
   "cell_type": "code",
   "execution_count": 12,
   "metadata": {},
   "outputs": [],
   "source": [
    "def all_constraints(): \n",
    "    L           = range(1, 9+1)\n",
    "    Constraints = constraints_from_puzzle()\n",
    "    # all entries in a row are unique\n",
    "    for row in L:\n",
    "        Constraints |= allDifferent({ f'V{row}{col}' for col in L })\n",
    "    # all entries in a column are unique\n",
    "    for col in L:\n",
    "        Constraints |= allDifferent({ f'V{row}{col}' for row in L })\n",
    "    # all entries in a 3x3 square are unique    \n",
    "    for r in range(3):\n",
    "        for c in range(3):\n",
    "            S = { f'V{r*3+row}{c*3+col}' for row in range(1, 3+1)\n",
    "                                         for col in range(1, 3+1) \n",
    "                }\n",
    "            Constraints |= allDifferent(S)\n",
    "    for row in L:\n",
    "        for col in L:\n",
    "            Constraints.add(f'0 < V{row}{col}')\n",
    "            Constraints.add(f'V{row}{col} < 10')\n",
    "    return Constraints"
   ]
  },
  {
   "cell_type": "code",
   "execution_count": 13,
   "metadata": {},
   "outputs": [],
   "source": [
    "def solve(Constraints, Variables):\n",
    "    Environment = {}\n",
    "    exec('import z3', Environment)\n",
    "    for v in Variables:\n",
    "        exec(f'{v} = z3.Int(f\"{v}\")', Environment)\n",
    "    s = z3.Solver()\n",
    "    for c in Constraints:\n",
    "        s.add(eval(c, Environment))\n",
    "    result = str(s.check())\n",
    "    if result == 'sat':\n",
    "        m = s.model()\n",
    "        S = { v: m[eval(v, Environment)] for v in Variables }\n",
    "        return S\n",
    "    elif result == 'unsat':\n",
    "        print('The problem is not solvable.')\n",
    "    else:\n",
    "        print('Z3 cannot determine whether the problem is solvable.')"
   ]
  },
  {
   "cell_type": "code",
   "execution_count": 14,
   "metadata": {},
   "outputs": [
    {
     "name": "stdout",
     "output_type": "stream",
     "text": [
      "CPU times: total: 203 ms\n",
      "Wall time: 245 ms\n"
     ]
    },
    {
     "data": {
      "text/plain": [
       "{'V58': 1,\n",
       " 'V99': 8,\n",
       " 'V95': 1,\n",
       " 'V14': 4,\n",
       " 'V13': 9,\n",
       " 'V79': 1,\n",
       " 'V73': 5,\n",
       " 'V86': 6,\n",
       " 'V24': 7,\n",
       " 'V98': 2,\n",
       " 'V15': 2,\n",
       " 'V67': 9,\n",
       " 'V22': 5,\n",
       " 'V76': 9,\n",
       " 'V36': 5,\n",
       " 'V66': 7,\n",
       " 'V37': 1,\n",
       " 'V65': 8,\n",
       " 'V69': 4,\n",
       " 'V39': 3,\n",
       " 'V17': 6,\n",
       " 'V19': 7,\n",
       " 'V46': 3,\n",
       " 'V84': 8,\n",
       " 'V25': 3,\n",
       " 'V87': 7,\n",
       " 'V49': 5,\n",
       " 'V41': 8,\n",
       " 'V74': 2,\n",
       " 'V71': 4,\n",
       " 'V68': 3,\n",
       " 'V42': 1,\n",
       " 'V43': 4,\n",
       " 'V55': 4,\n",
       " 'V52': 7,\n",
       " 'V27': 4,\n",
       " 'V44': 6,\n",
       " 'V89': 9,\n",
       " 'V61': 5,\n",
       " 'V47': 2,\n",
       " 'V63': 2,\n",
       " 'V28': 9,\n",
       " 'V72': 8,\n",
       " 'V75': 7,\n",
       " 'V29': 2,\n",
       " 'V26': 1,\n",
       " 'V94': 3,\n",
       " 'V23': 8,\n",
       " 'V11': 1,\n",
       " 'V59': 6,\n",
       " 'V33': 7,\n",
       " 'V85': 5,\n",
       " 'V77': 3,\n",
       " 'V18': 5,\n",
       " 'V78': 6,\n",
       " 'V51': 9,\n",
       " 'V96': 4,\n",
       " 'V32': 4,\n",
       " 'V57': 8,\n",
       " 'V48': 7,\n",
       " 'V82': 2,\n",
       " 'V31': 2,\n",
       " 'V38': 8,\n",
       " 'V16': 8,\n",
       " 'V45': 9,\n",
       " 'V34': 9,\n",
       " 'V53': 3,\n",
       " 'V54': 5,\n",
       " 'V62': 6,\n",
       " 'V81': 3,\n",
       " 'V88': 4,\n",
       " 'V97': 5,\n",
       " 'V21': 6,\n",
       " 'V91': 7,\n",
       " 'V12': 3,\n",
       " 'V92': 9,\n",
       " 'V35': 6,\n",
       " 'V83': 1,\n",
       " 'V56': 2,\n",
       " 'V93': 6,\n",
       " 'V64': 1}"
      ]
     },
     "execution_count": 14,
     "metadata": {},
     "output_type": "execute_result"
    }
   ],
   "source": [
    "%%time\n",
    "Solution = solve(all_constraints(), all_variables())\n",
    "Solution"
   ]
  }
 ],
 "metadata": {
  "kernelspec": {
   "display_name": "ai",
   "language": "python",
   "name": "python3"
  },
  "language_info": {
   "codemirror_mode": {
    "name": "ipython",
    "version": 3
   },
   "file_extension": ".py",
   "mimetype": "text/x-python",
   "name": "python",
   "nbconvert_exporter": "python",
   "pygments_lexer": "ipython3",
   "version": "3.10.9"
  },
  "orig_nbformat": 4
 },
 "nbformat": 4,
 "nbformat_minor": 2
}
