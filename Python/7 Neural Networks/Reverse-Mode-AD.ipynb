{
 "cells": [
  {
   "cell_type": "code",
   "execution_count": null,
   "id": "3ab56590",
   "metadata": {},
   "outputs": [],
   "source": [
    "from IPython.core.display import HTML\n",
    "with open (\"../style.css\", \"r\") as file:\n",
    "    css = file.read()\n",
    "HTML(css)"
   ]
  },
  {
   "cell_type": "markdown",
   "id": "d7958f8b",
   "metadata": {},
   "source": [
    "# Reverse Mode Automatic Differentiation"
   ]
  },
  {
   "cell_type": "markdown",
   "id": "29328608",
   "metadata": {},
   "source": [
    "We demonstrate reverse mode AD with the function\n",
    "$$ f(x_1, x_2) = \\sin(x_1 + x_2) \\cdot \\cos(x_1 - x_2) + (x_1 + x_2) \\cdot (x_1 - x_2) $$\n",
    "To compute the function step by step, we introduce the following auxiliary variables:\n",
    "* $v_1 := x_1 + x_2$,\n",
    "* $v_2 := x_1 - x_2$,\n",
    "* $v_3 := \\sin(v_1)$,\n",
    "* $v_4 := \\cos(v_2)$,\n",
    "* $v_5 := v_3 \\cdot v_4$,\n",
    "* $v_6 := v_1 \\cdot v_2$,\n",
    "* $y   := v_5 + v_6$."
   ]
  },
  {
   "cell_type": "code",
   "execution_count": null,
   "id": "a7aa66dd",
   "metadata": {},
   "outputs": [],
   "source": [
    "def f(x1, x2):\n",
    "    return sin(x1 + x2) * cos(x1 - x2) + (x1 + x2) * (x1 - x2)"
   ]
  },
  {
   "cell_type": "markdown",
   "id": "5dec4509",
   "metadata": {},
   "source": [
    "The central notion of *reverse-mode* [automatic differentiation](https://en.wikipedia.org/wiki/Automatic_differentiation) is the notion of a *computational graph*, which is a list of *computational nodes*.\n",
    "There are four types of computational nodes:\n",
    "- A *variable node* is tuple of length 1 of the form   \n",
    "  $$\\langle x, \\rangle$$\n",
    "  where $x$ is a variable from a given set of variables $\\{x_1,\\cdots,x_k\\}$.\n",
    "- A *constant node* is a pair of the form\n",
    "  $$\\langle n, r\\rangle$$\n",
    "  where $n$ is the *name* of the node and $r$ is a floating point number.  \n",
    "  \n",
    "  This node is interpreted as the assignment\n",
    "  $$n \\;\\mathtt{:=}\\; r$$\n",
    "  The name $n$ is a string that can be understood as the name of an auxiliary variable.\n",
    "- A *unary node* is a tuple of the form\n",
    "  $$\\langle n, f, a\\rangle$$\n",
    "  where $n$ is the *name* of the node, $f$ is an unary function symbol from the set\n",
    "  $$\\{ \\mathrm{sqrt}, \\exp, \\ln, \\sin, \\cos, \\arctan \\}$$\n",
    "  and $a$ is the name of another node occurring in the list.  \n",
    "  \n",
    "  This node is interpreted as the assignment\n",
    "  $n \\;\\mathtt{:=}\\; f(a)$.        \n",
    "- A *binary node* is a tuple of the form\n",
    "  $$\\langle n, o, a_1, a_2\\rangle$$\n",
    "  where $n$ is the *name* of the node, $o$ is a binary operator from the set\n",
    "  $$\\{ +, -, *, / \\}$$\n",
    "  and $a_1$ and $a_2$ are the names of other computational nodes.\n",
    "        \n",
    "  This node is interpreted as the assignment\n",
    "  $$n \\;\\mathtt{:=}\\; a_1\\; o\\,\\; a_2 $$\n",
    "  The name $n$ is a string that can be understood as the name of an auxiliary variable.\n",
    "\n",
    "---\n",
    "\n",
    "The computational graph `GC` defined below implements the function `f` that is defined as follows:\n",
    "$$ f(x_1, x_2) = \\sin(x_1 + x_2) \\cdot \\cos(x_1 - x_2) + (x_1 + x_2) \\cdot (x_1 - x_2) $$"
   ]
  },
  {
   "cell_type": "code",
   "execution_count": null,
   "id": "d8755c49",
   "metadata": {},
   "outputs": [],
   "source": [
    "CG = [ ('x1', ),\n",
    "       ('x2', ),\n",
    "       ('v1', '+',   'x1', 'x2'),\n",
    "       ('v2', '-',   'x1', 'x2'),\n",
    "       ('v3', 'sin', 'v1'),\n",
    "       ('v4', 'cos', 'v2'),\n",
    "       ('v5', '*',   'v3', 'v4'),\n",
    "       ('v6', '*',   'v1', 'v2'),\n",
    "       ('y',  '+',   'v5', 'v6')\n",
    "     ]"
   ]
  },
  {
   "cell_type": "code",
   "execution_count": null,
   "id": "b7d145bd",
   "metadata": {},
   "outputs": [],
   "source": [
    "import graphviz as gv"
   ]
  },
  {
   "cell_type": "markdown",
   "id": "442e0221",
   "metadata": {},
   "source": [
    "The function `render(CG)` takes a computational graph `CG` as input and renders it graphically via `graphviz`."
   ]
  },
  {
   "cell_type": "code",
   "execution_count": null,
   "id": "96073036",
   "metadata": {},
   "outputs": [],
   "source": [
    "def render(CG):\n",
    "    cg = gv.Digraph()\n",
    "    cg.attr(rankdir='LR')\n",
    "    for node in CG:\n",
    "        shape = 'rectangle'\n",
    "        match node:\n",
    "            case (v, ):\n",
    "                label = f'{v}'\n",
    "                shape = 'circle'\n",
    "            case (v, r):\n",
    "                label = f'{v} := {r}'\n",
    "            case (v, op, a1, a2):\n",
    "                label = f'{v} := {a1} {op} {a2}'\n",
    "            case (v, f, a):\n",
    "                label = f'{v} :=  {f}({a})'\n",
    "        cg.node(v, label=label, shape=shape)\n",
    "    for node in CG:\n",
    "        match node:\n",
    "            case (v, _, a1, a2):\n",
    "                cg.edge(a1, v)\n",
    "                cg.edge(a2, v)\n",
    "            case (v, _, a):\n",
    "                cg.edge(a, v)\n",
    "    return cg"
   ]
  },
  {
   "cell_type": "markdown",
   "id": "207d06d6",
   "metadata": {},
   "source": [
    "$$ f(x_1, x_2) = \\sin(x_1 + x_2) \\cdot \\cos(x_1 - x_2) + (x_1 + x_2) \\cdot (x_1 - x_2) $$"
   ]
  },
  {
   "cell_type": "code",
   "execution_count": null,
   "id": "07d67713",
   "metadata": {},
   "outputs": [],
   "source": [
    "dot = render(CG)\n",
    "dot"
   ]
  },
  {
   "cell_type": "code",
   "execution_count": null,
   "id": "5089452d",
   "metadata": {},
   "outputs": [],
   "source": [
    "dot.save(filename='cg.dot')"
   ]
  },
  {
   "cell_type": "code",
   "execution_count": null,
   "id": "01f05caf",
   "metadata": {},
   "outputs": [],
   "source": [
    "!cat cg.dot || type cg.dot"
   ]
  },
  {
   "cell_type": "code",
   "execution_count": null,
   "id": "8a8be405",
   "metadata": {},
   "outputs": [],
   "source": [
    "import math"
   ]
  },
  {
   "cell_type": "markdown",
   "id": "228a411f",
   "metadata": {},
   "source": [
    "The function `eval_graph` takes two arguments:\n",
    "* `CG` is a computational graph,\n",
    "* `Values` is a dictionary assigning values to variable names."
   ]
  },
  {
   "cell_type": "code",
   "execution_count": null,
   "id": "a8507a45",
   "metadata": {},
   "outputs": [],
   "source": [
    "def eval_graph(CG, Values):\n",
    "    for node in CG:\n",
    "        match node:\n",
    "            case (v, ):\n",
    "                pass     # input variables are already defined\n",
    "            case (v, r):\n",
    "                Values[v] = r\n",
    "            case (v, '+', a1, a2):\n",
    "                Values[v] = Values[a1] + Values[a2]\n",
    "            case (v, '-', a1, a2):\n",
    "                Values[v] = Values[a1] - Values[a2]\n",
    "            case (v, '*', a1, a2):\n",
    "                Values[v] = Values[a1] * Values[a2]\n",
    "            case (v, '/', a1, a2):\n",
    "                Values[v] = Values[a1] / Values[a2]\n",
    "            case (v, 'sqrt', a):\n",
    "                Values[v] = math.sqrt(Values[a])            \n",
    "            case (v, 'exp', a):\n",
    "                Values[v] = math.exp(Values[a])\n",
    "            case (v, 'log', a):\n",
    "                Values[v] = math.log(Values[a])\n",
    "            case (v, 'sin', a):\n",
    "                Values[v] = math.sin(Values[a])\n",
    "            case (v, 'cos', a):\n",
    "                Values[v] = math.cos(Values[a])\n",
    "            case (v, 'atan', a):\n",
    "                Values[v] = math.atan(Values[a])\n",
    "    return Values['y']"
   ]
  },
  {
   "cell_type": "code",
   "execution_count": null,
   "id": "70ae9d00",
   "metadata": {},
   "outputs": [],
   "source": [
    "eval_graph(CG, { 'x1': math.pi/4, 'x2': math.pi/4 })"
   ]
  },
  {
   "cell_type": "markdown",
   "id": "c139bafe",
   "metadata": {},
   "source": [
    "The function `add_to_dictionary` takes three arguments:\n",
    "* `D` is a dictionary.  \n",
    "\n",
    "   This dictionary maps keys to sets of values.\n",
    "* `key` is a key for this dictionary.\n",
    "* `value` is a value that is added to the set `D[key]`.\n",
    "\n",
    "The function does not return a value but instead changes the dictionary `D` such that the following equation holds:\n",
    "$$ \\texttt{value} \\in \\texttt{D}[\\texttt{key}] $$"
   ]
  },
  {
   "cell_type": "code",
   "execution_count": null,
   "id": "42553f25",
   "metadata": {},
   "outputs": [],
   "source": [
    "def add_to_dictionary(D, key, value):\n",
    "    if key in D:\n",
    "        D[key] |= { value } # operator |= performs a union\n",
    "    else:\n",
    "        D[key]  = { value }"
   ]
  },
  {
   "cell_type": "markdown",
   "id": "069a9e91",
   "metadata": {},
   "source": [
    "Given a *computational graph* `CG`, the function `parents` returns a dictionary `Parents` such that\n",
    "for every node name `n` occurring in `CG` we have that `Parents[n]` is the set of nodes that are parents \n",
    "of the node labeled with `n`. \n",
    "It returns the dictionary `Parents`.  \n",
    "* If `CG` contains a node of the form $(p, f, a)$, then $p$ is a parent of $a$.\n",
    "* If `CG` contains a node of the form $(p, o, a_1, a_2)$, then $p$ is a parent of both \n",
    "  $a_1$ and $a_2$.\n",
    "  \n",
    "It is important to understand that a node can have an arbitrary number of parents."
   ]
  },
  {
   "cell_type": "code",
   "execution_count": null,
   "id": "b9896947",
   "metadata": {},
   "outputs": [],
   "source": [
    "def parents(CG):\n",
    "    Parents = {}\n",
    "    for node in CG:\n",
    "        match node:\n",
    "            case (p, _, a):\n",
    "                add_to_dictionary(Parents, a, p)\n",
    "            case (p, _, a1, a2):\n",
    "                add_to_dictionary(Parents, a1, p)\n",
    "                add_to_dictionary(Parents, a2, p)\n",
    "    return Parents"
   ]
  },
  {
   "cell_type": "code",
   "execution_count": null,
   "id": "e09a54d3",
   "metadata": {},
   "outputs": [],
   "source": [
    "render(CG)"
   ]
  },
  {
   "cell_type": "code",
   "execution_count": null,
   "id": "e2e07b85",
   "metadata": {},
   "outputs": [],
   "source": [
    "parents(CG)"
   ]
  },
  {
   "cell_type": "markdown",
   "id": "a66d933d",
   "metadata": {},
   "source": [
    "Given a computational graph `CG` the function `node_dictionary` returns a dictionary that maps the names of the nodes to the nodes themselves. "
   ]
  },
  {
   "cell_type": "code",
   "execution_count": null,
   "id": "32b3ba23",
   "metadata": {},
   "outputs": [],
   "source": [
    "def node_dictionary(CG):\n",
    "    D = {}\n",
    "    for node in CG:\n",
    "        name    = node[0]\n",
    "        D[name] = node\n",
    "    return D"
   ]
  },
  {
   "cell_type": "code",
   "execution_count": null,
   "id": "0cf38206",
   "metadata": {},
   "outputs": [],
   "source": [
    "node_dictionary(CG)"
   ]
  },
  {
   "cell_type": "markdown",
   "id": "38072e91",
   "metadata": {},
   "source": [
    "The function `partial_derivative` takes three arguments:\n",
    "* `Node` is a computational node,\n",
    "* `arg` is the name of a node occurring as argument in `Node`, \n",
    "* `Values` is a dictionary that stores a value for every node name.\n",
    "\n",
    "The function computes the partial derivative of `Node` w.r.t. `arg`."
   ]
  },
  {
   "cell_type": "code",
   "execution_count": null,
   "id": "6f267482",
   "metadata": {},
   "outputs": [],
   "source": [
    "def partial_derivative(Node, arg, Values):\n",
    "    match Node:\n",
    "        case n, '+', a1, a2:\n",
    "            if arg == a1 == a2:\n",
    "                return 2\n",
    "            if arg == a1 or arg == a2:\n",
    "                return 1\n",
    "            else:\n",
    "                assert False, f'partial_derivative({Node}, {arg})'\n",
    "        case n, '-', a1, a2:\n",
    "            if arg == a1 == a2:\n",
    "                return 0\n",
    "            if arg == a1:\n",
    "                return 1\n",
    "            if arg == a2:\n",
    "                return -1\n",
    "            else:\n",
    "                assert False, f'partial_derivative({Node}, {arg})'\n",
    "        case n, '*', a1, a2:\n",
    "            if arg == a1 == a2:\n",
    "                return 2 * Values[a1]\n",
    "            if arg == a1:\n",
    "                return Values[a2]\n",
    "            if arg == a2:\n",
    "                return Values[a1]\n",
    "            else:\n",
    "                assert False, f'partial_derivative({Node}, {arg})'\n",
    "        case n, '/', a1, a2:\n",
    "            if arg == a1 == a2:\n",
    "                return 0\n",
    "            if arg == a1:\n",
    "                return 1 / Values[a2]\n",
    "            if arg == a2:\n",
    "                return -Values[a1] / Values[a2] ** 2\n",
    "            else:\n",
    "                assert False, f'partial_derivative({Node}, {arg})'\n",
    "        case n, 'sqrt', a:\n",
    "            return 0.5 / math.sqrt(Values[a])\n",
    "        case n, 'exp', a:\n",
    "            return math.exp(Values[a])\n",
    "        case n, 'log', a:\n",
    "            return 1 / Values[a]\n",
    "        case n, 'sin', a:\n",
    "            return math.cos(Values[a])\n",
    "        case n, 'cos', a:\n",
    "            return -math.sin(Values[a])\n",
    "        case n, 'atan', a:\n",
    "            return 1 / (1 + Values[a]**2)"
   ]
  },
  {
   "cell_type": "markdown",
   "id": "07dce27b",
   "metadata": {},
   "source": [
    "Assume that `CG` is a *computational graph* such that the *output node* is labelled with then name `y`. If $v$ is any node in `CG`, then the *adjoint* of $v$, is defined\n",
    "as the partial derivative of the output variable `y` w.r.t. $v$, i.e.\n",
    "$$\\bar{v} := \\frac{\\displaystyle\\partial \\mathtt{y}}{\\displaystyle\\partial v}.$$\n",
    "The adjoint of $v$ is written as $\\bar{v}$. \n",
    "\n",
    "If $p_1, \\cdots, p_k$ are all the parents of the node $v$ in `CG`, then \n",
    "according to the chain rule of multivariable calculus the adjoint $\\bar{v}$\n",
    "can be computed as follows:\n",
    "$$\\bar{v} = \\frac{\\displaystyle\\partial y}{\\displaystyle\\partial v} \n",
    "              = \\sum\\limits_{i=1}^k \\frac{\\displaystyle\\partial y}{\\displaystyle\\partial p_i} \\cdot \\frac{\\displaystyle\\partial p_i}{\\displaystyle\\partial v}\n",
    "              = \\sum\\limits_{i=1}^k \\bar{p}_i \\cdot \\frac{\\displaystyle\\partial p_i}{\\displaystyle\\partial v}\n",
    "  $$\n",
    "---  \n",
    "The function `adjoints` takes two arguments:\n",
    "- `CG` is a *computational graph* `CG`.\n",
    "- `Values` is a dictionary.  This dictionary maps the names of the *input nodes*\n",
    "  occurring in `CG` to their corresponding values.\n",
    "  \n",
    "The function returns a dictionary `Adjoints` such that for every name $v$ of a \n",
    "node occurring in `CG` we have that `Adjoints[v]` is the *adjoin* of $v$."
   ]
  },
  {
   "cell_type": "code",
   "execution_count": null,
   "id": "01356ba4",
   "metadata": {},
   "outputs": [],
   "source": [
    "def adjoints(CG, Values):\n",
    "    eval_graph(CG, Values)\n",
    "    NodeDict = node_dictionary(CG)\n",
    "    Parents  = parents(CG)\n",
    "    n        = len(CG)\n",
    "    Adjoints = {}\n",
    "    Adjoints['y'] = 1\n",
    "    for Node in reversed(CG[:-1]):\n",
    "        name   = Node[0]\n",
    "        result = 0\n",
    "        for parent_name in Parents[name]:\n",
    "            parent_node = NodeDict[parent_name]\n",
    "            result += Adjoints[parent_name] * partial_derivative(parent_node, name, Values)\n",
    "        Adjoints[name] = result\n",
    "    return Adjoints"
   ]
  },
  {
   "cell_type": "code",
   "execution_count": null,
   "id": "47bb6a03",
   "metadata": {},
   "outputs": [],
   "source": [
    "adjoints(CG, { 'x1': math.pi/4, 'x2': math.pi/4 })"
   ]
  },
  {
   "cell_type": "markdown",
   "id": "3b2a5e4b",
   "metadata": {},
   "source": [
    "The function `autodiff` takes three arguments:\n",
    "- `CG` is a computational graph.\n",
    "- `Values` is a dictionary mapping the input variables of `CG` to values.\n",
    "- `x` is the name of an input variable.\n",
    "\n",
    "If the computaional graph `CG` computes the function $f(x_1,\\cdots,x_n)$, then\n",
    "`autodiff` returns the paritial derivative $\\frac{\\displaystyle\\partial f}{\\displaystyle\\partial x}$. "
   ]
  },
  {
   "cell_type": "code",
   "execution_count": null,
   "id": "0dd57b15",
   "metadata": {},
   "outputs": [],
   "source": [
    "def autodiff(CG, Values, x):\n",
    "    Adjoints = adjoints(CG, Values)\n",
    "    return Adjoints[x]"
   ]
  },
  {
   "cell_type": "code",
   "execution_count": null,
   "id": "01ed1e13",
   "metadata": {},
   "outputs": [],
   "source": [
    "autodiff(CG, { 'x1': math.pi/4, 'x2': math.pi/4 }, 'x1')"
   ]
  },
  {
   "cell_type": "markdown",
   "id": "7df1f5f4",
   "metadata": {},
   "source": [
    "If \n",
    "$$f(x_1,x_2) = \\sin(x_1 + x_2) \\cdot \\cos(x_1 - x_2) + (x_1 + x_2) \\cdot (x_1 - x_2), $$\n",
    "we have\n",
    "$$\\displaystyle \\frac{\\partial\\; f}{\\partial x_1} \n",
    "= -\\sin(x_1-x_2) \\cdot \\sin(x_1 + x_2)+ \\cos(x_1-x_2) \\cdot \\cos(x_1 + x_2) + 2 \\cdot x_1. $$\n",
    "Furthermore,\n",
    "$$\\displaystyle  -\\sin(\\frac{\\pi}{4}-\\frac{\\pi}{4}) \\cdot \\sin(\\frac{\\pi}{4}+\\frac{\\pi}{4})+ \\cos(\\frac{\\pi}{4}-\\frac{\\pi}{4}) \\cdot \\cos(\\frac{\\pi}{4}+\\frac{\\pi}{4}) + 2 \\cdot \\frac{\\pi}{4} = \\frac{\\pi}{2}.$$\n",
    "Hence the computed value in the cell above is correct."
   ]
  },
  {
   "cell_type": "code",
   "execution_count": null,
   "id": "98fb9d1f",
   "metadata": {},
   "outputs": [],
   "source": []
  }
 ],
 "metadata": {
  "kernelspec": {
   "display_name": "Python 3 (ipykernel)",
   "language": "python",
   "name": "python3"
  },
  "language_info": {
   "codemirror_mode": {
    "name": "ipython",
    "version": 3
   },
   "file_extension": ".py",
   "mimetype": "text/x-python",
   "name": "python",
   "nbconvert_exporter": "python",
   "pygments_lexer": "ipython3",
   "version": "3.10.8"
  }
 },
 "nbformat": 4,
 "nbformat_minor": 5
}
