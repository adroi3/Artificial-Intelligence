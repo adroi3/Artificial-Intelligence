{
 "cells": [
  {
   "cell_type": "code",
   "execution_count": null,
   "id": "3ab56590",
   "metadata": {},
   "outputs": [],
   "source": [
    "from IPython.core.display import HTML\n",
    "with open (\"../style.css\", \"r\") as file:\n",
    "    css = file.read()\n",
    "HTML(css)"
   ]
  },
  {
   "cell_type": "markdown",
   "id": "d7958f8b",
   "metadata": {},
   "source": [
    "# Automatic Differentiation with `autograd`"
   ]
  },
  {
   "cell_type": "markdown",
   "id": "b51c54e0",
   "metadata": {},
   "source": [
    "This is a short introduction to the library `autograd`\n",
    "Technically, `autograd` wraps and extends `numpy`.  It is most often imported as follows:"
   ]
  },
  {
   "cell_type": "code",
   "execution_count": null,
   "id": "ec4544c6",
   "metadata": {},
   "outputs": [],
   "source": [
    "import autograd       as ag\n",
    "import autograd.numpy as np"
   ]
  },
  {
   "cell_type": "markdown",
   "id": "1f25756d",
   "metadata": {},
   "source": [
    "In order to plot the functions that we are going to differentiate, we also import `matplotlib` and `seaborn`."
   ]
  },
  {
   "cell_type": "code",
   "execution_count": null,
   "id": "0336305c",
   "metadata": {},
   "outputs": [],
   "source": [
    "import matplotlib.pyplot as plt\n",
    "import seaborn           as sns"
   ]
  },
  {
   "cell_type": "markdown",
   "id": "7731595e",
   "metadata": {},
   "source": [
    "We start with a trivial example and take the derivative of the function\n",
    "$$ Q(x) = x^2. $$\n",
    "Of course, the derivate of $x^2$ is just $2\\cdot x$. Therefore we have\n",
    "$$ \\frac{\\mathrm{d} Q}{\\mathrm{d} x} = 2 \\cdot x. $$"
   ]
  },
  {
   "cell_type": "code",
   "execution_count": null,
   "id": "5236f013",
   "metadata": {},
   "outputs": [],
   "source": [
    "def Q(x):\n",
    "    return x * x"
   ]
  },
  {
   "cell_type": "markdown",
   "id": "92bcdb80",
   "metadata": {},
   "source": [
    "To compute the derivative of `Q` we can use the function `grad` from `autograd`."
   ]
  },
  {
   "cell_type": "code",
   "execution_count": null,
   "id": "94c55c0a",
   "metadata": {},
   "outputs": [],
   "source": [
    "Qs = ag.grad(Q)"
   ]
  },
  {
   "cell_type": "markdown",
   "id": "be0c8ef0",
   "metadata": {},
   "source": [
    "We are going to plot both `Q` and its derivative.  The function `draw` takes four\n",
    "arguments:\n",
    "- `f` is the function that is to be plotted.  This should be a Python function.\n",
    "- `a` and `b` are real numbers such that `a < b`. \n",
    "- `title` is a string which serves as the title of the plot.\n",
    "The function `draw` plots `f` in the interval `[a, b]`."
   ]
  },
  {
   "cell_type": "code",
   "execution_count": null,
   "id": "f765432a",
   "metadata": {},
   "outputs": [],
   "source": [
    "def draw(f, fs, a, b, title):\n",
    "    plt.figure(figsize=(10, 6))\n",
    "    sns.set(style='darkgrid')\n",
    "    plt.title(title)\n",
    "    plt.xlabel('x')\n",
    "    plt.ylabel('y')\n",
    "    plt.axvline(x=0.0, c='k')\n",
    "    plt.axhline(y=0.0, c='k')\n",
    "    X  = np.arange(a, b, (b - a) / 500)\n",
    "    Y  = [f(x)  for x in X]\n",
    "    Ys = [fs(x) for x in X]\n",
    "    plt.plot(X, Y,  color='blue')\n",
    "    plt.plot(X, Ys, color='red')"
   ]
  },
  {
   "cell_type": "code",
   "execution_count": null,
   "id": "8a88b2f6",
   "metadata": {},
   "outputs": [],
   "source": [
    "draw(Q, Qs, -2, 2, 'f(x) = x*x')"
   ]
  },
  {
   "cell_type": "markdown",
   "id": "3578f110",
   "metadata": {},
   "source": [
    "We try a function that is slightly more complicated next.\n",
    "The function `S` implements the [sigmoid function](https://en.wikipedia.org/wiki/Sigmoid_function), which is defined as\n",
    "$$ \\texttt{S}(x) = \\frac{1}{1 + \\mathrm{e}^{-x}}. $$"
   ]
  },
  {
   "cell_type": "code",
   "execution_count": null,
   "id": "1fb9fb1a",
   "metadata": {},
   "outputs": [],
   "source": [
    "def S(x):\n",
    "    return 1.0 / (1.0 + np.exp(-x))"
   ]
  },
  {
   "cell_type": "markdown",
   "id": "7f7c855e",
   "metadata": {},
   "source": [
    "The function `S_prime` computes the [derivative](https://en.wikipedia.org/wiki/Derivative) of the Sigmoid function.  We implement it using *automatic differentiation*.  This is the closest thing to magic I have seen yet."
   ]
  },
  {
   "cell_type": "code",
   "execution_count": null,
   "id": "98a3f134",
   "metadata": {},
   "outputs": [],
   "source": [
    "S_prime = ag.grad(S)"
   ]
  },
  {
   "cell_type": "markdown",
   "id": "d0f5f0aa",
   "metadata": {},
   "source": [
    "Next, we plot both the sigmoid function and its derivative."
   ]
  },
  {
   "cell_type": "code",
   "execution_count": null,
   "id": "ca1b4890",
   "metadata": {},
   "outputs": [],
   "source": [
    "draw(S, S_prime, -6, 6, 'f(x) = 1/(1 + exp(-x))')"
   ]
  },
  {
   "cell_type": "markdown",
   "id": "220a4fab",
   "metadata": {},
   "source": [
    "The cool thing about `autograd` is that it can take the derivative of any Python function, provided this function is differentiable.\n",
    "For example, the function `mySqrt(x)` computes the square root of `x` using [Newton's method](https://en.wikipedia.org/wiki/Newton%27s_method).\n",
    "It defines the sequence $(r_n)_{n\\in\\mathbb{N}}$ as\n",
    "- $\\displaystyle r_0 = \\frac{ 1}{2} \\cdot x$ and\n",
    "- $\\displaystyle r_{n+1} = \\frac{1}{2} \\cdot \\Bigl(r_n + \\frac{x}{r_n}\\Bigr)$.\n",
    "\n",
    "This sequence converges to the square root of $x$:\n",
    "$$ \\lim\\limits_{n\\rightarrow\\infty} r_n = \\sqrt{x} $$"
   ]
  },
  {
   "cell_type": "code",
   "execution_count": null,
   "id": "3aeb4b1b",
   "metadata": {},
   "outputs": [],
   "source": [
    "def mySqrt(x): \n",
    "    root = x\n",
    "    eps  = 2.0e-15\n",
    "    while abs(x - root * root) > eps:\n",
    "        root = 0.5 * (root + x / root)    \n",
    "    return root"
   ]
  },
  {
   "cell_type": "code",
   "execution_count": null,
   "id": "aa8fdb4a",
   "metadata": {},
   "outputs": [],
   "source": [
    "mySqrtGrad = ag.grad(mySqrt)"
   ]
  },
  {
   "cell_type": "markdown",
   "id": "b7730849",
   "metadata": {},
   "source": [
    "As we have\n",
    "$$ \\frac{\\mathrm{d}\\; }{\\mathrm{d} x}\\sqrt{x} = \\frac{1}{2} \\cdot \\frac{1}{\\sqrt{x}}, $$\n",
    "the derivative is undefined for $x=0$.  Hence we draw the function for $x \\geq 0.05$."
   ]
  },
  {
   "cell_type": "code",
   "execution_count": null,
   "id": "a86e23bd",
   "metadata": {},
   "outputs": [],
   "source": [
    "draw(mySqrt, mySqrtGrad, 0.05, 4, 'f(x) = sqrt(x)')"
   ]
  },
  {
   "cell_type": "markdown",
   "id": "844acbf0",
   "metadata": {},
   "source": [
    "Unfortunately, `autograd` has its limitations, as shown by the next cell."
   ]
  },
  {
   "cell_type": "code",
   "execution_count": null,
   "id": "7034d61d",
   "metadata": {},
   "outputs": [],
   "source": [
    "mySqrtGrad(1.0)"
   ]
  },
  {
   "cell_type": "markdown",
   "id": "423ef84d",
   "metadata": {},
   "source": [
    "The reason for this bug is that when `mySqrt` is called with the argument `1.0`, it just returns the value `x`, since the `while` loop is never executed because the condition `abs(x - root * root) > eps` is `False`.  If we rewrite the function `mySqrt` so that the body of the `while` loop is executed at least once, then the problem disapears."
   ]
  },
  {
   "cell_type": "code",
   "execution_count": null,
   "id": "2795f29e",
   "metadata": {},
   "outputs": [],
   "source": [
    "def mySqrt(x): \n",
    "    root = x\n",
    "    eps  = 2.0e-15\n",
    "    while True:\n",
    "        root = 0.5 * (root + x / root)\n",
    "        if abs(x - root * root) < eps:\n",
    "            return root"
   ]
  },
  {
   "cell_type": "code",
   "execution_count": null,
   "id": "6862c965",
   "metadata": {},
   "outputs": [],
   "source": [
    "mySqrtGrad = ag.grad(mySqrt)"
   ]
  },
  {
   "cell_type": "code",
   "execution_count": null,
   "id": "cfefaa8b",
   "metadata": {},
   "outputs": [],
   "source": [
    "mySqrtGrad(1.0)"
   ]
  },
  {
   "cell_type": "markdown",
   "id": "04e14bde",
   "metadata": {},
   "source": [
    "## Implementing Newton's Method with `autograd`\n",
    "\n",
    "[Newton's method](https://en.wikipedia.org/wiki/Newton%27s_method) for solving an equation of the form\n",
    "$$  f(x) = 0 $$\n",
    "defines a sequence $(x_n)_{n\\in\\mathbb{N}}$ inductively:\n",
    "* $x_0 = 1.0$\n",
    "* $x_{n+1} = x_n - \\frac{\\displaystyle f(x_n)}{\\displaystyle f'(x_n)}$  \n",
    " \n",
    "Then, if the function $f$ is convex, twice differentiable, and has a change of sign, then the limit \n",
    "$$ \\bar{x} = \\lim\\limits_{n\\rightarrow\\infty} x_n $$\n",
    "satisfies $f(\\bar{x}) = 0$.\n",
    "\n",
    "The function `newton` takes a function `f` and computes the \n",
    "value `x` such that $f(x) = 0$ using Newton's method.  Note that it uses the `grad` function to compute\n",
    "the derivative of `f`:"
   ]
  },
  {
   "cell_type": "code",
   "execution_count": null,
   "id": "ebfc0b60",
   "metadata": {},
   "outputs": [],
   "source": [
    "def newton(f):\n",
    "    fs  = ag.grad(f)\n",
    "    x   = 1.0 \n",
    "    eps = 1.0e-14\n",
    "    while True:\n",
    "        x = x - f(x) / fs(x)\n",
    "        if abs(f(x)) <= eps:\n",
    "            return x\n",
    "    return x"
   ]
  },
  {
   "cell_type": "markdown",
   "id": "3013091a",
   "metadata": {},
   "source": [
    "We proceed to solve the equation\n",
    "$$ \\cos(x) - x = 0. $$\n",
    "To this end we define the function $f(x) = \\cos(x) - x$."
   ]
  },
  {
   "cell_type": "code",
   "execution_count": null,
   "id": "dcfd3546",
   "metadata": {},
   "outputs": [],
   "source": [
    "def f(x): \n",
    "    return np.cos(x) - x"
   ]
  },
  {
   "cell_type": "code",
   "execution_count": null,
   "id": "3b46f3dc",
   "metadata": {},
   "outputs": [],
   "source": [
    "draw(f, ag.grad(f), -0.5, 1.5, 'f(x) = cos(x) - x')"
   ]
  },
  {
   "cell_type": "markdown",
   "id": "1f188412",
   "metadata": {},
   "source": [
    "Let us find the root of this function."
   ]
  },
  {
   "cell_type": "code",
   "execution_count": null,
   "id": "6b6bdc82",
   "metadata": {},
   "outputs": [],
   "source": [
    "x = newton(f)\n",
    "x"
   ]
  },
  {
   "cell_type": "code",
   "execution_count": null,
   "id": "3b09269a",
   "metadata": {},
   "outputs": [],
   "source": [
    "f(x)"
   ]
  },
  {
   "cell_type": "code",
   "execution_count": null,
   "id": "25c0a3a0",
   "metadata": {},
   "outputs": [],
   "source": []
  }
 ],
 "metadata": {
  "kernelspec": {
   "display_name": "Python 3 (ipykernel)",
   "language": "python",
   "name": "python3"
  },
  "language_info": {
   "codemirror_mode": {
    "name": "ipython",
    "version": 3
   },
   "file_extension": ".py",
   "mimetype": "text/x-python",
   "name": "python",
   "nbconvert_exporter": "python",
   "pygments_lexer": "ipython3",
   "version": "3.10.8"
  }
 },
 "nbformat": 4,
 "nbformat_minor": 5
}
