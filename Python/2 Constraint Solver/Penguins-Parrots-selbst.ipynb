{
 "cells": [
  {
   "cell_type": "code",
   "execution_count": 22,
   "id": "84683fdc",
   "metadata": {},
   "outputs": [
    {
     "data": {
      "text/html": [
       "<link href='http://fonts.googleapis.com/css?family=Alegreya+Sans:100,300,400,500,700,800,900,100italic,300italic,400italic,500italic,700italic,800italic,900italic' rel='stylesheet' type='text/css'>\n",
       "<link href='http://fonts.googleapis.com/css?family=Arvo:400,700,400italic' rel='stylesheet' type='text/css'>\n",
       "<link href='http://fonts.googleapis.com/css?family=PT+Mono' rel='stylesheet' type='text/css'>\n",
       "<link href='http://fonts.googleapis.com/css?family=Shadows+Into+Light' rel='stylesheet' type='text/css'>\n",
       "<link href='http://fonts.googleapis.com/css?family=Philosopher:400,700,400italic,700italic' rel='stylesheet' type='text/css'>\n",
       "<link href=\"http://fonts.googleapis.com/css?family=Sacramento\" rel=\"stylesheet\" type=\"text/css\">\n",
       "\n",
       "<style>\n",
       "\n",
       "@font-face {\n",
       "    font-family: \"Computer Modern\";\n",
       "    src: url('http://mirrors.ctan.org/fonts/cm-unicode/fonts/otf/cmunss.otf');\n",
       "}\n",
       "\n",
       ".container { width: 100% }\n",
       "\n",
       "/* Formatting for header cells */\n",
       ".text_cell_render h1 {\n",
       "    font-family: 'Philosopher', sans-serif;\n",
       "    font-weight: 400;\n",
       "    font-size: 2.2em;\n",
       "    line-height: 100%;\n",
       "    color: rgb(0, 80, 120);\n",
       "    margin-bottom: 0.1em;\n",
       "    margin-top: 0.1em;\n",
       "    display: block;\n",
       "}\t\n",
       ".text_cell_render h2 {\n",
       "    font-family: 'Philosopher', serif;\n",
       "    font-weight: 400;\n",
       "    font-size: 1.9em;\n",
       "    line-height: 100%;\n",
       "    color: rgb(200,100,0);\n",
       "    margin-bottom: 0.1em;\n",
       "    margin-top: 0.1em;\n",
       "    display: block;\n",
       "}\t\n",
       "\n",
       ".text_cell_render h3 {\n",
       "    font-family: 'Philosopher', serif;\n",
       "    margin-top:12px;\n",
       "    margin-bottom: 3px;\n",
       "    font-style: italic;\n",
       "    color: rgb(94,127,192);\n",
       "}\n",
       "\n",
       ".text_cell_render h4 {\n",
       "    font-family: 'Philosopher', serif;\n",
       "}\n",
       "\n",
       ".text_cell_render h5 {\n",
       "    font-family: 'Alegreya Sans', sans-serif;\n",
       "    font-weight: 300;\n",
       "    font-size: 16pt;\n",
       "    color: grey;\n",
       "    font-style: italic;\n",
       "    margin-bottom: .1em;\n",
       "    margin-top: 0.1em;\n",
       "    display: block;\n",
       "}\n",
       "\n",
       ".text_cell_render h6 {\n",
       "    font-family: 'PT Mono', sans-serif;\n",
       "    font-weight: 300;\n",
       "    font-size: 10pt;\n",
       "    color: grey;\n",
       "    margin-bottom: 1px;\n",
       "    margin-top: 1px;\n",
       "}\n",
       "\n",
       ".text_cell_render em {\n",
       "    font-family: 'Philosopher', sans-serif;\n",
       "    color:        blue;\n",
       "    background-color: rgb(255,220,180);\n",
       "    font-size:    110%;\n",
       "    margin-left:   2px;\n",
       "    margin-right:  2px;\n",
       "    font-weight:   100;\n",
       "}\n",
       "\n",
       ".text_cell_render b {\n",
       "    color:            rgb(255,195,195);\n",
       "    background-color: rgb(0,0,0);\n",
       "    font-size:    110%;\n",
       "    margin-left:   2px;\n",
       "    margin-right:  2px;\n",
       "    font-weight:   650;\n",
       "}\n",
       "\n",
       ".text_cell_render u {\n",
       "    color:            blue;\n",
       "    font-size:    110%;\n",
       "    margin-left:   2px;\n",
       "    margin-right:  2px;\n",
       "    font-weight:   650;\n",
       "}\n",
       "\n",
       ".text_cell_render tt {\n",
       "    font-size:    120%;\n",
       "    margin-left:   2px;\n",
       "    margin-right:  2px;\n",
       "    font-weight:   150;\n",
       "}\n",
       "\n",
       ".Codemirror {\n",
       "    font-family: \"PT Mono\";\n",
       "    font-size: 100%;\n",
       "}\n",
       "\n",
       "#fancy {\n",
       "    font-family:      Georgia;\n",
       "    position:         relative;\n",
       "    float:            left;\n",
       "    border:           2px solid red;\n",
       "    width:            600px;\n",
       "    padding-left:     20px;\n",
       "    padding-right:    20px;\n",
       "    padding-top:      10px;\n",
       "    font-family:      'Sacramento', cursive;\n",
       "    font-size:        26px;\n",
       "    background-color: #F4EBF3;\n",
       "    border-radius:    15px;\n",
       "}\n",
       "\n",
       "</Style>\n",
       "\n"
      ],
      "text/plain": [
       "<IPython.core.display.HTML object>"
      ]
     },
     "execution_count": 22,
     "metadata": {},
     "output_type": "execute_result"
    }
   ],
   "source": [
    "from IPython.core.display import HTML\n",
    "with open('../style.css') as f:\n",
    "    css = f.read()\n",
    "HTML(css)"
   ]
  },
  {
   "attachments": {},
   "cell_type": "markdown",
   "id": "db7d38ac",
   "metadata": {},
   "source": [
    "**Exercise 6:** Solve the following text problem using Z3.\n",
    "\n",
    "(a) A Japanese deli offers both penguins and parrots.\n",
    "\n",
    "(b) A parrot and a penguin together cost 666 bucks.\n",
    "\n",
    "(c) The penguin costs 600 bucks more than the parrot.\n",
    "\n",
    "(d) What is the price of the parrot?"
   ]
  },
  {
   "cell_type": "markdown",
   "id": "2dc680f6",
   "metadata": {},
   "source": [
    "First, we have to install `Z3`.  This can be achieved via the following command:"
   ]
  },
  {
   "cell_type": "code",
   "execution_count": 23,
   "id": "6aa5bfbd",
   "metadata": {},
   "outputs": [
    {
     "name": "stdout",
     "output_type": "stream",
     "text": [
      "Requirement already satisfied: z3-solver in c:\\applications\\anaconda3\\envs\\ai\\lib\\site-packages (4.12.1.0)\n"
     ]
    }
   ],
   "source": [
    "!pip install z3-solver"
   ]
  },
  {
   "cell_type": "markdown",
   "id": "c4bbf097",
   "metadata": {},
   "source": [
    "Next, we import the Python API of `Z3`. "
   ]
  },
  {
   "cell_type": "code",
   "execution_count": 24,
   "id": "174da55b",
   "metadata": {},
   "outputs": [],
   "source": [
    "import z3"
   ]
  },
  {
   "cell_type": "code",
   "execution_count": 25,
   "id": "da6dd4d0",
   "metadata": {},
   "outputs": [],
   "source": [
    "pen  = z3.Int('pen')\n",
    "par = z3.Int('par')"
   ]
  },
  {
   "cell_type": "markdown",
   "id": "c2625602",
   "metadata": {},
   "source": [
    "Next, we create a *solver* object.  This is a constraint solver capable of solving constraint satisfaction problems."
   ]
  },
  {
   "cell_type": "code",
   "execution_count": 26,
   "id": "211739d3",
   "metadata": {},
   "outputs": [],
   "source": [
    "S = z3.Solver()"
   ]
  },
  {
   "cell_type": "code",
   "execution_count": 27,
   "id": "60da9c3e",
   "metadata": {},
   "outputs": [],
   "source": [
    "S.add(par + pen == 666)\n",
    "S.add(par + 600 == pen)"
   ]
  },
  {
   "cell_type": "markdown",
   "id": "b5c45e51",
   "metadata": {},
   "source": [
    "The method `check` examines whether the given set of constraints is satisfiable.\n",
    "In general, it can return one of the following results:\n",
    "- `sat`   is returned if the problem is solvable, (`sat` is short for *satisfiable*)\n",
    "- `unsat` is returned if the problem is unsatisfiable,\n",
    "- `unknown` is returned if the constraint solver is not powerful enough to solve the given problem.\n",
    "\n",
    "  In contrast to *ChatGPT*, `Z3` does not start to halucinate if it is unable to solve a given problem, but instead clearly states that it was unable to solve the problem."
   ]
  },
  {
   "cell_type": "code",
   "execution_count": 28,
   "id": "ae45fd4e",
   "metadata": {},
   "outputs": [
    {
     "name": "stdout",
     "output_type": "stream",
     "text": [
      "satisfiable\n"
     ]
    }
   ],
   "source": [
    "if str(S.check()) == 'sat':\n",
    "    print('satisfiable')"
   ]
  },
  {
   "cell_type": "markdown",
   "id": "a30cfba0",
   "metadata": {},
   "source": [
    "To extract the solution of the given problem we use the method `model`."
   ]
  },
  {
   "cell_type": "code",
   "execution_count": 29,
   "id": "95f5b419",
   "metadata": {},
   "outputs": [
    {
     "data": {
      "text/html": [
       "[pen = 633, par = 33]"
      ],
      "text/plain": [
       "[pen = 633, par = 33]"
      ]
     },
     "execution_count": 29,
     "metadata": {},
     "output_type": "execute_result"
    }
   ],
   "source": [
    "solution = S.model()\n",
    "solution"
   ]
  },
  {
   "cell_type": "code",
   "execution_count": 30,
   "id": "7fd3fe8c",
   "metadata": {},
   "outputs": [
    {
     "name": "stdout",
     "output_type": "stream",
     "text": [
      "Price of parrot: 33\n"
     ]
    }
   ],
   "source": [
    "rPen = solution[pen ].as_long()\n",
    "rPar = solution[par].as_long()\n",
    "\n",
    "print('Price of parrot:', rPar)"
   ]
  }
 ],
 "metadata": {
  "kernelspec": {
   "display_name": "ai",
   "language": "python",
   "name": "python3"
  },
  "language_info": {
   "codemirror_mode": {
    "name": "ipython",
    "version": 3
   },
   "file_extension": ".py",
   "mimetype": "text/x-python",
   "name": "python",
   "nbconvert_exporter": "python",
   "pygments_lexer": "ipython3",
   "version": "3.10.9"
  },
  "vscode": {
   "interpreter": {
    "hash": "382829856c9d31671001683bfc76aaf77df3a9d53293ee7d9ae2472432443635"
   }
  }
 },
 "nbformat": 4,
 "nbformat_minor": 5
}
