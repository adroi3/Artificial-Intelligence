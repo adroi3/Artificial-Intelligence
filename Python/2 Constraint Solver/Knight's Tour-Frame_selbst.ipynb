{
 "cells": [
  {
   "cell_type": "code",
   "execution_count": 91,
   "id": "92d1a960",
   "metadata": {},
   "outputs": [
    {
     "ename": "FileNotFoundError",
     "evalue": "[Errno 2] No such file or directory: 'style.css'",
     "output_type": "error",
     "traceback": [
      "\u001b[1;31m---------------------------------------------------------------------------\u001b[0m",
      "\u001b[1;31mFileNotFoundError\u001b[0m                         Traceback (most recent call last)",
      "Cell \u001b[1;32mIn[91], line 2\u001b[0m\n\u001b[0;32m      1\u001b[0m \u001b[38;5;28;01mfrom\u001b[39;00m \u001b[38;5;21;01mIPython\u001b[39;00m\u001b[38;5;21;01m.\u001b[39;00m\u001b[38;5;21;01mcore\u001b[39;00m\u001b[38;5;21;01m.\u001b[39;00m\u001b[38;5;21;01mdisplay\u001b[39;00m \u001b[38;5;28;01mimport\u001b[39;00m HTML\n\u001b[1;32m----> 2\u001b[0m \u001b[38;5;28;01mwith\u001b[39;00m \u001b[38;5;28;43mopen\u001b[39;49m\u001b[43m(\u001b[49m\u001b[38;5;124;43m'\u001b[39;49m\u001b[38;5;124;43mstyle.css\u001b[39;49m\u001b[38;5;124;43m'\u001b[39;49m\u001b[43m)\u001b[49m \u001b[38;5;28;01mas\u001b[39;00m f:\n\u001b[0;32m      3\u001b[0m     css \u001b[38;5;241m=\u001b[39m f\u001b[38;5;241m.\u001b[39mread()\n\u001b[0;32m      4\u001b[0m HTML(css)\n",
      "File \u001b[1;32mC:\\Applications\\anaconda3\\envs\\ai\\lib\\site-packages\\IPython\\core\\interactiveshell.py:282\u001b[0m, in \u001b[0;36m_modified_open\u001b[1;34m(file, *args, **kwargs)\u001b[0m\n\u001b[0;32m    275\u001b[0m \u001b[38;5;28;01mif\u001b[39;00m file \u001b[38;5;129;01min\u001b[39;00m {\u001b[38;5;241m0\u001b[39m, \u001b[38;5;241m1\u001b[39m, \u001b[38;5;241m2\u001b[39m}:\n\u001b[0;32m    276\u001b[0m     \u001b[38;5;28;01mraise\u001b[39;00m \u001b[38;5;167;01mValueError\u001b[39;00m(\n\u001b[0;32m    277\u001b[0m         \u001b[38;5;124mf\u001b[39m\u001b[38;5;124m\"\u001b[39m\u001b[38;5;124mIPython won\u001b[39m\u001b[38;5;124m'\u001b[39m\u001b[38;5;124mt let you open fd=\u001b[39m\u001b[38;5;132;01m{\u001b[39;00mfile\u001b[38;5;132;01m}\u001b[39;00m\u001b[38;5;124m by default \u001b[39m\u001b[38;5;124m\"\u001b[39m\n\u001b[0;32m    278\u001b[0m         \u001b[38;5;124m\"\u001b[39m\u001b[38;5;124mas it is likely to crash IPython. If you know what you are doing, \u001b[39m\u001b[38;5;124m\"\u001b[39m\n\u001b[0;32m    279\u001b[0m         \u001b[38;5;124m\"\u001b[39m\u001b[38;5;124myou can use builtins\u001b[39m\u001b[38;5;124m'\u001b[39m\u001b[38;5;124m open.\u001b[39m\u001b[38;5;124m\"\u001b[39m\n\u001b[0;32m    280\u001b[0m     )\n\u001b[1;32m--> 282\u001b[0m \u001b[38;5;28;01mreturn\u001b[39;00m io_open(file, \u001b[38;5;241m*\u001b[39margs, \u001b[38;5;241m*\u001b[39m\u001b[38;5;241m*\u001b[39mkwargs)\n",
      "\u001b[1;31mFileNotFoundError\u001b[0m: [Errno 2] No such file or directory: 'style.css'"
     ]
    }
   ],
   "source": [
    "from IPython.core.display import HTML\n",
    "with open('style.css') as f:\n",
    "    css = f.read()\n",
    "HTML(css)"
   ]
  },
  {
   "cell_type": "code",
   "execution_count": 92,
   "id": "4c23a19b",
   "metadata": {},
   "outputs": [],
   "source": [
    "import copy"
   ]
  },
  {
   "cell_type": "markdown",
   "id": "40393be4",
   "metadata": {},
   "source": [
    "# The Knight's Tour\n",
    "\n",
    "This notebook computes a solution to the [knight's tour](https://en.wikipedia.org/wiki/Knight%27s_tour) via backtracking.  "
   ]
  },
  {
   "cell_type": "markdown",
   "id": "70c6bb79",
   "metadata": {},
   "source": [
    "The function `generate_moves` returns a list of pairs representing all possible moves of a knight on a chess board.\n",
    "Each move is represented as a pair `(row_increment, col_increment)`.  If the knight is at the position `(row, col)` before the move, then its position after the move is `(row + row_increment, col + col_increment)`. "
   ]
  },
  {
   "cell_type": "code",
   "execution_count": 93,
   "id": "192e1f42",
   "metadata": {},
   "outputs": [],
   "source": [
    "def generate_moves():\n",
    "    Range = [-2, -1, 1, 2]\n",
    "    return [(row, col) for row in Range \n",
    "                       for col in Range\n",
    "                       if abs(row) != abs(col)\n",
    "           ]"
   ]
  },
  {
   "cell_type": "code",
   "execution_count": 94,
   "id": "0775e20d",
   "metadata": {},
   "outputs": [
    {
     "data": {
      "text/plain": [
       "[(-2, -1), (-2, 1), (-1, -2), (-1, 2), (1, -2), (1, 2), (2, -1), (2, 1)]"
      ]
     },
     "execution_count": 94,
     "metadata": {},
     "output_type": "execute_result"
    }
   ],
   "source": [
    "generate_moves()"
   ]
  },
  {
   "cell_type": "markdown",
   "id": "1074c1cc",
   "metadata": {},
   "source": [
    "The function `knights_tour` computes a sequence of moves of a knight on a chess board that starts in `(row, col)` and moves successively to all squares of the board.  \n",
    "- `row` and `col` specify the current position of the knight. These are numbers from the set $\\{0,\\cdots,n-1\\}$ where $n$ is the size of the board.\n",
    "- `k` is the number of squares that have already been visited.  Initially,\n",
    "  we have `k == 1`.  The variable `k` is incremented on every recursive\n",
    "  invocation of the function `knights_tour`.\n",
    "- `Board` is a list of lists representing the moves on the chess board.  We have that\n",
    "  `Board[row][col] = k` if the knight visits the position `(row, col)` in step `k`.\n",
    "- `Moves` is the list of moves a knight can take.  The contend of this variable is created by the function `generate_moves`.\n",
    "- `n` is the size of the board."
   ]
  },
  {
   "cell_type": "code",
   "execution_count": 105,
   "id": "9d7cf10d",
   "metadata": {},
   "outputs": [],
   "source": [
    "def knights_tour(row, col, k, Board, Moves, n):\n",
    "    if k == n**2:      \n",
    "        return True\n",
    "    \n",
    "    for move in Moves:\n",
    "        if n > row + move[0] >= 0 and n > col + move[1] >= 0:\n",
    "            if Board[row + move[0]][col + move[1]] == 0:\n",
    "            \n",
    "                Board[row + move[0]][col + move[1]] = k+1\n",
    "                \n",
    "                result = knights_tour(row + move[0], col + move[1], k+1, Board, Moves, n)\n",
    "                \n",
    "                if result:\n",
    "                    return True\n",
    "                \n",
    "                Board[row + move[0]][col + move[1]] = 0\n",
    "    return False"
   ]
  },
  {
   "cell_type": "code",
   "execution_count": 96,
   "id": "ccfce63a",
   "metadata": {},
   "outputs": [
    {
     "data": {
      "text/plain": [
       "([[1, 18, 5, 10, 3],\n",
       "  [6, 11, 2, 19, 14],\n",
       "  [17, 22, 13, 4, 9],\n",
       "  [12, 7, 24, 15, 20],\n",
       "  [23, 16, 21, 8, 25]],\n",
       " True)"
      ]
     },
     "execution_count": 96,
     "metadata": {},
     "output_type": "execute_result"
    }
   ],
   "source": [
    "Board = [[0 for col in range(0, 5)] for row in range(0, 5)] \n",
    "Board[0][0] = 1\n",
    "Moves = generate_moves()\n",
    "res = knights_tour(0, 0, 1, Board, Moves, 5)\n",
    "Board, res"
   ]
  },
  {
   "cell_type": "markdown",
   "id": "e5ecda56",
   "metadata": {},
   "source": [
    "The method `solve(start_row, start_col, n)` tries to compute a *knight's tour* for a board of size $n \\times n$.\n",
    "`(start_row, start_col)` is the start position of the knight."
   ]
  },
  {
   "cell_type": "code",
   "execution_count": 97,
   "id": "f2a41355",
   "metadata": {},
   "outputs": [],
   "source": [
    "def solve(start_row, start_col, n):\n",
    "    # generate empty board\n",
    "    Board = [[0 for col in range(0, n)] for row in range(0, n)] \n",
    "    # place the knight on its start position\n",
    "    Board[start_row][start_col] = 1\n",
    "    Moves = generate_moves()\n",
    "    if knights_tour(start_row, start_col, 1, Board, Moves, n):\n",
    "        return Board\n",
    "    else:\n",
    "        return None"
   ]
  },
  {
   "cell_type": "markdown",
   "id": "53f04fd4",
   "metadata": {},
   "source": [
    "If the knight starts at the left topmost corner of a chessboard, that is at the position `(0, 0)`, a tour can be found in about 27 seconds on my *Apple Studio* computer.  For the $5 \\times 5$ version of the problem, the solution can be found in less than 10 milliseconds."
   ]
  },
  {
   "cell_type": "code",
   "execution_count": 98,
   "id": "ed214986",
   "metadata": {},
   "outputs": [
    {
     "name": "stdout",
     "output_type": "stream",
     "text": [
      "CPU times: total: 15.6 ms\n",
      "Wall time: 26.5 ms\n"
     ]
    },
    {
     "data": {
      "text/plain": [
       "[[1, 18, 5, 10, 3],\n",
       " [6, 11, 2, 19, 14],\n",
       " [17, 22, 13, 4, 9],\n",
       " [12, 7, 24, 15, 20],\n",
       " [23, 16, 21, 8, 25]]"
      ]
     },
     "execution_count": 98,
     "metadata": {},
     "output_type": "execute_result"
    }
   ],
   "source": [
    "%%time\n",
    "Board = solve(0, 0, 5)\n",
    "Board"
   ]
  },
  {
   "cell_type": "markdown",
   "id": "c08111d0",
   "metadata": {},
   "source": [
    "The function `print_board(Board)` prints the given `Board`."
   ]
  },
  {
   "cell_type": "code",
   "execution_count": 99,
   "id": "beb0c8f3",
   "metadata": {},
   "outputs": [],
   "source": [
    "def print_board(Board):\n",
    "    n = len(Board)\n",
    "    # Determine the width of the widest element in the matrix\n",
    "    width = max([ len(str(element)) for row in Board\n",
    "                                    for element in row\n",
    "                ])\n",
    "    # Create the top and bottom of the matrix\n",
    "    top_line = '╔'\n",
    "    for i in range(n - 1):\n",
    "        top_line += '=' * (width + 2) + '╦'\n",
    "    top_line += '=' * (width + 2) + '╗'\n",
    "    mid_line = '╠'\n",
    "    for i in range(n - 1):\n",
    "        mid_line += '=' * (width + 2) + '╬'\n",
    "    mid_line += '=' * (width + 2) + '╣'    \n",
    "    bot_line = '╚'\n",
    "    for i in range(n - 1):\n",
    "        bot_line += '=' * (width + 2) + '╩'\n",
    "    bot_line += '=' * (width + 2) + '╝'\n",
    "    # Print the top of the matrix\n",
    "    print(top_line)\n",
    "    # Iterate through the rows and columns of the matrix, and print\n",
    "    # each element with proper padding\n",
    "    for i, row in enumerate(Board):\n",
    "        line = '\\u2551'\n",
    "        for element in row:\n",
    "            line += f' {element:>{width}} ║'\n",
    "        print(line)\n",
    "        # Print a horizontal line\n",
    "        if i < len(Board) - 1:\n",
    "            print(mid_line)\n",
    "    # Print the bottom of the matrix\n",
    "    print(bot_line)"
   ]
  },
  {
   "cell_type": "code",
   "execution_count": 100,
   "id": "84285963",
   "metadata": {
    "scrolled": false
   },
   "outputs": [
    {
     "name": "stdout",
     "output_type": "stream",
     "text": [
      "╔====╦====╦====╦====╦====╗\n",
      "║  1 ║ 18 ║  5 ║ 10 ║  3 ║\n",
      "╠====╬====╬====╬====╬====╣\n",
      "║  6 ║ 11 ║  2 ║ 19 ║ 14 ║\n",
      "╠====╬====╬====╬====╬====╣\n",
      "║ 17 ║ 22 ║ 13 ║  4 ║  9 ║\n",
      "╠====╬====╬====╬====╬====╣\n",
      "║ 12 ║  7 ║ 24 ║ 15 ║ 20 ║\n",
      "╠====╬====╬====╬====╬====╣\n",
      "║ 23 ║ 16 ║ 21 ║  8 ║ 25 ║\n",
      "╚====╩====╩====╩====╩====╝\n"
     ]
    }
   ],
   "source": [
    "print_board(Board)"
   ]
  },
  {
   "cell_type": "markdown",
   "id": "c368894c",
   "metadata": {},
   "source": [
    "# Visualization"
   ]
  },
  {
   "cell_type": "markdown",
   "id": "0a79698c",
   "metadata": {},
   "source": [
    "If you have not yet installed `chess-problem-visuals` you have to uncomment the following line."
   ]
  },
  {
   "cell_type": "code",
   "execution_count": 106,
   "id": "66ade675",
   "metadata": {},
   "outputs": [
    {
     "name": "stdout",
     "output_type": "stream",
     "text": [
      "Collecting git+https://github.com/reclinarka/chess-problem-visuals\n",
      "  Cloning https://github.com/reclinarka/chess-problem-visuals to c:\\users\\david hedtke\\appdata\\local\\temp\\pip-req-build-nznqixxu\n",
      "  Resolved https://github.com/reclinarka/chess-problem-visuals to commit 48d95c27924c2c7e9daf5d57ed52644527bd291d\n",
      "  Preparing metadata (setup.py): started\n",
      "  Preparing metadata (setup.py): finished with status 'done'\n"
     ]
    },
    {
     "name": "stderr",
     "output_type": "stream",
     "text": [
      "  Running command git clone --filter=blob:none --quiet https://github.com/reclinarka/chess-problem-visuals 'C:\\Users\\David Hedtke\\AppData\\Local\\Temp\\pip-req-build-nznqixxu'\n"
     ]
    }
   ],
   "source": [
    "#!pip install git+https://github.com/reclinarka/chess-problem-visuals"
   ]
  },
  {
   "cell_type": "code",
   "execution_count": 107,
   "id": "121ac664",
   "metadata": {},
   "outputs": [],
   "source": [
    "from chess_problem_visuals import problem_board"
   ]
  },
  {
   "cell_type": "markdown",
   "id": "5cf0a8fc",
   "metadata": {},
   "source": [
    "The function `show_solution` displays the given solution on a chessboard.\n",
    "The solution `Board` is represented as a list of lists.  We have `Board[row][col] == k` if the $k^\\textrm{th}$ move leads the knight to the position `(row, col)`."
   ]
  },
  {
   "cell_type": "code",
   "execution_count": 110,
   "id": "b03f7ab7",
   "metadata": {
    "scrolled": false
   },
   "outputs": [],
   "source": [
    "def show_solution(Board, width=\"50%\"):\n",
    "    n         = len(Board)\n",
    "    Positions = {}\n",
    "    for row in range(n):\n",
    "        for col in range(n):\n",
    "            k = Board[row][col]\n",
    "            Positions[k] = (row, col)\n",
    "    Path = []\n",
    "    for k in range(1, n*n+1):\n",
    "        Path.append(Positions[k])\n",
    "    Visual = problem_board(n, K_start=Positions[1], K_path=Path, \n",
    "                           html_width=width, \n",
    "                           arrow_color=\"blue\", \n",
    "                           arrow_width=0.1)\n",
    "    return Visual"
   ]
  },
  {
   "cell_type": "code",
   "execution_count": 111,
   "id": "62d57b5b",
   "metadata": {},
   "outputs": [
    {
     "data": {
      "text/html": [
       "<div style='width:50%'><svg xmlns=\"http://www.w3.org/2000/svg\" xmlns:xlink=\"http://www.w3.org/1999/xlink\" version=\"1.2\" baseProfile=\"tiny\" viewBox=\"0 0 80 80\"><defs><g id=\"black-bishop\" class=\"black bishop\" fill=\"none\" fill-rule=\"evenodd\" stroke=\"#000\" stroke-width=\"1.5\" stroke-linecap=\"round\" stroke-linejoin=\"round\"><path d=\"M9 36c3.39-.97 10.11.43 13.5-2 3.39 2.43 10.11 1.03 13.5 2 0 0 1.65.54 3 2-.68.97-1.65.99-3 .5-3.39-.97-10.11.46-13.5-1-3.39 1.46-10.11.03-13.5 1-1.354.49-2.323.47-3-.5 1.354-1.94 3-2 3-2zm6-4c2.5 2.5 12.5 2.5 15 0 .5-1.5 0-2 0-2 0-2.5-2.5-4-2.5-4 5.5-1.5 6-11.5-5-15.5-11 4-10.5 14-5 15.5 0 0-2.5 1.5-2.5 4 0 0-.5.5 0 2zM25 8a2.5 2.5 0 1 1-5 0 2.5 2.5 0 1 1 5 0z\" fill=\"#000\" stroke-linecap=\"butt\" /><path d=\"M17.5 26h10M15 30h15m-7.5-14.5v5M20 18h5\" stroke=\"#fff\" stroke-linejoin=\"miter\" /></g><g id=\"black-king\" class=\"black king\" fill=\"none\" fill-rule=\"evenodd\" stroke=\"#000\" stroke-width=\"1.5\" stroke-linecap=\"round\" stroke-linejoin=\"round\"><path d=\"M22.5 11.63V6\" stroke-linejoin=\"miter\" /><path d=\"M22.5 25s4.5-7.5 3-10.5c0 0-1-2.5-3-2.5s-3 2.5-3 2.5c-1.5 3 3 10.5 3 10.5\" fill=\"#000\" stroke-linecap=\"butt\" stroke-linejoin=\"miter\" /><path d=\"M11.5 37c5.5 3.5 15.5 3.5 21 0v-7s9-4.5 6-10.5c-4-6.5-13.5-3.5-16 4V27v-3.5c-3.5-7.5-13-10.5-16-4-3 6 5 10 5 10V37z\" fill=\"#000\" /><path d=\"M20 8h5\" stroke-linejoin=\"miter\" /><path d=\"M32 29.5s8.5-4 6.03-9.65C34.15 14 25 18 22.5 24.5l.01 2.1-.01-2.1C20 18 9.906 14 6.997 19.85c-2.497 5.65 4.853 9 4.853 9M11.5 30c5.5-3 15.5-3 21 0m-21 3.5c5.5-3 15.5-3 21 0m-21 3.5c5.5-3 15.5-3 21 0\" stroke=\"#fff\" /></g><g id=\"black-knight\" class=\"black knight\" fill=\"none\" fill-rule=\"evenodd\" stroke=\"#000\" stroke-width=\"1.5\" stroke-linecap=\"round\" stroke-linejoin=\"round\"><path d=\"M 22,10 C 32.5,11 38.5,18 38,39 L 15,39 C 15,30 25,32.5 23,18\" style=\"fill:#000000; stroke:#000000;\" /><path d=\"M 24,18 C 24.38,20.91 18.45,25.37 16,27 C 13,29 13.18,31.34 11,31 C 9.958,30.06 12.41,27.96 11,28 C 10,28 11.19,29.23 10,30 C 9,30 5.997,31 6,26 C 6,24 12,14 12,14 C 12,14 13.89,12.1 14,10.5 C 13.27,9.506 13.5,8.5 13.5,7.5 C 14.5,6.5 16.5,10 16.5,10 L 18.5,10 C 18.5,10 19.28,8.008 21,7 C 22,7 22,10 22,10\" style=\"fill:#000000; stroke:#000000;\" /><path d=\"M 9.5 25.5 A 0.5 0.5 0 1 1 8.5,25.5 A 0.5 0.5 0 1 1 9.5 25.5 z\" style=\"fill:#ececec; stroke:#ececec;\" /><path d=\"M 15 15.5 A 0.5 1.5 0 1 1 14,15.5 A 0.5 1.5 0 1 1 15 15.5 z\" transform=\"matrix(0.866,0.5,-0.5,0.866,9.693,-5.173)\" style=\"fill:#ececec; stroke:#ececec;\" /><path d=\"M 24.55,10.4 L 24.1,11.85 L 24.6,12 C 27.75,13 30.25,14.49 32.5,18.75 C 34.75,23.01 35.75,29.06 35.25,39 L 35.2,39.5 L 37.45,39.5 L 37.5,39 C 38,28.94 36.62,22.15 34.25,17.66 C 31.88,13.17 28.46,11.02 25.06,10.5 L 24.55,10.4 z \" style=\"fill:#ececec; stroke:none;\" /></g><g id=\"black-pawn\" class=\"black pawn\"><path d=\"M22.5 9c-2.21 0-4 1.79-4 4 0 .89.29 1.71.78 2.38C17.33 16.5 16 18.59 16 21c0 2.03.94 3.84 2.41 5.03-3 1.06-7.41 5.55-7.41 13.47h23c0-7.92-4.41-12.41-7.41-13.47 1.47-1.19 2.41-3 2.41-5.03 0-2.41-1.33-4.5-3.28-5.62.49-.67.78-1.49.78-2.38 0-2.21-1.79-4-4-4z\" fill=\"#000\" stroke=\"#000\" stroke-width=\"1.5\" stroke-linecap=\"round\" /></g><g id=\"black-queen\" class=\"black queen\" fill=\"#000\" fill-rule=\"evenodd\" stroke=\"#000\" stroke-width=\"1.5\" stroke-linecap=\"round\" stroke-linejoin=\"round\"><g fill=\"#000\" stroke=\"none\"><circle cx=\"6\" cy=\"12\" r=\"2.75\" /><circle cx=\"14\" cy=\"9\" r=\"2.75\" /><circle cx=\"22.5\" cy=\"8\" r=\"2.75\" /><circle cx=\"31\" cy=\"9\" r=\"2.75\" /><circle cx=\"39\" cy=\"12\" r=\"2.75\" /></g><path d=\"M9 26c8.5-1.5 21-1.5 27 0l2.5-12.5L31 25l-.3-14.1-5.2 13.6-3-14.5-3 14.5-5.2-13.6L14 25 6.5 13.5 9 26zM9 26c0 2 1.5 2 2.5 4 1 1.5 1 1 .5 3.5-1.5 1-1.5 2.5-1.5 2.5-1.5 1.5.5 2.5.5 2.5 6.5 1 16.5 1 23 0 0 0 1.5-1 0-2.5 0 0 .5-1.5-1-2.5-.5-2.5-.5-2 .5-3.5 1-2 2.5-2 2.5-4-8.5-1.5-18.5-1.5-27 0z\" stroke-linecap=\"butt\" /><path d=\"M11 38.5a35 35 1 0 0 23 0\" fill=\"none\" stroke-linecap=\"butt\" /><path d=\"M11 29a35 35 1 0 1 23 0M12.5 31.5h20M11.5 34.5a35 35 1 0 0 22 0M10.5 37.5a35 35 1 0 0 24 0\" fill=\"none\" stroke=\"#fff\" /></g><g id=\"black-rook\" class=\"black rook\" fill=\"#000\" fill-rule=\"evenodd\" stroke=\"#000\" stroke-width=\"1.5\" stroke-linecap=\"round\" stroke-linejoin=\"round\"><path d=\"M9 39h27v-3H9v3zM12.5 32l1.5-2.5h17l1.5 2.5h-20zM12 36v-4h21v4H12z\" stroke-linecap=\"butt\" /><path d=\"M14 29.5v-13h17v13H14z\" stroke-linecap=\"butt\" stroke-linejoin=\"miter\" /><path d=\"M14 16.5L11 14h23l-3 2.5H14zM11 14V9h4v2h5V9h5v2h5V9h4v5H11z\" stroke-linecap=\"butt\" /><path d=\"M12 35.5h21M13 31.5h19M14 29.5h17M14 16.5h17M11 14h23\" fill=\"none\" stroke=\"#fff\" stroke-width=\"1\" stroke-linejoin=\"miter\" /></g><g id=\"white-bishop\" class=\"white bishop\" fill=\"none\" fill-rule=\"evenodd\" stroke=\"#000\" stroke-width=\"1.5\" stroke-linecap=\"round\" stroke-linejoin=\"round\"><g fill=\"#fff\" stroke-linecap=\"butt\"><path d=\"M9 36c3.39-.97 10.11.43 13.5-2 3.39 2.43 10.11 1.03 13.5 2 0 0 1.65.54 3 2-.68.97-1.65.99-3 .5-3.39-.97-10.11.46-13.5-1-3.39 1.46-10.11.03-13.5 1-1.354.49-2.323.47-3-.5 1.354-1.94 3-2 3-2zM15 32c2.5 2.5 12.5 2.5 15 0 .5-1.5 0-2 0-2 0-2.5-2.5-4-2.5-4 5.5-1.5 6-11.5-5-15.5-11 4-10.5 14-5 15.5 0 0-2.5 1.5-2.5 4 0 0-.5.5 0 2zM25 8a2.5 2.5 0 1 1-5 0 2.5 2.5 0 1 1 5 0z\" /></g><path d=\"M17.5 26h10M15 30h15m-7.5-14.5v5M20 18h5\" stroke-linejoin=\"miter\" /></g><g id=\"white-king\" class=\"white king\" fill=\"none\" fill-rule=\"evenodd\" stroke=\"#000\" stroke-width=\"1.5\" stroke-linecap=\"round\" stroke-linejoin=\"round\"><path d=\"M22.5 11.63V6M20 8h5\" stroke-linejoin=\"miter\" /><path d=\"M22.5 25s4.5-7.5 3-10.5c0 0-1-2.5-3-2.5s-3 2.5-3 2.5c-1.5 3 3 10.5 3 10.5\" fill=\"#fff\" stroke-linecap=\"butt\" stroke-linejoin=\"miter\" /><path d=\"M11.5 37c5.5 3.5 15.5 3.5 21 0v-7s9-4.5 6-10.5c-4-6.5-13.5-3.5-16 4V27v-3.5c-3.5-7.5-13-10.5-16-4-3 6 5 10 5 10V37z\" fill=\"#fff\" /><path d=\"M11.5 30c5.5-3 15.5-3 21 0m-21 3.5c5.5-3 15.5-3 21 0m-21 3.5c5.5-3 15.5-3 21 0\" /></g><g id=\"white-knight\" class=\"white knight\" fill=\"none\" fill-rule=\"evenodd\" stroke=\"#000\" stroke-width=\"1.5\" stroke-linecap=\"round\" stroke-linejoin=\"round\"><path d=\"M 22,10 C 32.5,11 38.5,18 38,39 L 15,39 C 15,30 25,32.5 23,18\" style=\"fill:#ffffff; stroke:#000000;\" /><path d=\"M 24,18 C 24.38,20.91 18.45,25.37 16,27 C 13,29 13.18,31.34 11,31 C 9.958,30.06 12.41,27.96 11,28 C 10,28 11.19,29.23 10,30 C 9,30 5.997,31 6,26 C 6,24 12,14 12,14 C 12,14 13.89,12.1 14,10.5 C 13.27,9.506 13.5,8.5 13.5,7.5 C 14.5,6.5 16.5,10 16.5,10 L 18.5,10 C 18.5,10 19.28,8.008 21,7 C 22,7 22,10 22,10\" style=\"fill:#ffffff; stroke:#000000;\" /><path d=\"M 9.5 25.5 A 0.5 0.5 0 1 1 8.5,25.5 A 0.5 0.5 0 1 1 9.5 25.5 z\" style=\"fill:#000000; stroke:#000000;\" /><path d=\"M 15 15.5 A 0.5 1.5 0 1 1 14,15.5 A 0.5 1.5 0 1 1 15 15.5 z\" transform=\"matrix(0.866,0.5,-0.5,0.866,9.693,-5.173)\" style=\"fill:#000000; stroke:#000000;\" /></g><g id=\"white-pawn\" class=\"white pawn\"><path d=\"M22.5 9c-2.21 0-4 1.79-4 4 0 .89.29 1.71.78 2.38C17.33 16.5 16 18.59 16 21c0 2.03.94 3.84 2.41 5.03-3 1.06-7.41 5.55-7.41 13.47h23c0-7.92-4.41-12.41-7.41-13.47 1.47-1.19 2.41-3 2.41-5.03 0-2.41-1.33-4.5-3.28-5.62.49-.67.78-1.49.78-2.38 0-2.21-1.79-4-4-4z\" fill=\"#fff\" stroke=\"#000\" stroke-width=\"1.5\" stroke-linecap=\"round\" /></g><g id=\"white-queen\" class=\"white queen\" fill=\"#fff\" fill-rule=\"evenodd\" stroke=\"#000\" stroke-width=\"1.5\" stroke-linecap=\"round\" stroke-linejoin=\"round\"><path d=\"M8 12a2 2 0 1 1-4 0 2 2 0 1 1 4 0zM24.5 7.5a2 2 0 1 1-4 0 2 2 0 1 1 4 0zM41 12a2 2 0 1 1-4 0 2 2 0 1 1 4 0zM16 8.5a2 2 0 1 1-4 0 2 2 0 1 1 4 0zM33 9a2 2 0 1 1-4 0 2 2 0 1 1 4 0z\" /><path d=\"M9 26c8.5-1.5 21-1.5 27 0l2-12-7 11V11l-5.5 13.5-3-15-3 15-5.5-14V25L7 14l2 12zM9 26c0 2 1.5 2 2.5 4 1 1.5 1 1 .5 3.5-1.5 1-1.5 2.5-1.5 2.5-1.5 1.5.5 2.5.5 2.5 6.5 1 16.5 1 23 0 0 0 1.5-1 0-2.5 0 0 .5-1.5-1-2.5-.5-2.5-.5-2 .5-3.5 1-2 2.5-2 2.5-4-8.5-1.5-18.5-1.5-27 0z\" stroke-linecap=\"butt\" /><path d=\"M11.5 30c3.5-1 18.5-1 22 0M12 33.5c6-1 15-1 21 0\" fill=\"none\" /></g><g id=\"white-rook\" class=\"white rook\" fill=\"#fff\" fill-rule=\"evenodd\" stroke=\"#000\" stroke-width=\"1.5\" stroke-linecap=\"round\" stroke-linejoin=\"round\"><path d=\"M9 39h27v-3H9v3zM12 36v-4h21v4H12zM11 14V9h4v2h5V9h5v2h5V9h4v5\" stroke-linecap=\"butt\" /><path d=\"M34 14l-3 3H14l-3-3\" /><path d=\"M31 17v12.5H14V17\" stroke-linecap=\"butt\" stroke-linejoin=\"miter\" /><path d=\"M31 29.5l1.5 2.5h-20l1.5-2.5\" /><path d=\"M11 14h23\" fill=\"none\" stroke-linejoin=\"miter\" /></g></defs><rect x=\"0\" y=\"0\" width=\"16\" height=\"16\" class=\"square light\" stroke=\"none\" fill=\"#ffce9e\" opacity=\"1.0\" /><rect x=\"0\" y=\"16\" width=\"16\" height=\"16\" class=\"square dark\" stroke=\"none\" fill=\"#d18b47\" opacity=\"1.0\" /><rect x=\"0\" y=\"32\" width=\"16\" height=\"16\" class=\"square light\" stroke=\"none\" fill=\"#ffce9e\" opacity=\"1.0\" /><rect x=\"0\" y=\"48\" width=\"16\" height=\"16\" class=\"square dark\" stroke=\"none\" fill=\"#d18b47\" opacity=\"1.0\" /><rect x=\"0\" y=\"64\" width=\"16\" height=\"16\" class=\"square light\" stroke=\"none\" fill=\"#ffce9e\" opacity=\"1.0\" /><rect x=\"16\" y=\"0\" width=\"16\" height=\"16\" class=\"square dark\" stroke=\"none\" fill=\"#d18b47\" opacity=\"1.0\" /><rect x=\"16\" y=\"16\" width=\"16\" height=\"16\" class=\"square light\" stroke=\"none\" fill=\"#ffce9e\" opacity=\"1.0\" /><rect x=\"16\" y=\"32\" width=\"16\" height=\"16\" class=\"square dark\" stroke=\"none\" fill=\"#d18b47\" opacity=\"1.0\" /><rect x=\"16\" y=\"48\" width=\"16\" height=\"16\" class=\"square light\" stroke=\"none\" fill=\"#ffce9e\" opacity=\"1.0\" /><rect x=\"16\" y=\"64\" width=\"16\" height=\"16\" class=\"square dark\" stroke=\"none\" fill=\"#d18b47\" opacity=\"1.0\" /><rect x=\"32\" y=\"0\" width=\"16\" height=\"16\" class=\"square light\" stroke=\"none\" fill=\"#ffce9e\" opacity=\"1.0\" /><rect x=\"32\" y=\"16\" width=\"16\" height=\"16\" class=\"square dark\" stroke=\"none\" fill=\"#d18b47\" opacity=\"1.0\" /><rect x=\"32\" y=\"32\" width=\"16\" height=\"16\" class=\"square light\" stroke=\"none\" fill=\"#ffce9e\" opacity=\"1.0\" /><rect x=\"32\" y=\"48\" width=\"16\" height=\"16\" class=\"square dark\" stroke=\"none\" fill=\"#d18b47\" opacity=\"1.0\" /><rect x=\"32\" y=\"64\" width=\"16\" height=\"16\" class=\"square light\" stroke=\"none\" fill=\"#ffce9e\" opacity=\"1.0\" /><rect x=\"48\" y=\"0\" width=\"16\" height=\"16\" class=\"square dark\" stroke=\"none\" fill=\"#d18b47\" opacity=\"1.0\" /><rect x=\"48\" y=\"16\" width=\"16\" height=\"16\" class=\"square light\" stroke=\"none\" fill=\"#ffce9e\" opacity=\"1.0\" /><rect x=\"48\" y=\"32\" width=\"16\" height=\"16\" class=\"square dark\" stroke=\"none\" fill=\"#d18b47\" opacity=\"1.0\" /><rect x=\"48\" y=\"48\" width=\"16\" height=\"16\" class=\"square light\" stroke=\"none\" fill=\"#ffce9e\" opacity=\"1.0\" /><rect x=\"48\" y=\"64\" width=\"16\" height=\"16\" class=\"square dark\" stroke=\"none\" fill=\"#d18b47\" opacity=\"1.0\" /><rect x=\"64\" y=\"0\" width=\"16\" height=\"16\" class=\"square light\" stroke=\"none\" fill=\"#ffce9e\" opacity=\"1.0\" /><rect x=\"64\" y=\"16\" width=\"16\" height=\"16\" class=\"square dark\" stroke=\"none\" fill=\"#d18b47\" opacity=\"1.0\" /><rect x=\"64\" y=\"32\" width=\"16\" height=\"16\" class=\"square light\" stroke=\"none\" fill=\"#ffce9e\" opacity=\"1.0\" /><rect x=\"64\" y=\"48\" width=\"16\" height=\"16\" class=\"square dark\" stroke=\"none\" fill=\"#d18b47\" opacity=\"1.0\" /><rect x=\"64\" y=\"64\" width=\"16\" height=\"16\" class=\"square light\" stroke=\"none\" fill=\"#ffce9e\" opacity=\"1.0\" /><use href=\"#white-knight\" xlink:href=\"#white-knight\" transform=\"translate(0, 0) scale(0.355556)\" /><line x1=\"8.0\" y1=\"8.0\" x2=\"17.91789510120057\" y2=\"27.835790202401142\" stroke=\"blue\" stroke-width=\"0.32000000000000006\" stroke-linecap=\"butt\" class=\"arrow\" /><polygon points=\"23.284458247200067,38.568916494400135 18.45455141580052,27.567462045101166 17.381238786600623,28.10411835970112\" fill=\"blue\" class=\"arrow\" /><line x1=\"24.0\" y1=\"40.0\" x2=\"14.082104898799429\" y2=\"59.83579020240114\" stroke=\"blue\" stroke-width=\"0.32000000000000006\" stroke-linecap=\"butt\" class=\"arrow\" /><polygon points=\"8.715541752799933,70.56891649440013 14.61876121339938,60.10411835970112 13.545448584199479,59.567462045101166\" fill=\"blue\" class=\"arrow\" /><line x1=\"8.0\" y1=\"72.0\" x2=\"27.835790202401142\" y2=\"62.08210489879943\" stroke=\"blue\" stroke-width=\"0.32000000000000006\" stroke-linecap=\"butt\" class=\"arrow\" /><polygon points=\"38.568916494400135,56.715541752799936 27.567462045101166,61.54544858419948 28.10411835970112,62.61876121339938\" fill=\"blue\" class=\"arrow\" /><line x1=\"40.0\" y1=\"56.0\" x2=\"20.164209797598858\" y2=\"46.08210489879943\" stroke=\"blue\" stroke-width=\"0.32000000000000006\" stroke-linecap=\"butt\" class=\"arrow\" /><polygon points=\"9.431083505599865,40.715541752799936 19.89588164029888,46.61876121339938 20.432537954898834,45.54544858419948\" fill=\"blue\" class=\"arrow\" /><line x1=\"8.0\" y1=\"40.0\" x2=\"17.91789510120057\" y2=\"20.164209797598858\" stroke=\"blue\" stroke-width=\"0.32000000000000006\" stroke-linecap=\"butt\" class=\"arrow\" /><polygon points=\"23.284458247200067,9.431083505599865 17.381238786600623,19.89588164029888 18.45455141580052,20.432537954898834\" fill=\"blue\" class=\"arrow\" /><line x1=\"24.0\" y1=\"8.0\" x2=\"43.83579020240114\" y2=\"17.91789510120057\" stroke=\"blue\" stroke-width=\"0.32000000000000006\" stroke-linecap=\"butt\" class=\"arrow\" /><polygon points=\"54.568916494400135,23.284458247200067 44.10411835970112,17.381238786600623 43.567462045101166,18.45455141580052\" fill=\"blue\" class=\"arrow\" /><line x1=\"56.0\" y1=\"24.0\" x2=\"65.91789510120057\" y2=\"43.83579020240114\" stroke=\"blue\" stroke-width=\"0.32000000000000006\" stroke-linecap=\"butt\" class=\"arrow\" /><polygon points=\"71.28445824720006,54.568916494400135 66.45455141580052,43.567462045101166 65.38123878660062,44.10411835970112\" fill=\"blue\" class=\"arrow\" /><line x1=\"72.0\" y1=\"56.0\" x2=\"52.16420979759886\" y2=\"65.91789510120057\" stroke=\"blue\" stroke-width=\"0.32000000000000006\" stroke-linecap=\"butt\" class=\"arrow\" /><polygon points=\"41.431083505599865,71.28445824720006 52.432537954898834,66.45455141580052 51.89588164029888,65.38123878660062\" fill=\"blue\" class=\"arrow\" /><line x1=\"40.0\" y1=\"72.0\" x2=\"20.164209797598858\" y2=\"62.08210489879943\" stroke=\"blue\" stroke-width=\"0.32000000000000006\" stroke-linecap=\"butt\" class=\"arrow\" /><polygon points=\"9.431083505599865,56.715541752799936 19.89588164029888,62.61876121339938 20.432537954898834,61.54544858419948\" fill=\"blue\" class=\"arrow\" /><line x1=\"8.0\" y1=\"56.0\" x2=\"17.91789510120057\" y2=\"36.16420979759886\" stroke=\"blue\" stroke-width=\"0.32000000000000006\" stroke-linecap=\"butt\" class=\"arrow\" /><polygon points=\"23.284458247200067,25.431083505599865 17.381238786600623,35.89588164029888 18.45455141580052,36.432537954898834\" fill=\"blue\" class=\"arrow\" /><line x1=\"24.0\" y1=\"24.0\" x2=\"43.83579020240114\" y2=\"14.082104898799429\" stroke=\"blue\" stroke-width=\"0.32000000000000006\" stroke-linecap=\"butt\" class=\"arrow\" /><polygon points=\"54.568916494400135,8.715541752799933 43.567462045101166,13.545448584199479 44.10411835970112,14.61876121339938\" fill=\"blue\" class=\"arrow\" /><line x1=\"56.0\" y1=\"8.0\" x2=\"46.08210489879943\" y2=\"27.835790202401142\" stroke=\"blue\" stroke-width=\"0.32000000000000006\" stroke-linecap=\"butt\" class=\"arrow\" /><polygon points=\"40.715541752799936,38.568916494400135 46.61876121339938,28.10411835970112 45.54544858419948,27.567462045101166\" fill=\"blue\" class=\"arrow\" /><line x1=\"40.0\" y1=\"40.0\" x2=\"30.08210489879943\" y2=\"59.83579020240114\" stroke=\"blue\" stroke-width=\"0.32000000000000006\" stroke-linecap=\"butt\" class=\"arrow\" /><polygon points=\"24.715541752799933,70.56891649440013 30.618761213399377,60.10411835970112 29.54544858419948,59.567462045101166\" fill=\"blue\" class=\"arrow\" /><line x1=\"24.0\" y1=\"72.0\" x2=\"43.83579020240114\" y2=\"62.08210489879943\" stroke=\"blue\" stroke-width=\"0.32000000000000006\" stroke-linecap=\"butt\" class=\"arrow\" /><polygon points=\"54.568916494400135,56.715541752799936 43.567462045101166,61.54544858419948 44.10411835970112,62.61876121339938\" fill=\"blue\" class=\"arrow\" /><line x1=\"56.0\" y1=\"56.0\" x2=\"65.91789510120057\" y2=\"36.16420979759886\" stroke=\"blue\" stroke-width=\"0.32000000000000006\" stroke-linecap=\"butt\" class=\"arrow\" /><polygon points=\"71.28445824720006,25.431083505599865 65.38123878660062,35.89588164029888 66.45455141580052,36.432537954898834\" fill=\"blue\" class=\"arrow\" /><line x1=\"72.0\" y1=\"24.0\" x2=\"52.16420979759886\" y2=\"14.082104898799429\" stroke=\"blue\" stroke-width=\"0.32000000000000006\" stroke-linecap=\"butt\" class=\"arrow\" /><polygon points=\"41.431083505599865,8.715541752799933 51.89588164029888,14.61876121339938 52.432537954898834,13.545448584199479\" fill=\"blue\" class=\"arrow\" /><line x1=\"40.0\" y1=\"8.0\" x2=\"20.164209797598858\" y2=\"17.91789510120057\" stroke=\"blue\" stroke-width=\"0.32000000000000006\" stroke-linecap=\"butt\" class=\"arrow\" /><polygon points=\"9.431083505599865,23.284458247200067 20.432537954898834,18.45455141580052 19.89588164029888,17.381238786600623\" fill=\"blue\" class=\"arrow\" /><line x1=\"8.0\" y1=\"24.0\" x2=\"17.91789510120057\" y2=\"43.83579020240114\" stroke=\"blue\" stroke-width=\"0.32000000000000006\" stroke-linecap=\"butt\" class=\"arrow\" /><polygon points=\"23.284458247200067,54.568916494400135 18.45455141580052,43.567462045101166 17.381238786600623,44.10411835970112\" fill=\"blue\" class=\"arrow\" /><line x1=\"24.0\" y1=\"56.0\" x2=\"43.83579020240114\" y2=\"65.91789510120057\" stroke=\"blue\" stroke-width=\"0.32000000000000006\" stroke-linecap=\"butt\" class=\"arrow\" /><polygon points=\"54.568916494400135,71.28445824720006 44.10411835970112,65.38123878660062 43.567462045101166,66.45455141580052\" fill=\"blue\" class=\"arrow\" /><line x1=\"56.0\" y1=\"72.0\" x2=\"65.91789510120057\" y2=\"52.16420979759886\" stroke=\"blue\" stroke-width=\"0.32000000000000006\" stroke-linecap=\"butt\" class=\"arrow\" /><polygon points=\"71.28445824720006,41.431083505599865 65.38123878660062,51.89588164029888 66.45455141580052,52.432537954898834\" fill=\"blue\" class=\"arrow\" /><line x1=\"72.0\" y1=\"40.0\" x2=\"52.16420979759886\" y2=\"30.08210489879943\" stroke=\"blue\" stroke-width=\"0.32000000000000006\" stroke-linecap=\"butt\" class=\"arrow\" /><polygon points=\"41.431083505599865,24.715541752799933 51.89588164029888,30.618761213399377 52.432537954898834,29.54544858419948\" fill=\"blue\" class=\"arrow\" /><line x1=\"40.0\" y1=\"24.0\" x2=\"59.83579020240114\" y2=\"14.082104898799429\" stroke=\"blue\" stroke-width=\"0.32000000000000006\" stroke-linecap=\"butt\" class=\"arrow\" /><polygon points=\"70.56891649440013,8.715541752799933 59.567462045101166,13.545448584199479 60.10411835970112,14.61876121339938\" fill=\"blue\" class=\"arrow\" /><line x1=\"72.0\" y1=\"8.0\" x2=\"62.08210489879943\" y2=\"27.835790202401142\" stroke=\"blue\" stroke-width=\"0.32000000000000006\" stroke-linecap=\"butt\" class=\"arrow\" /><polygon points=\"56.715541752799936,38.568916494400135 62.61876121339938,28.10411835970112 61.54544858419948,27.567462045101166\" fill=\"blue\" class=\"arrow\" /><line x1=\"56.0\" y1=\"40.0\" x2=\"65.91789510120057\" y2=\"59.83579020240114\" stroke=\"blue\" stroke-width=\"0.32000000000000006\" stroke-linecap=\"butt\" class=\"arrow\" /><polygon points=\"71.28445824720006,70.56891649440013 66.45455141580052,59.567462045101166 65.38123878660062,60.10411835970112\" fill=\"blue\" class=\"arrow\" /></svg></div>"
      ],
      "text/plain": [
       "<chess_problem_visuals.board.Board at 0x1b4f1db0ca0>"
      ]
     },
     "execution_count": 111,
     "metadata": {},
     "output_type": "execute_result"
    }
   ],
   "source": [
    "show_solution(Board)"
   ]
  },
  {
   "cell_type": "code",
   "execution_count": null,
   "id": "790d50f6",
   "metadata": {},
   "outputs": [],
   "source": []
  },
  {
   "cell_type": "code",
   "execution_count": null,
   "id": "d2af4a40",
   "metadata": {},
   "outputs": [],
   "source": []
  }
 ],
 "metadata": {
  "kernelspec": {
   "display_name": "Python 3 (ipykernel)",
   "language": "python",
   "name": "python3"
  },
  "language_info": {
   "codemirror_mode": {
    "name": "ipython",
    "version": 3
   },
   "file_extension": ".py",
   "mimetype": "text/x-python",
   "name": "python",
   "nbconvert_exporter": "python",
   "pygments_lexer": "ipython3",
   "version": "3.10.9"
  }
 },
 "nbformat": 4,
 "nbformat_minor": 5
}
