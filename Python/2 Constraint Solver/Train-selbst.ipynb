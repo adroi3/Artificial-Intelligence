{
 "cells": [
  {
   "cell_type": "code",
   "execution_count": 28,
   "id": "84683fdc",
   "metadata": {},
   "outputs": [
    {
     "data": {
      "text/html": [
       "<link href='http://fonts.googleapis.com/css?family=Alegreya+Sans:100,300,400,500,700,800,900,100italic,300italic,400italic,500italic,700italic,800italic,900italic' rel='stylesheet' type='text/css'>\n",
       "<link href='http://fonts.googleapis.com/css?family=Arvo:400,700,400italic' rel='stylesheet' type='text/css'>\n",
       "<link href='http://fonts.googleapis.com/css?family=PT+Mono' rel='stylesheet' type='text/css'>\n",
       "<link href='http://fonts.googleapis.com/css?family=Shadows+Into+Light' rel='stylesheet' type='text/css'>\n",
       "<link href='http://fonts.googleapis.com/css?family=Philosopher:400,700,400italic,700italic' rel='stylesheet' type='text/css'>\n",
       "<link href=\"http://fonts.googleapis.com/css?family=Sacramento\" rel=\"stylesheet\" type=\"text/css\">\n",
       "\n",
       "<style>\n",
       "\n",
       "@font-face {\n",
       "    font-family: \"Computer Modern\";\n",
       "    src: url('http://mirrors.ctan.org/fonts/cm-unicode/fonts/otf/cmunss.otf');\n",
       "}\n",
       "\n",
       ".container { width: 100% }\n",
       "\n",
       "/* Formatting for header cells */\n",
       ".text_cell_render h1 {\n",
       "    font-family: 'Philosopher', sans-serif;\n",
       "    font-weight: 400;\n",
       "    font-size: 2.2em;\n",
       "    line-height: 100%;\n",
       "    color: rgb(0, 80, 120);\n",
       "    margin-bottom: 0.1em;\n",
       "    margin-top: 0.1em;\n",
       "    display: block;\n",
       "}\t\n",
       ".text_cell_render h2 {\n",
       "    font-family: 'Philosopher', serif;\n",
       "    font-weight: 400;\n",
       "    font-size: 1.9em;\n",
       "    line-height: 100%;\n",
       "    color: rgb(200,100,0);\n",
       "    margin-bottom: 0.1em;\n",
       "    margin-top: 0.1em;\n",
       "    display: block;\n",
       "}\t\n",
       "\n",
       ".text_cell_render h3 {\n",
       "    font-family: 'Philosopher', serif;\n",
       "    margin-top:12px;\n",
       "    margin-bottom: 3px;\n",
       "    font-style: italic;\n",
       "    color: rgb(94,127,192);\n",
       "}\n",
       "\n",
       ".text_cell_render h4 {\n",
       "    font-family: 'Philosopher', serif;\n",
       "}\n",
       "\n",
       ".text_cell_render h5 {\n",
       "    font-family: 'Alegreya Sans', sans-serif;\n",
       "    font-weight: 300;\n",
       "    font-size: 16pt;\n",
       "    color: grey;\n",
       "    font-style: italic;\n",
       "    margin-bottom: .1em;\n",
       "    margin-top: 0.1em;\n",
       "    display: block;\n",
       "}\n",
       "\n",
       ".text_cell_render h6 {\n",
       "    font-family: 'PT Mono', sans-serif;\n",
       "    font-weight: 300;\n",
       "    font-size: 10pt;\n",
       "    color: grey;\n",
       "    margin-bottom: 1px;\n",
       "    margin-top: 1px;\n",
       "}\n",
       "\n",
       ".text_cell_render em {\n",
       "    font-family: 'Philosopher', sans-serif;\n",
       "    color:        blue;\n",
       "    background-color: rgb(255,220,180);\n",
       "    font-size:    110%;\n",
       "    margin-left:   2px;\n",
       "    margin-right:  2px;\n",
       "    font-weight:   100;\n",
       "}\n",
       "\n",
       ".text_cell_render b {\n",
       "    color:            rgb(255,195,195);\n",
       "    background-color: rgb(0,0,0);\n",
       "    font-size:    110%;\n",
       "    margin-left:   2px;\n",
       "    margin-right:  2px;\n",
       "    font-weight:   650;\n",
       "}\n",
       "\n",
       ".text_cell_render u {\n",
       "    color:            blue;\n",
       "    font-size:    110%;\n",
       "    margin-left:   2px;\n",
       "    margin-right:  2px;\n",
       "    font-weight:   650;\n",
       "}\n",
       "\n",
       ".text_cell_render tt {\n",
       "    font-size:    120%;\n",
       "    margin-left:   2px;\n",
       "    margin-right:  2px;\n",
       "    font-weight:   150;\n",
       "}\n",
       "\n",
       ".Codemirror {\n",
       "    font-family: \"PT Mono\";\n",
       "    font-size: 100%;\n",
       "}\n",
       "\n",
       "#fancy {\n",
       "    font-family:      Georgia;\n",
       "    position:         relative;\n",
       "    float:            left;\n",
       "    border:           2px solid red;\n",
       "    width:            600px;\n",
       "    padding-left:     20px;\n",
       "    padding-right:    20px;\n",
       "    padding-top:      10px;\n",
       "    font-family:      'Sacramento', cursive;\n",
       "    font-size:        26px;\n",
       "    background-color: #F4EBF3;\n",
       "    border-radius:    15px;\n",
       "}\n",
       "\n",
       "</Style>\n",
       "\n"
      ],
      "text/plain": [
       "<IPython.core.display.HTML object>"
      ]
     },
     "execution_count": 28,
     "metadata": {},
     "output_type": "execute_result"
    }
   ],
   "source": [
    "from IPython.core.display import HTML\n",
    "with open('../style.css') as f:\n",
    "    css = f.read()\n",
    "HTML(css)"
   ]
  },
  {
   "attachments": {},
   "cell_type": "markdown",
   "id": "db7d38ac",
   "metadata": {},
   "source": [
    "Exercise 7: Solve the following text problem using Z3.\n",
    "\n",
    "(a) A train travels at a uniform speed for 360 miles.\n",
    "\n",
    "(b) The train would have taken 48 minutes less to travel the same distance if it had been faster by 5\n",
    "\n",
    "miles per hour.\n",
    "(c) Find the speed of the train!\n",
    "\n",
    "Hints:\n",
    "1. As the speed is a real number you should declare this variable via the Z3 function Real instead\n",
    "of using the function Int.\n",
    "\n",
    "2. 48 minutes are four fifth of an hour. The fraction 4\n",
    "5 can be represented in Z3 by the expression\n",
    "Q(4, 5).\n",
    "\n",
    "3. When you formulate the information given above, you will get a system of non-linear equations,\n",
    "which is equivalent to a quadratic equation. This quadratic equation has two different solutions.\n",
    "One of these solutions is negative. In order to exclude the negative solution you need to add a\n",
    "constraint stating that the speed of the train has to be greater than zero.\n",
    "\n",
    "4. The solution will be some real number which is represented internally as an object of type\n",
    "RatNumRef. If o is an object of this type, then this object can be converted to a string as\n",
    "follows:\n",
    "o.as decimal(17)\n",
    "Here, 17 is the number of digits following the decimal point. This string can be then converted\n",
    "to a float by using the function float."
   ]
  },
  {
   "cell_type": "markdown",
   "id": "2dc680f6",
   "metadata": {},
   "source": [
    "First, we have to install `Z3`.  This can be achieved via the following command:"
   ]
  },
  {
   "cell_type": "code",
   "execution_count": 29,
   "id": "6aa5bfbd",
   "metadata": {},
   "outputs": [
    {
     "name": "stdout",
     "output_type": "stream",
     "text": [
      "Requirement already satisfied: z3-solver in c:\\applications\\anaconda3\\envs\\ai\\lib\\site-packages (4.12.1.0)\n",
      "Note: you may need to restart the kernel to use updated packages.\n"
     ]
    }
   ],
   "source": [
    "%pip install z3-solver"
   ]
  },
  {
   "cell_type": "markdown",
   "id": "c4bbf097",
   "metadata": {},
   "source": [
    "Next, we import the Python API of `Z3`. "
   ]
  },
  {
   "cell_type": "code",
   "execution_count": 30,
   "id": "174da55b",
   "metadata": {},
   "outputs": [],
   "source": [
    "import z3"
   ]
  },
  {
   "cell_type": "code",
   "execution_count": 31,
   "id": "da6dd4d0",
   "metadata": {},
   "outputs": [],
   "source": [
    "speed  = z3.Real('speed')\n",
    "time = z3.Real('time')"
   ]
  },
  {
   "cell_type": "markdown",
   "id": "c2625602",
   "metadata": {},
   "source": [
    "Next, we create a *solver* object.  This is a constraint solver capable of solving constraint satisfaction problems."
   ]
  },
  {
   "cell_type": "code",
   "execution_count": 32,
   "id": "211739d3",
   "metadata": {},
   "outputs": [],
   "source": [
    "S = z3.Solver()"
   ]
  },
  {
   "cell_type": "code",
   "execution_count": 33,
   "id": "60da9c3e",
   "metadata": {},
   "outputs": [],
   "source": [
    "S.add(speed * time == 360)\n",
    "S.add((speed + 5) * (time - z3.Q(4, 5)) == 360)\n",
    "S.add(speed > 0)"
   ]
  },
  {
   "cell_type": "markdown",
   "id": "b5c45e51",
   "metadata": {},
   "source": [
    "The method `check` examines whether the given set of constraints is satisfiable.\n",
    "In general, it can return one of the following results:\n",
    "- `sat`   is returned if the problem is solvable, (`sat` is short for *satisfiable*)\n",
    "- `unsat` is returned if the problem is unsatisfiable,\n",
    "- `unknown` is returned if the constraint solver is not powerful enough to solve the given problem.\n",
    "\n",
    "  In contrast to *ChatGPT*, `Z3` does not start to halucinate if it is unable to solve a given problem, but instead clearly states that it was unable to solve the problem."
   ]
  },
  {
   "cell_type": "code",
   "execution_count": 34,
   "id": "ae45fd4e",
   "metadata": {},
   "outputs": [
    {
     "name": "stdout",
     "output_type": "stream",
     "text": [
      "satisfiable\n"
     ]
    }
   ],
   "source": [
    "if str(S.check()) == 'sat':\n",
    "    print('satisfiable')"
   ]
  },
  {
   "cell_type": "markdown",
   "id": "a30cfba0",
   "metadata": {},
   "source": [
    "To extract the solution of the given problem we use the method `model`."
   ]
  },
  {
   "cell_type": "code",
   "execution_count": 35,
   "id": "95f5b419",
   "metadata": {},
   "outputs": [
    {
     "data": {
      "text/html": [
       "[speed = 45, time = 8, /0 = [(360, 45) &rarr; 8, else &rarr; 0]]"
      ],
      "text/plain": [
       "[speed = 45, time = 8, /0 = [(360, 45) -> 8, else -> 0]]"
      ]
     },
     "execution_count": 35,
     "metadata": {},
     "output_type": "execute_result"
    }
   ],
   "source": [
    "solution = S.model()\n",
    "solution"
   ]
  },
  {
   "cell_type": "code",
   "execution_count": 36,
   "id": "7fd3fe8c",
   "metadata": {},
   "outputs": [
    {
     "data": {
      "text/plain": [
       "(45.0, 8.0)"
      ]
     },
     "execution_count": 36,
     "metadata": {},
     "output_type": "execute_result"
    }
   ],
   "source": [
    "rSpeed = float(solution[speed ].as_decimal(17))\n",
    "rTime = float(solution[time].as_decimal(17))\n",
    "\n",
    "rSpeed, rTime"
   ]
  }
 ],
 "metadata": {
  "kernelspec": {
   "display_name": "ai",
   "language": "python",
   "name": "python3"
  },
  "language_info": {
   "codemirror_mode": {
    "name": "ipython",
    "version": 3
   },
   "file_extension": ".py",
   "mimetype": "text/x-python",
   "name": "python",
   "nbconvert_exporter": "python",
   "pygments_lexer": "ipython3",
   "version": "3.10.9"
  },
  "vscode": {
   "interpreter": {
    "hash": "382829856c9d31671001683bfc76aaf77df3a9d53293ee7d9ae2472432443635"
   }
  }
 },
 "nbformat": 4,
 "nbformat_minor": 5
}
