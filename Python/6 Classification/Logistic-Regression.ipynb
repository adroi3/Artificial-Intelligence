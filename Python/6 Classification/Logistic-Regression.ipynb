{
 "cells": [
  {
   "cell_type": "code",
   "execution_count": 1,
   "metadata": {},
   "outputs": [
    {
     "data": {
      "text/html": [
       "<link href='http://fonts.googleapis.com/css?family=Alegreya+Sans:100,300,400,500,700,800,900,100italic,300italic,400italic,500italic,700italic,800italic,900italic' rel='stylesheet' type='text/css'>\n",
       "<link href='http://fonts.googleapis.com/css?family=Arvo:400,700,400italic' rel='stylesheet' type='text/css'>\n",
       "<link href='http://fonts.googleapis.com/css?family=PT+Mono' rel='stylesheet' type='text/css'>\n",
       "<link href='http://fonts.googleapis.com/css?family=Shadows+Into+Light' rel='stylesheet' type='text/css'>\n",
       "<link href='http://fonts.googleapis.com/css?family=Philosopher:400,700,400italic,700italic' rel='stylesheet' type='text/css'>\n",
       "<link href=\"http://fonts.googleapis.com/css?family=Sacramento\" rel=\"stylesheet\" type=\"text/css\">\n",
       "\n",
       "<style>\n",
       "\n",
       "@font-face {\n",
       "    font-family: \"Computer Modern\";\n",
       "    src: url('http://mirrors.ctan.org/fonts/cm-unicode/fonts/otf/cmunss.otf');\n",
       "}\n",
       "\n",
       ".container { width: 100% }\n",
       "\n",
       "/* Formatting for header cells */\n",
       ".text_cell_render h1 {\n",
       "    font-family: 'Philosopher', sans-serif;\n",
       "    font-weight: 400;\n",
       "    font-size: 2.2em;\n",
       "    line-height: 100%;\n",
       "    color: rgb(0, 80, 120);\n",
       "    margin-bottom: 0.1em;\n",
       "    margin-top: 0.1em;\n",
       "    display: block;\n",
       "}\t\n",
       ".text_cell_render h2 {\n",
       "    font-family: 'Philosopher', serif;\n",
       "    font-weight: 400;\n",
       "    font-size: 1.9em;\n",
       "    line-height: 100%;\n",
       "    color: rgb(200,100,0);\n",
       "    margin-bottom: 0.1em;\n",
       "    margin-top: 0.1em;\n",
       "    display: block;\n",
       "}\t\n",
       "\n",
       ".text_cell_render h3 {\n",
       "    font-family: 'Philosopher', serif;\n",
       "    margin-top:12px;\n",
       "    margin-bottom: 3px;\n",
       "    font-style: italic;\n",
       "    color: rgb(94,127,192);\n",
       "}\n",
       "\n",
       ".text_cell_render h4 {\n",
       "    font-family: 'Philosopher', serif;\n",
       "}\n",
       "\n",
       ".text_cell_render h5 {\n",
       "    font-family: 'Alegreya Sans', sans-serif;\n",
       "    font-weight: 300;\n",
       "    font-size: 16pt;\n",
       "    color: grey;\n",
       "    font-style: italic;\n",
       "    margin-bottom: .1em;\n",
       "    margin-top: 0.1em;\n",
       "    display: block;\n",
       "}\n",
       "\n",
       ".text_cell_render h6 {\n",
       "    font-family: 'PT Mono', sans-serif;\n",
       "    font-weight: 300;\n",
       "    font-size: 10pt;\n",
       "    color: grey;\n",
       "    margin-bottom: 1px;\n",
       "    margin-top: 1px;\n",
       "}\n",
       "\n",
       ".text_cell_render em {\n",
       "    font-family: 'Philosopher', sans-serif;\n",
       "    color:        blue;\n",
       "    background-color: rgb(255,220,180);\n",
       "    font-size:    110%;\n",
       "    margin-left:   2px;\n",
       "    margin-right:  2px;\n",
       "    font-weight:   100;\n",
       "}\n",
       "\n",
       ".text_cell_render b {\n",
       "    color:            rgb(255,195,195);\n",
       "    background-color: rgb(0,0,0);\n",
       "    font-size:    110%;\n",
       "    margin-left:   2px;\n",
       "    margin-right:  2px;\n",
       "    font-weight:   650;\n",
       "}\n",
       "\n",
       ".text_cell_render u {\n",
       "    color:            blue;\n",
       "    font-size:    110%;\n",
       "    margin-left:   2px;\n",
       "    margin-right:  2px;\n",
       "    font-weight:   650;\n",
       "}\n",
       "\n",
       ".text_cell_render tt {\n",
       "    font-size:    120%;\n",
       "    margin-left:   2px;\n",
       "    margin-right:  2px;\n",
       "    font-weight:   150;\n",
       "}\n",
       "\n",
       ".Codemirror {\n",
       "    font-family: \"PT Mono\";\n",
       "    font-size: 100%;\n",
       "}\n",
       "\n",
       "#fancy {\n",
       "    font-family:      Georgia;\n",
       "    position:         relative;\n",
       "    float:            left;\n",
       "    border:           2px solid red;\n",
       "    width:            600px;\n",
       "    padding-left:     20px;\n",
       "    padding-right:    20px;\n",
       "    padding-top:      10px;\n",
       "    font-family:      'Sacramento', cursive;\n",
       "    font-size:        26px;\n",
       "    background-color: #F4EBF3;\n",
       "    border-radius:    15px;\n",
       "}\n",
       "\n",
       "</Style>\n",
       "\n"
      ],
      "text/plain": [
       "<IPython.core.display.HTML object>"
      ]
     },
     "execution_count": 1,
     "metadata": {},
     "output_type": "execute_result"
    }
   ],
   "source": [
    "from IPython.core.display import HTML\n",
    "with open (\"../style.css\", \"r\") as file:\n",
    "    css = file.read()\n",
    "HTML(css)"
   ]
  },
  {
   "cell_type": "markdown",
   "metadata": {},
   "source": [
    "# Logistic Regression"
   ]
  },
  {
   "cell_type": "code",
   "execution_count": 2,
   "metadata": {},
   "outputs": [],
   "source": [
    "import numpy as np"
   ]
  },
  {
   "cell_type": "markdown",
   "metadata": {},
   "source": [
    "We need to define the sigmoid function $S(t) := \\large \\frac{1}{1 + \\exp(-t)}$."
   ]
  },
  {
   "cell_type": "code",
   "execution_count": 3,
   "metadata": {},
   "outputs": [],
   "source": [
    "def sigmoid(t):\n",
    "    return 1.0 / (1.0 + np.exp(-t))"
   ]
  },
  {
   "cell_type": "markdown",
   "metadata": {},
   "source": [
    "As we are using NumPy to compute $\\exp(t)$, we can feed this function with a `numpy` array to compute the sigmoid function for every element of the array:"
   ]
  },
  {
   "cell_type": "code",
   "execution_count": 4,
   "metadata": {},
   "outputs": [
    {
     "data": {
      "text/plain": [
       "array([0.26894142, 0.5       , 0.73105858])"
      ]
     },
     "execution_count": 4,
     "metadata": {},
     "output_type": "execute_result"
    }
   ],
   "source": [
    "sigmoid(np.array([-1.0, 0.0, 1.0]))"
   ]
  },
  {
   "cell_type": "markdown",
   "metadata": {},
   "source": [
    "Let us check the limits.  In the lecture we have seen that\n",
    "$$ \\lim\\limits_{x \\rightarrow -\\infty} S(x) = 0 \\quad \\mbox{and} \\quad \n",
    "   \\lim\\limits_{x \\rightarrow +\\infty} S(x) = 1 \n",
    "$$"
   ]
  },
  {
   "cell_type": "code",
   "execution_count": 5,
   "metadata": {},
   "outputs": [
    {
     "data": {
      "text/plain": [
       "(3.7200759760208356e-44, 1.0)"
      ]
     },
     "execution_count": 5,
     "metadata": {},
     "output_type": "execute_result"
    }
   ],
   "source": [
    "sigmoid(-100), sigmoid(100)"
   ]
  },
  {
   "cell_type": "code",
   "execution_count": 6,
   "metadata": {},
   "outputs": [
    {
     "data": {
      "text/plain": [
       "1.0"
      ]
     },
     "execution_count": 6,
     "metadata": {},
     "output_type": "execute_result"
    }
   ],
   "source": [
    "1.0 - 3.7200759760208356e-44"
   ]
  },
  {
   "cell_type": "markdown",
   "metadata": {},
   "source": [
    "Next, we define the natural logarithm of the sigmoid function.  If we implement this as `log(sigmoid(t))` we will get overflow issues for negative values of $t$ such that $t < -1000$ as the expression `np.exp(-t)` will overflow. "
   ]
  },
  {
   "cell_type": "code",
   "execution_count": 7,
   "metadata": {
    "scrolled": true
   },
   "outputs": [
    {
     "name": "stderr",
     "output_type": "stream",
     "text": [
      "/var/folders/j0/9pg05lc57pd41f8b7d_b7sv40000gq/T/ipykernel_1109/2006519253.py:1: RuntimeWarning: overflow encountered in exp\n",
      "  np.exp(1000)\n"
     ]
    },
    {
     "data": {
      "text/plain": [
       "inf"
      ]
     },
     "execution_count": 7,
     "metadata": {},
     "output_type": "execute_result"
    }
   ],
   "source": [
    "np.exp(1000)"
   ]
  },
  {
   "cell_type": "code",
   "execution_count": 8,
   "metadata": {},
   "outputs": [
    {
     "name": "stderr",
     "output_type": "stream",
     "text": [
      "/var/folders/j0/9pg05lc57pd41f8b7d_b7sv40000gq/T/ipykernel_1109/4196205950.py:1: RuntimeWarning: overflow encountered in exp\n",
      "  -np.log(1 + np.exp(1000))\n"
     ]
    },
    {
     "data": {
      "text/plain": [
       "-inf"
      ]
     },
     "execution_count": 8,
     "metadata": {},
     "output_type": "execute_result"
    }
   ],
   "source": [
    "-np.log(1 + np.exp(1000))"
   ]
  },
  {
   "cell_type": "markdown",
   "metadata": {},
   "source": [
    "This is not what we expected.  "
   ]
  },
  {
   "cell_type": "code",
   "execution_count": 9,
   "metadata": {},
   "outputs": [
    {
     "data": {
      "text/plain": [
       "2.6881171418161356e+43"
      ]
     },
     "execution_count": 9,
     "metadata": {},
     "output_type": "execute_result"
    }
   ],
   "source": [
    "np.exp(100)"
   ]
  },
  {
   "cell_type": "markdown",
   "metadata": {},
   "source": [
    "On the other hand, for $t < -100$ we have that $1 + \\exp(-t) \\approx \\exp(-t)$:"
   ]
  },
  {
   "cell_type": "code",
   "execution_count": 10,
   "metadata": {
    "scrolled": true
   },
   "outputs": [
    {
     "data": {
      "text/plain": [
       "True"
      ]
     },
     "execution_count": 10,
     "metadata": {},
     "output_type": "execute_result"
    }
   ],
   "source": [
    "1 + np.exp(-(-100)) == np.exp(-(-100))"
   ]
  },
  {
   "cell_type": "markdown",
   "metadata": {},
   "source": [
    "Therefore, if $t < -100$ we have:\n",
    "$$ \n",
    "\\begin{array}{lcl}\n",
    "         \\ln\\left(\\large\\frac{1}{1+\\exp(-t)}\\right) \n",
    "  & = & -\\ln\\bigl(1+\\exp(-t)\\bigr) \\\\\n",
    "  & \\approx & -\\ln\\bigl(\\exp(-t)\\bigr)  \\\\\n",
    "  & = & t\n",
    "\\end{array}\n",
    "$$\n",
    "Hence $\\ln\\bigl(S(t)\\bigr) \\approx t$ for $t < -100$. The following implementation uses this approximation."
   ]
  },
  {
   "cell_type": "code",
   "execution_count": 11,
   "metadata": {},
   "outputs": [],
   "source": [
    "def logSigmoid(t):\n",
    "    if t > -100:\n",
    "        return -np.log(1.0 + np.exp(-t))\n",
    "    else:\n",
    "        return t"
   ]
  },
  {
   "cell_type": "code",
   "execution_count": 13,
   "metadata": {},
   "outputs": [
    {
     "data": {
      "text/plain": [
       "-99.0"
      ]
     },
     "execution_count": 13,
     "metadata": {},
     "output_type": "execute_result"
    }
   ],
   "source": [
    "logSigmoid(-99)"
   ]
  },
  {
   "cell_type": "markdown",
   "metadata": {},
   "source": [
    "Given a feature matrix `X` and a vector `y` of classification outputs, the *log-likelihood function* $\\ell\\ell(\\textbf{X}, \\textbf{y},\\textbf{w})$ is mathematically defined as follows:\n",
    "$$\\ell\\ell(\\mathbf{X},\\mathbf{y},\\mathbf{w}) = \n",
    " \\sum\\limits_{i=1}^N \\ln\\Bigl(S\\bigl(y_i \\cdot(\\mathbf{x}_i^\\top \\cdot \\mathbf{w})\\bigr)\\Bigr) =\n",
    " \\sum\\limits_{i=1}^N L\\bigl(y_i \\cdot(\\mathbf{x}_i^\\top \\cdot \\mathbf{w})\\bigr)\n",
    "$$\n",
    "The value of the *log-likelihood function* is interpreted as the logarithm of the probability that our model of the classifier predicts the observed values $y_i$ when the features are given by the vector $\\textbf{x}_i$ for all $i\\in\\{1,\\cdots,N\\}$.\n",
    "\n",
    "The arguments $\\textbf{X}$, $\\textbf{y}$, and $\\textbf{w}$ are interpreted as follows:\n",
    "* $\\textbf{X}$ is the feature matrix, $\\textbf{X}[i]$ is the $i$-th feature vector, i.e we have\n",
    "  $\\textbf{X}[i] = \\textbf{x}_i^\\top$.\n",
    "         \n",
    "  Furthermore, it is assumed that $\\textbf{X}[i][0]$ is 1.0 for all $i$.  \n",
    "  Hence we have a feature that is constant for all examples.\n",
    "* $\\textbf{y}$ is the output vector, $\\textbf{y}[i] \\in \\{-1,+1\\}$ for all $i$.\n",
    "* $\\textbf{w}$ is the weight vector."
   ]
  },
  {
   "cell_type": "code",
   "execution_count": 14,
   "metadata": {},
   "outputs": [],
   "source": [
    "def ll(X, y, w):   \n",
    "    return np.sum([logSigmoid(y[i] * (X[i] @ w)) for i in range(len(X))])"
   ]
  },
  {
   "cell_type": "markdown",
   "metadata": {},
   "source": [
    "The function $\\mathtt{gradLL}(\\mathbf{x}, \\mathbf{y}, \\mathbf{w})$ computes the gradient of\n",
    "the log-likelihood according to the formula\n",
    "$$ \\frac{\\partial\\quad}{\\partial\\, w_j}\\ell\\ell(\\mathbf{X},\\mathbf{y};\\mathbf{w}) =\n",
    "   \\sum\\limits_{i=1}^N y_i \\cdot x_{i,j} \\cdot  S(-y_i \\cdot \\mathbf{x}_i \\cdot \\mathbf{w}).\n",
    "$$\n",
    "The different components of this gradient are combined into a vector.\n",
    "The arguments are the same as the arguments to the function $\\ell\\ell$ that computes the log-likelihood, i.e.\n",
    "* $\\textbf{X}$ is the feature matrix, $\\textbf{X}[i]$ is the transpose of $i$-th feature vector.\n",
    "* $\\textbf{y}$ is the output vector, $\\textbf{y}[i] \\in \\{-1,+1\\}$ for all $i$.\n",
    "* $\\textbf{w}$ is the weight vector."
   ]
  },
  {
   "cell_type": "code",
   "execution_count": 15,
   "metadata": {},
   "outputs": [],
   "source": [
    "def gradLL(X, y, w):\n",
    "    Gradient = []\n",
    "    for j in range(len(X[0])):\n",
    "        L = [y[i] * X[i][j] * sigmoid(-y[i] * (X[i] @ w)) for i in range(len(X))]\n",
    "        Gradient.append(sum(L))\n",
    "    return np.array(Gradient)"
   ]
  },
  {
   "cell_type": "markdown",
   "metadata": {},
   "source": [
    "The data we want to investigate is stored in the file `'exam.csv'`.  The first column of this file is an integer from the set $\\{0,1\\}$.  The number is $0$ if the corresponding student has failed the exam and is $1$ otherwise.  The second column is a floating point number that lists the number of hours that the student has studied for the given exam."
   ]
  },
  {
   "cell_type": "code",
   "execution_count": 16,
   "metadata": {},
   "outputs": [],
   "source": [
    "import csv"
   ]
  },
  {
   "cell_type": "markdown",
   "metadata": {},
   "source": [
    "The file `exam.csv` contains fictional data about an exam. The first column contains the number `0` if the student has failed the exam and `1` otherwise.  The second column contains the number of hours the student has studied for the given exam."
   ]
  },
  {
   "cell_type": "code",
   "execution_count": 17,
   "metadata": {},
   "outputs": [
    {
     "name": "stdout",
     "output_type": "stream",
     "text": [
      "Pass,Hours\r\n",
      "0,0.50\r\n",
      "0,0.75\r\n",
      "0,1.00\r\n",
      "0,1.25\r\n",
      "0,1.50\r\n",
      "0,1.75\r\n",
      "1,1.75\r\n",
      "0,2.00\r\n",
      "1,2.25\r\n",
      "0,2.50\r\n",
      "1,2.75\r\n",
      "0,3.00\r\n",
      "1,3.25\r\n",
      "0,3.50\r\n",
      "1,4.00\r\n",
      "1,4.25\r\n",
      "1,4.50\r\n",
      "1,4.75\r\n",
      "1,5.00\r\n",
      "1,5.50\r\n"
     ]
    }
   ],
   "source": [
    "!cat exam.csv || type exam.csv"
   ]
  },
  {
   "cell_type": "code",
   "execution_count": 18,
   "metadata": {},
   "outputs": [],
   "source": [
    "with open('exam.csv') as file:\n",
    "    reader = csv.reader(file, delimiter=',')\n",
    "    count  = 0  # line count\n",
    "    Pass   = []\n",
    "    Hours  = []\n",
    "    for row in reader:\n",
    "        if count != 0:  # skip header\n",
    "            Pass .append(float(row[0]))\n",
    "            Hours.append(float(row[1]))\n",
    "        count += 1"
   ]
  },
  {
   "cell_type": "markdown",
   "metadata": {},
   "source": [
    "To proceed, we will plot the data points.  To this end we transform the lists `Pass` and `Hours` into numpy arrays."
   ]
  },
  {
   "cell_type": "code",
   "execution_count": 19,
   "metadata": {},
   "outputs": [],
   "source": [
    "y = np.array(Pass)\n",
    "x = np.array(Hours)"
   ]
  },
  {
   "cell_type": "code",
   "execution_count": 20,
   "metadata": {},
   "outputs": [],
   "source": [
    "import matplotlib.pyplot as plt\n",
    "import seaborn           as sns"
   ]
  },
  {
   "cell_type": "code",
   "execution_count": 21,
   "metadata": {},
   "outputs": [
    {
     "data": {
      "text/plain": [
       "<matplotlib.collections.PathCollection at 0x7fc6c6553c10>"
      ]
     },
     "execution_count": 21,
     "metadata": {},
     "output_type": "execute_result"
    },
    {
     "data": {
      "image/png": "[encoded data removed]",
      "text/plain": [
       "<Figure size 1500x1000 with 1 Axes>"
      ]
     },
     "metadata": {},
     "output_type": "display_data"
    }
   ],
   "source": [
    "plt.figure(figsize=(15, 10))\n",
    "sns.set(style='darkgrid')\n",
    "plt.title('Pass/Fail vs. Hours of Study')\n",
    "plt.axvline(x=0.0, c='k')\n",
    "plt.axhline(y=0.0, c='k')\n",
    "plt.xlabel('Hours of Study')\n",
    "plt.ylabel('Pass = 1, Fail = 0')\n",
    "plt.xticks(np.arange(0.0, 6.0, step=0.5))\n",
    "plt.yticks(np.arange(-0.0, 1.1, step=0.1))\n",
    "plt.scatter(x, y, color='b')"
   ]
  },
  {
   "cell_type": "markdown",
   "metadata": {},
   "source": [
    "The number of students is stored in the variable `n`."
   ]
  },
  {
   "cell_type": "code",
   "execution_count": 22,
   "metadata": {},
   "outputs": [
    {
     "data": {
      "text/plain": [
       "20"
      ]
     },
     "execution_count": 22,
     "metadata": {},
     "output_type": "execute_result"
    }
   ],
   "source": [
    "n = len(y)\n",
    "n"
   ]
  },
  {
   "cell_type": "markdown",
   "metadata": {},
   "source": [
    "We have to turn the vector `x` into the feature matrix `X`."
   ]
  },
  {
   "cell_type": "code",
   "execution_count": 23,
   "metadata": {},
   "outputs": [
    {
     "data": {
      "text/plain": [
       "(20,)"
      ]
     },
     "execution_count": 23,
     "metadata": {},
     "output_type": "execute_result"
    }
   ],
   "source": [
    "x.shape"
   ]
  },
  {
   "cell_type": "code",
   "execution_count": 25,
   "metadata": {},
   "outputs": [
    {
     "data": {
      "text/plain": [
       "array([[0.5 ],\n",
       "       [0.75],\n",
       "       [1.  ],\n",
       "       [1.25],\n",
       "       [1.5 ],\n",
       "       [1.75],\n",
       "       [1.75],\n",
       "       [2.  ],\n",
       "       [2.25],\n",
       "       [2.5 ],\n",
       "       [2.75],\n",
       "       [3.  ],\n",
       "       [3.25],\n",
       "       [3.5 ],\n",
       "       [4.  ],\n",
       "       [4.25],\n",
       "       [4.5 ],\n",
       "       [4.75],\n",
       "       [5.  ],\n",
       "       [5.5 ]])"
      ]
     },
     "execution_count": 25,
     "metadata": {},
     "output_type": "execute_result"
    }
   ],
   "source": [
    "X = np.reshape(x, (n, 1))\n",
    "X"
   ]
  },
  {
   "cell_type": "markdown",
   "metadata": {},
   "source": [
    "We append the number $1.0$ to every row of `X`. `axis=1` specifies that the ones are appended to each column.  If we had specified `axis=0` instead, the number of rows would have doubled."
   ]
  },
  {
   "cell_type": "code",
   "execution_count": 26,
   "metadata": {
    "scrolled": true
   },
   "outputs": [
    {
     "data": {
      "text/plain": [
       "array([[0.5 , 1.  ],\n",
       "       [0.75, 1.  ],\n",
       "       [1.  , 1.  ],\n",
       "       [1.25, 1.  ],\n",
       "       [1.5 , 1.  ],\n",
       "       [1.75, 1.  ],\n",
       "       [1.75, 1.  ],\n",
       "       [2.  , 1.  ],\n",
       "       [2.25, 1.  ],\n",
       "       [2.5 , 1.  ],\n",
       "       [2.75, 1.  ],\n",
       "       [3.  , 1.  ],\n",
       "       [3.25, 1.  ],\n",
       "       [3.5 , 1.  ],\n",
       "       [4.  , 1.  ],\n",
       "       [4.25, 1.  ],\n",
       "       [4.5 , 1.  ],\n",
       "       [4.75, 1.  ],\n",
       "       [5.  , 1.  ],\n",
       "       [5.5 , 1.  ]])"
      ]
     },
     "execution_count": 26,
     "metadata": {},
     "output_type": "execute_result"
    }
   ],
   "source": [
    "X = np.append(X, np.ones((n, 1)), axis=1)\n",
    "X"
   ]
  },
  {
   "cell_type": "markdown",
   "metadata": {},
   "source": [
    "Currently, the entries in the vector `y` are either $0$ or $1$.  These values need to be transformed to $-1$ and $+1$. "
   ]
  },
  {
   "cell_type": "code",
   "execution_count": 27,
   "metadata": {},
   "outputs": [
    {
     "data": {
      "text/plain": [
       "array([-1., -1., -1., -1., -1., -1.,  1., -1.,  1., -1.,  1., -1.,  1.,\n",
       "       -1.,  1.,  1.,  1.,  1.,  1.,  1.])"
      ]
     },
     "execution_count": 27,
     "metadata": {},
     "output_type": "execute_result"
    }
   ],
   "source": [
    "y = 2 * y - 1\n",
    "y"
   ]
  },
  {
   "cell_type": "markdown",
   "metadata": {},
   "source": [
    "As we have no real clue about the weights, we set them to $0$ initially."
   ]
  },
  {
   "cell_type": "code",
   "execution_count": 28,
   "metadata": {},
   "outputs": [],
   "source": [
    "import gradient_ascent"
   ]
  },
  {
   "cell_type": "code",
   "execution_count": 29,
   "metadata": {
    "scrolled": false
   },
   "outputs": [
    {
     "name": "stdout",
     "output_type": "stream",
     "text": [
      "cnt = 1, f([1.0125 0.    ]) = -20.427214788226877\n",
      "gradient = [-14.60175171  -7.83817142]\n",
      "decrementing: alpha = 0.05\n",
      "cnt = 1, f([ 0.28241241 -0.39190857]) = -11.798462600406191\n",
      "gradient = [ 2.07472273 -1.86909472]\n",
      "incrementing: alpha = 0.06\n",
      "cnt = 2, f([ 0.40689578 -0.50405425]) = -11.504550930112226\n",
      "gradient = [-1.47992672 -2.81323039]\n",
      "incrementing: alpha = 0.072\n",
      "cnt = 3, f([ 0.30034105 -0.70660684]) = -11.341166117456822\n",
      "gradient = [ 5.28536212 -0.61506731]\n",
      "incrementing: alpha = 0.08639999999999999\n",
      "cnt = 4, f([ 0.75699634 -0.75974866]) = -12.380384677815528\n",
      "gradient = [-8.45361865 -4.87840952]\n",
      "decrementing: alpha = 0.043199999999999995\n",
      "cnt = 4, f([ 0.39180002 -0.97049595]) = -10.73608274923745\n",
      "gradient = [ 4.60230176 -0.54684122]\n",
      "incrementing: alpha = 0.05183999999999999\n",
      "cnt = 5, f([ 0.63038334 -0.9988442 ]) = -10.63970464449448\n",
      "gradient = [-3.64326485 -3.03151033]\n",
      "incrementing: alpha = 0.062207999999999986\n",
      "cnt = 6, f([ 0.40374312 -1.18742839]) = -10.641424074358248\n",
      "gradient = [6.82809976 0.30196205]\n",
      "decrementing: alpha = 0.031103999999999993\n",
      "cnt = 6, f([ 0.61612433 -1.17803616]) = -10.134897858967223\n",
      "gradient = [-1.49164077 -2.18439611]\n",
      "incrementing: alpha = 0.03732479999999999\n",
      "cnt = 7, f([ 0.56044914 -1.25956831]) = -9.98632080121396\n",
      "gradient = [ 1.27295116 -1.25803226]\n",
      "incrementing: alpha = 0.04478975999999999\n",
      "cnt = 8, f([ 0.61746432 -1.31591527]) = -9.872536293061989\n",
      "gradient = [-0.12445085 -1.63567778]\n",
      "incrementing: alpha = 0.05374771199999999\n",
      "cnt = 9, f([ 0.61077537 -1.40382921]) = -9.750829571168337\n",
      "gradient = [ 1.03956096 -1.2010589 ]\n",
      "incrementing: alpha = 0.06449725439999998\n",
      "cnt = 10, f([ 0.6778242  -1.48129421]) = -9.622675637770158\n",
      "gradient = [-0.41551737 -1.58459919]\n",
      "incrementing: alpha = 0.07739670527999998\n",
      "cnt = 11, f([ 0.64566452 -1.60393697]) = -9.503405965097965\n",
      "gradient = [ 1.96198325 -0.75025642]\n",
      "incrementing: alpha = 0.09287604633599997\n",
      "cnt = 12, f([ 0.82788577 -1.67361782]) = -9.513171069185567\n",
      "gradient = [-2.96669674 -2.25428377]\n",
      "decrementing: alpha = 0.046438023167999984\n",
      "cnt = 12, f([ 0.69011824 -1.7783023 ]) = -9.299072010418648\n",
      "gradient = [ 2.2571307  -0.51901132]\n",
      "incrementing: alpha = 0.05572562780159998\n",
      "cnt = 13, f([ 0.81589826 -1.80722453]) = -9.225272351111618\n",
      "gradient = [-1.4500108  -1.65499142]\n",
      "incrementing: alpha = 0.06687075336191997\n",
      "cnt = 14, f([ 0.71893495 -1.91789506]) = -9.172367758206486\n",
      "gradient = [ 2.7273154  -0.26828724]\n",
      "incrementing: alpha = 0.08024490403430397\n",
      "cnt = 15, f([ 0.93778811 -1.93942374]) = -9.271273984800638\n",
      "gradient = [-3.46432199 -2.22998233]\n",
      "decrementing: alpha = 0.040122452017151984\n",
      "cnt = 15, f([ 0.79879102 -2.0288961 ]) = -8.965801636049095\n",
      "gradient = [ 1.18118638 -0.65748901]\n",
      "incrementing: alpha = 0.04814694242058238\n",
      "cnt = 16, f([ 0.85566153 -2.06055218]) = -8.912402364485875\n",
      "gradient = [-0.25268434 -1.0852918 ]\n",
      "incrementing: alpha = 0.05777633090469885\n",
      "cnt = 17, f([ 0.84106236 -2.12325636]) = -8.859673919440624\n",
      "gradient = [ 0.77711207 -0.71584945]\n",
      "incrementing: alpha = 0.06933159708563862\n",
      "cnt = 18, f([ 0.89494078 -2.17288735]) = -8.804980392218669\n",
      "gradient = [-0.34922518 -1.03828003]\n",
      "incrementing: alpha = 0.08319791650276634\n",
      "cnt = 19, f([ 0.86588597 -2.25927008]) = -8.754213744642493\n",
      "gradient = [ 1.3190286  -0.45326171]\n",
      "incrementing: alpha = 0.0998374998033196\n",
      "cnt = 20, f([ 0.99757449 -2.3045226 ]) = -8.758387550592351\n",
      "gradient = [-1.92528835 -1.4678125 ]\n",
      "decrementing: alpha = 0.0499187499016598\n",
      "cnt = 20, f([ 0.9014665  -2.37779396]) = -8.658256922673948\n",
      "gradient = [ 1.35837372 -0.36271891]\n",
      "incrementing: alpha = 0.059902499881991755\n",
      "cnt = 21, f([ 0.98283648 -2.39952173]) = -8.62037720700272\n",
      "gradient = [-0.74901897 -1.01987722]\n",
      "incrementing: alpha = 0.0718829998583901\n",
      "cnt = 22, f([ 0.92899475 -2.47283357]) = -8.589345535654498\n",
      "gradient = [ 1.42081968 -0.28278334]\n",
      "incrementing: alpha = 0.08625959983006812\n",
      "cnt = 23, f([ 1.05155409 -2.49722635]) = -8.592273617738172\n",
      "gradient = [-1.66927501 -1.2644221 ]\n",
      "decrementing: alpha = 0.04312979991503406\n",
      "cnt = 23, f([ 0.97955859 -2.55176062]) = -8.50687931342523\n",
      "gradient = [ 0.67389813 -0.46906214]\n",
      "incrementing: alpha = 0.05175575989804087\n",
      "cnt = 24, f([ 1.0144367  -2.57603729]) = -8.482340216772414\n",
      "gradient = [-0.06887696 -0.69211121]\n",
      "incrementing: alpha = 0.06210691187764904\n",
      "cnt = 25, f([ 1.01015897 -2.61902218]) = -8.457242560838125\n",
      "gradient = [ 0.41900499 -0.51021633]\n",
      "incrementing: alpha = 0.07452829425317885\n",
      "cnt = 26, f([ 1.04138669 -2.65704773]) = -8.430055874804594\n",
      "gradient = [-0.08950622 -0.65163177]\n",
      "incrementing: alpha = 0.08943395310381462\n",
      "cnt = 27, f([ 1.0333818  -2.71532573]) = -8.401832167328743\n",
      "gradient = [ 0.62338962 -0.38953515]\n",
      "incrementing: alpha = 0.10732074372457755\n",
      "cnt = 28, f([ 1.10028444 -2.75713094]) = -8.38180914970977\n",
      "gradient = [-0.75392003 -0.81263467]\n",
      "incrementing: alpha = 0.12878489246949304\n",
      "cnt = 29, f([ 1.00319093 -2.86178601]) = -8.451291086895576\n",
      "gradient = [2.79500892 0.36939684]\n",
      "decrementing: alpha = 0.06439244623474652\n",
      "cnt = 29, f([ 1.18316839 -2.83799964]) = -8.417166383536129\n",
      "gradient = [-2.04324625 -1.20275665]\n",
      "decrementing: alpha = 0.03219622311737326\n",
      "cnt = 29, f([ 1.11738358 -2.87672386]) = -8.307437335724027\n",
      "gradient = [-0.20744414 -0.5693265 ]\n",
      "incrementing: alpha = 0.03863546774084791\n",
      "cnt = 30, f([ 1.10936887 -2.89872006]) = -8.296262919940636\n",
      "gradient = [ 0.17388147 -0.43387536]\n",
      "incrementing: alpha = 0.046362561289017494\n",
      "cnt = 31, f([ 1.11743047 -2.91883563]) = -8.286269793780507\n",
      "gradient = [ 0.1346198  -0.43608405]\n",
      "incrementing: alpha = 0.05563507354682099\n",
      "cnt = 32, f([ 1.12492005 -2.9430972 ]) = -8.274835739819647\n",
      "gradient = [ 0.14400409 -0.42048877]\n",
      "incrementing: alpha = 0.06676208825618518\n",
      "cnt = 33, f([ 1.13453406 -2.97116991]) = -8.261852504028013\n",
      "gradient = [ 0.13119657 -0.41026439]\n",
      "incrementing: alpha = 0.08011450590742221\n",
      "cnt = 34, f([ 1.14504481 -3.00403803]) = -8.247263117119703\n",
      "gradient = [ 0.13509989 -0.3923662 ]\n",
      "incrementing: alpha = 0.09613740708890665\n",
      "cnt = 35, f([ 1.15803296 -3.0417591 ]) = -8.23107050909418\n",
      "gradient = [ 0.11697764 -0.37943375]\n",
      "incrementing: alpha = 0.11536488850668798\n",
      "cnt = 36, f([ 1.17152808 -3.08553244]) = -8.213361182156824\n",
      "gradient = [ 0.1351426  -0.35203701]\n",
      "incrementing: alpha = 0.13843786620802556\n",
      "cnt = 37, f([ 1.19023693 -3.13426769]) = -8.194348296463529\n",
      "gradient = [ 0.06644916 -0.3509383 ]\n",
      "incrementing: alpha = 0.16612543944963068\n",
      "cnt = 38, f([ 1.20127582 -3.19256747]) = -8.174723475610161\n",
      "gradient = [ 0.25807725 -0.26100889]\n",
      "incrementing: alpha = 0.1993505273395568\n",
      "cnt = 39, f([ 1.25272366 -3.24459973]) = -8.162452546624639\n",
      "gradient = [-0.54295515 -0.50042868]\n",
      "incrementing: alpha = 0.23922063280746814\n",
      "cnt = 40, f([ 1.12283759 -3.36431259]) = -8.383915019391193\n",
      "gradient = [3.7650093  0.91466002]\n",
      "decrementing: alpha = 0.11961031640373407\n",
      "cnt = 40, f([ 1.57317154 -3.25490982]) = -9.287363068627135\n",
      "gradient = [-6.10053895 -2.51334244]\n",
      "decrementing: alpha = 0.059805158201867034\n",
      "cnt = 40, f([ 1.20832784 -3.40522066]) = -8.174072895097812\n",
      "gradient = [1.77473609 0.3203472 ]\n",
      "decrementing: alpha = 0.029902579100933517\n",
      "cnt = 40, f([ 1.26139703 -3.39564145]) = -8.116005327993344\n",
      "gradient = [ 0.39918003 -0.12392344]\n",
      "incrementing: alpha = 0.03588309492112022\n",
      "cnt = 41, f([ 1.27572084 -3.40008821]) = -8.111666552423006\n",
      "gradient = [ 0.10111698 -0.21939098]\n",
      "incrementing: alpha = 0.043059713905344264\n",
      "cnt = 42, f([ 1.28007491 -3.40953512]) = -8.109190799171419\n",
      "gradient = [ 0.07245188 -0.22476002]\n",
      "incrementing: alpha = 0.05167165668641312\n",
      "cnt = 43, f([ 1.28381862 -3.42114884]) = -8.106338029633083\n",
      "gradient = [ 0.07403874 -0.21929793]\n",
      "incrementing: alpha = 0.06200598802369574\n",
      "cnt = 44, f([ 1.28840946 -3.43474663]) = -8.103055506851545\n",
      "gradient = [ 0.07120422 -0.21447366]\n",
      "incrementing: alpha = 0.07440718562843489\n",
      "cnt = 45, f([ 1.29370757 -3.45070501]) = -8.099309266647438\n",
      "gradient = [ 0.0699667  -0.20816697]\n",
      "incrementing: alpha = 0.08928862275412186\n",
      "cnt = 46, f([ 1.2999548  -3.46929195]) = -8.09507543802612\n",
      "gradient = [ 0.06686527 -0.20142299]\n",
      "incrementing: alpha = 0.10714634730494622\n",
      "cnt = 47, f([ 1.30711917 -3.49087369]) = -8.09034599491102\n",
      "gradient = [ 0.06537126 -0.19297451]\n",
      "incrementing: alpha = 0.12857561676593546\n",
      "cnt = 48, f([ 1.31552432 -3.51568551]) = -8.085135644446142\n",
      "gradient = [ 0.06000136 -0.18456217]\n",
      "incrementing: alpha = 0.15429074011912255\n",
      "cnt = 49, f([ 1.32478197 -3.54416174]) = -8.079489534668754\n",
      "gradient = [ 0.06265681 -0.17213283]\n",
      "incrementing: alpha = 0.18514888814294705\n",
      "cnt = 50, f([ 1.33638281 -3.57603194]) = -8.073494061779183\n",
      "gradient = [ 0.0384165  -0.16735306]\n",
      "incrementing: alpha = 0.22217866577153647\n",
      "cnt = 51, f([ 1.34491814 -3.61321422]) = -8.067369933441633\n",
      "gradient = [ 0.12027916 -0.12567752]\n",
      "incrementing: alpha = 0.26661439892584377\n",
      "cnt = 52, f([ 1.37698629 -3.64672166]) = -8.06429824211538\n",
      "gradient = [-0.33156841 -0.26247169]\n",
      "incrementing: alpha = 0.3199372787110125\n",
      "cnt = 53, f([ 1.2709052  -3.73069614]) = -8.209295690067082\n",
      "gradient = [2.77313855 0.76588558]\n",
      "decrementing: alpha = 0.15996863935550626\n",
      "cnt = 53, f([ 1.7145204  -3.60817846]) = -9.284123934624377\n",
      "gradient = [-6.08675294 -2.38444358]\n",
      "decrementing: alpha = 0.07998431967775313\n",
      "cnt = 53, f([ 1.22767561 -3.79889656]) = -8.436548764670444\n",
      "gradient = [4.48856129 1.31239506]\n",
      "decrementing: alpha = 0.039992159838876565\n",
      "cnt = 53, f([ 1.40718287 -3.74641105]) = -8.050125880035463\n",
      "gradient = [-0.26698185 -0.20341754]\n",
      "incrementing: alpha = 0.047990591806651876\n",
      "cnt = 54, f([ 1.39437025 -3.75617318]) = -8.047443580064698\n",
      "gradient = [ 0.07125586 -0.08741212]\n",
      "incrementing: alpha = 0.05758871016798225\n",
      "cnt = 55, f([ 1.39847378 -3.76120713]) = -8.04677903520539\n",
      "gradient = [ 0.01944338 -0.10270745]\n",
      "incrementing: alpha = 0.0691064522015787\n",
      "cnt = 56, f([ 1.39981745 -3.76830487]) = -8.046043953427633\n",
      "gradient = [ 0.0408099  -0.09301918]\n",
      "incrementing: alpha = 0.08292774264189444\n",
      "cnt = 57, f([ 1.40320172 -3.77601874]) = -8.045206508324783\n",
      "gradient = [ 0.0232494  -0.09600725]\n",
      "incrementing: alpha = 0.09951329117027333\n",
      "cnt = 58, f([ 1.40551534 -3.78557274]) = -8.044259829073013\n",
      "gradient = [ 0.04126381 -0.08654739]\n",
      "incrementing: alpha = 0.11941594940432798\n",
      "cnt = 59, f([ 1.4104429  -3.79590788]) = -8.043205303104985\n",
      "gradient = [ 0.00957661 -0.09328947]\n",
      "incrementing: alpha = 0.14329913928519358\n",
      "cnt = 60, f([ 1.41181522 -3.80927618]) = -8.042075977822911\n",
      "gradient = [ 0.07401448 -0.06709419]\n",
      "incrementing: alpha = 0.1719589671422323\n",
      "cnt = 61, f([ 1.42454267 -3.82081363]) = -8.04121495960383\n",
      "gradient = [-0.11217631 -0.1247629 ]\n",
      "incrementing: alpha = 0.20635076057067875\n",
      "cnt = 62, f([ 1.40139501 -3.84655855]) = -8.046090065949526\n",
      "gradient = [0.55947306 0.10607467]\n",
      "decrementing: alpha = 0.10317538028533937\n",
      "cnt = 62, f([ 1.45911885 -3.83561425]) = -8.052246434140557\n",
      "gradient = [-0.71204152 -0.3209751 ]\n",
      "decrementing: alpha = 0.05158769014266969\n",
      "cnt = 62, f([ 1.42238627 -3.85217262]) = -8.038884813624124\n",
      "gradient = [ 0.15037552 -0.02644922]\n",
      "incrementing: alpha = 0.06190522817120362\n",
      "cnt = 63, f([ 1.43169531 -3.85380996]) = -8.038246930770603\n",
      "gradient = [-0.03279588 -0.08660171]\n",
      "incrementing: alpha = 0.07428627380544434\n",
      "cnt = 64, f([ 1.42925902 -3.86024328]) = -8.037834616012557\n",
      "gradient = [ 0.06235572 -0.05273491]\n",
      "incrementing: alpha = 0.0891435285665332\n",
      "cnt = 65, f([ 1.43481763 -3.86494426]) = -8.037410467220402\n",
      "gradient = [-0.02079409 -0.07867935]\n",
      "incrementing: alpha = 0.10697223427983983\n",
      "cnt = 66, f([ 1.43259324 -3.87336076]) = -8.036976081592522\n",
      "gradient = [ 0.08352134 -0.0410901 ]\n",
      "incrementing: alpha = 0.1283666811358078\n",
      "cnt = 67, f([ 1.4433146  -3.87863536]) = -8.036703480080476\n",
      "gradient = [-0.1021005  -0.10093139]\n",
      "incrementing: alpha = 0.15404001736296935\n",
      "cnt = 68, f([ 1.42758703 -3.89418284]) = -8.03809659548821\n",
      "gradient = [0.33314522 0.04869605]\n",
      "decrementing: alpha = 0.07702000868148468\n",
      "cnt = 68, f([ 1.45324588 -3.89043227]) = -8.036918865934462\n",
      "gradient = [-0.22451035 -0.13768709]\n",
      "decrementing: alpha = 0.03851000434074234\n",
      "cnt = 68, f([ 1.44459999 -3.8957346 ]) = -8.035359802878823\n",
      "gradient = [-0.01141518 -0.06477821]\n",
      "incrementing: alpha = 0.0462120052088908\n",
      "cnt = 69, f([ 1.44407247 -3.89872813]) = -8.03518533570379\n",
      "gradient = [ 0.01999947 -0.05329559]\n",
      "incrementing: alpha = 0.05545440625066896\n",
      "cnt = 70, f([ 1.44518153 -3.9016836 ]) = -8.035007326279446\n",
      "gradient = [ 0.01737575 -0.05314018]\n",
      "incrementing: alpha = 0.06654528750080276\n",
      "cnt = 71, f([ 1.4463378  -3.90521983]) = -8.03480149342942\n",
      "gradient = [ 0.01776283 -0.05178428]\n",
      "incrementing: alpha = 0.0798543450009633\n",
      "cnt = 72, f([ 1.44775624 -3.90935503]) = -8.034565143264116\n",
      "gradient = [ 0.01685054 -0.05065459]\n",
      "incrementing: alpha = 0.09582521400115597\n",
      "cnt = 73, f([ 1.44937095 -3.91420902]) = -8.034296133567235\n",
      "gradient = [ 0.01681978 -0.04898608]\n",
      "incrementing: alpha = 0.11499025680138716\n",
      "cnt = 74, f([ 1.45130506 -3.91984194]) = -8.033993183763513\n",
      "gradient = [ 0.01554855 -0.04746479]\n",
      "incrementing: alpha = 0.1379883081616646\n",
      "cnt = 75, f([ 1.45345058 -3.92639153]) = -8.033656345650869\n",
      "gradient = [ 0.01620153 -0.04499334]\n",
      "incrementing: alpha = 0.1655859697939975\n",
      "cnt = 76, f([ 1.45613332 -3.93384179]) = -8.033287632250943\n",
      "gradient = [ 0.01198363 -0.04383899]\n",
      "incrementing: alpha = 0.198703163752797\n",
      "cnt = 77, f([ 1.45851451 -3.94255274]) = -8.032892924971081\n",
      "gradient = [ 0.02254439 -0.03734783]\n",
      "incrementing: alpha = 0.2384437965033564\n",
      "cnt = 78, f([ 1.46389008 -3.9514581 ]) = -8.032512181298562\n",
      "gradient = [-0.02673049 -0.05071091]\n",
      "incrementing: alpha = 0.2861325558040277\n",
      "cnt = 79, f([ 1.45624162 -3.96596814]) = -8.033200096899854\n",
      "gradient = [0.22925912 0.03917252]\n",
      "decrementing: alpha = 0.14306627790201384\n",
      "cnt = 79, f([ 1.48904087 -3.96036387]) = -8.037695041783692\n",
      "gradient = [-0.47037525 -0.19640336]\n",
      "decrementing: alpha = 0.07153313895100692\n",
      "cnt = 79, f([ 1.45539345 -3.97441322]) = -8.033874761174394\n",
      "gradient = [0.30474445 0.06697668]\n",
      "decrementing: alpha = 0.03576656947550346\n",
      "cnt = 79, f([ 1.46629311 -3.97201769]) = -8.03180637063189\n",
      "gradient = [ 0.06377537 -0.01363965]\n",
      "incrementing: alpha = 0.04291988337060415\n",
      "cnt = 80, f([ 1.46903034 -3.97260311]) = -8.031689824519628\n",
      "gradient = [ 0.01193566 -0.0306815 ]\n",
      "incrementing: alpha = 0.05150386004472498\n",
      "cnt = 81, f([ 1.46964507 -3.97418332]) = -8.031634504953534\n",
      "gradient = [ 0.01012871 -0.03075036]\n",
      "incrementing: alpha = 0.06180463205366997\n",
      "cnt = 82, f([ 1.47027108 -3.97608384]) = -8.031570331515118\n",
      "gradient = [ 0.01026183 -0.03006608]\n",
      "incrementing: alpha = 0.07416555846440397\n",
      "cnt = 83, f([ 1.47103215 -3.9783137 ]) = -8.031496318314838\n",
      "gradient = [ 0.00987814 -0.02944357]\n",
      "incrementing: alpha = 0.08899867015728476\n",
      "cnt = 84, f([ 1.47191129 -3.98093414]) = -8.031411633612633\n",
      "gradient = [ 0.00973805 -0.02860947]\n",
      "incrementing: alpha = 0.1067984041887417\n",
      "cnt = 85, f([ 1.4729513  -3.98398959]) = -8.031315663909364\n",
      "gradient = [ 0.00927307 -0.02773856]\n",
      "incrementing: alpha = 0.12815808502649004\n",
      "cnt = 86, f([ 1.47413972 -3.98754451]) = -8.031208154263425\n",
      "gradient = [ 0.00917251 -0.02658032]\n",
      "incrementing: alpha = 0.15378970203178804\n",
      "cnt = 87, f([ 1.47555036 -3.99163229]) = -8.031089382831494\n",
      "gradient = [ 0.00816561 -0.02554743]\n",
      "incrementing: alpha = 0.18454764243814564\n",
      "cnt = 88, f([ 1.4770573  -3.99634701]) = -8.030960383063125\n",
      "gradient = [ 0.00943994 -0.02354806]\n",
      "incrementing: alpha = 0.22145717092577477\n",
      "cnt = 89, f([ 1.47914784 -4.00156189]) = -8.030823650357702\n",
      "gradient = [ 0.00227935 -0.02419432]\n",
      "incrementing: alpha = 0.26574860511092974\n",
      "cnt = 90, f([ 1.47975358 -4.0079915 ]) = -8.030697427359202\n",
      "gradient = [ 0.03333569 -0.01171545]\n",
      "incrementing: alpha = 0.3188983261331157\n",
      "cnt = 91, f([ 1.49038427 -4.01172754]) = -8.03118865491558\n",
      "gradient = [-0.15521184 -0.07340222]\n",
      "decrementing: alpha = 0.15944916306655785\n",
      "cnt = 91, f([ 1.46563587 -4.02343146]) = -8.034805718559989\n",
      "gradient = [0.42773136 0.12397444]\n",
      "decrementing: alpha = 0.07972458153327892\n",
      "cnt = 91, f([ 1.49973658 -4.01354765]) = -8.033265855052333\n",
      "gradient = [-0.32837514 -0.13089724]\n",
      "decrementing: alpha = 0.03986229076663946\n",
      "cnt = 91, f([ 1.48664679 -4.01876551]) = -8.030470948584883\n",
      "gradient = [-0.03330285 -0.03034836]\n",
      "incrementing: alpha = 0.047834748919967356\n",
      "cnt = 92, f([ 1.48505376 -4.02021722]) = -8.030417586138402\n",
      "gradient = [ 0.00850456 -0.01593291]\n",
      "incrementing: alpha = 0.05740169870396082\n",
      "cnt = 93, f([ 1.48554194 -4.02113179]) = -8.030399339977942\n",
      "gradient = [ 0.00480687 -0.01686272]\n",
      "incrementing: alpha = 0.06888203844475298\n",
      "cnt = 94, f([ 1.48587304 -4.02229333]) = -8.03037841590841\n",
      "gradient = [ 0.00593301 -0.016104  ]\n",
      "incrementing: alpha = 0.08265844613370357\n",
      "cnt = 95, f([ 1.48636346 -4.02362447]) = -8.030354384300086\n",
      "gradient = [ 0.00498835 -0.01597946]\n",
      "incrementing: alpha = 0.09919013536044428\n",
      "cnt = 96, f([ 1.48685825 -4.02520947]) = -8.030327014068694\n",
      "gradient = [ 0.00565942 -0.01523312]\n",
      "incrementing: alpha = 0.11902816243253314\n",
      "cnt = 97, f([ 1.48753188 -4.02702264]) = -8.030296171870477\n",
      "gradient = [ 0.00426119 -0.01510146]\n",
      "incrementing: alpha = 0.14283379491903977\n",
      "cnt = 98, f([ 1.48814052 -4.02917964]) = -8.030261892670335\n",
      "gradient = [ 0.00647706 -0.01365279]\n",
      "incrementing: alpha = 0.17140055390284772\n",
      "cnt = 99, f([ 1.48925069 -4.03151974]) = -8.030224751609616\n",
      "gradient = [-0.000166   -0.01509682]\n",
      "incrementing: alpha = 0.20568066468341725\n",
      "cnt = 100, f([ 1.48921655 -4.03462486]) = -8.030190939974348\n",
      "gradient = [ 0.02132913 -0.00691408]\n",
      "incrementing: alpha = 0.2468167976201007\n",
      "cnt = 101, f([ 1.49448094 -4.03633137]) = -8.030288601736192\n",
      "gradient = [-0.07279792 -0.03775176]\n",
      "decrementing: alpha = 0.12340839881005035\n",
      "cnt = 101, f([ 1.48549706 -4.04099025]) = -8.030576640559504\n",
      "gradient = [0.13921746 0.03438315]\n",
      "decrementing: alpha = 0.061704199405025174\n",
      "cnt = 101, f([ 1.49408736 -4.03886867]) = -8.030180602377666\n",
      "gradient = [-0.04799746 -0.02863952]\n",
      "incrementing: alpha = 0.0740450392860302\n",
      "cnt = 102, f([ 1.49053339 -4.04098928]) = -8.030131983795728\n",
      "gradient = [0.03748438 0.00055476]\n",
      "incrementing: alpha = 0.08885404714323625\n",
      "cnt = 103, f([ 1.49386403 -4.04093999]) = -8.030119632331456\n",
      "gradient = [-0.02969585 -0.02185381]\n",
      "incrementing: alpha = 0.10662485657188349\n",
      "cnt = 104, f([ 1.49069771 -4.04327015]) = -8.03013150575378\n",
      "gradient = [0.04946152 0.00528977]\n",
      "decrementing: alpha = 0.053312428285941744\n",
      "cnt = 104, f([ 1.49333463 -4.04298814]) = -8.030074564093747\n",
      "gradient = [-0.00540271 -0.01308111]\n",
      "incrementing: alpha = 0.0639749139431301\n",
      "cnt = 105, f([ 1.49298899 -4.043825  ]) = -8.030065776549213\n",
      "gradient = [ 0.00712553 -0.00863087]\n",
      "incrementing: alpha = 0.07676989673175612\n",
      "cnt = 106, f([ 1.49353602 -4.04448759]) = -8.030057298861239\n",
      "gradient = [ 0.00058309 -0.01059501]\n",
      "incrementing: alpha = 0.09212387607810733\n",
      "cnt = 107, f([ 1.49358973 -4.04546365]) = -8.030047821991063\n",
      "gradient = [ 0.00603109 -0.00845979]\n",
      "incrementing: alpha = 0.1105486512937288\n",
      "cnt = 108, f([ 1.49425646 -4.04639886]) = -8.03003729544373\n",
      "gradient = [-0.00108595 -0.0105267 ]\n",
      "incrementing: alpha = 0.13265838155247456\n",
      "cnt = 109, f([ 1.4941124  -4.04779532]) = -8.030026482272731\n",
      "gradient = [ 0.01113558 -0.0059965 ]\n",
      "incrementing: alpha = 0.15919005786296947\n",
      "cnt = 110, f([ 1.49588507 -4.0487499 ]) = -8.030022363281866\n",
      "gradient = [-0.0179991  -0.01539941]\n",
      "incrementing: alpha = 0.19102806943556336\n",
      "cnt = 111, f([ 1.49244674 -4.05169162]) = -8.03011232823136\n",
      "gradient = [0.0706769  0.01510444]\n",
      "decrementing: alpha = 0.09551403471778168\n",
      "cnt = 111, f([ 1.49919738 -4.05024894]) = -8.030138251605154\n",
      "gradient = [-0.07413342 -0.0336512 ]\n",
      "decrementing: alpha = 0.04775701735889084\n",
      "cnt = 111, f([ 1.49565699 -4.05185602]) = -8.029987989770305\n",
      "gradient = [ 0.00730584 -0.00594793]\n",
      "incrementing: alpha = 0.057308420830669005\n",
      "cnt = 112, f([ 1.49607567 -4.05219688]) = -8.02998385441472\n",
      "gradient = [ 0.0011959  -0.00787378]\n",
      "incrementing: alpha = 0.0687701049968028\n",
      "cnt = 113, f([ 1.49615791 -4.05273836]) = -8.029979637079412\n",
      "gradient = [ 0.00316418 -0.00704106]\n",
      "incrementing: alpha = 0.08252412599616336\n",
      "cnt = 114, f([ 1.49641903 -4.05331942]) = -8.029974820070223\n",
      "gradient = [ 0.0018148  -0.00730162]\n",
      "incrementing: alpha = 0.09902895119539604\n",
      "cnt = 115, f([ 1.49659875 -4.05404249]) = -8.029969337183754\n",
      "gradient = [ 0.00304335 -0.00665646]\n",
      "incrementing: alpha = 0.11883474143447524\n",
      "cnt = 116, f([ 1.49696041 -4.05483351]) = -8.02996316900789\n",
      "gradient = [ 0.00108344 -0.00705234]\n",
      "incrementing: alpha = 0.14260168972137027\n",
      "cnt = 117, f([ 1.49711491 -4.05583919]) = -8.02995640106778\n",
      "gradient = [ 0.00470239 -0.00551833]\n",
      "incrementing: alpha = 0.17112202766564433\n",
      "cnt = 118, f([ 1.49791959 -4.05678349]) = -8.029949951542934\n",
      "gradient = [-0.00509674 -0.00847865]\n",
      "incrementing: alpha = 0.2053464331987732\n",
      "cnt = 119, f([ 1.49687299 -4.05852456]) = -8.0299568374361\n",
      "gradient = [0.02747316 0.00294506]\n",
      "decrementing: alpha = 0.1026732165993866\n",
      "cnt = 119, f([ 1.49969375 -4.05822218]) = -8.029963868028299\n",
      "gradient = [-0.0309479  -0.01663577]\n",
      "decrementing: alpha = 0.0513366082996933\n",
      "cnt = 119, f([ 1.49810499 -4.0590762 ]) = -8.029935666418956\n",
      "gradient = [ 0.00648667 -0.00387056]\n",
      "incrementing: alpha = 0.06160392995963195\n",
      "cnt = 120, f([ 1.4985046  -4.05931464]) = -8.02993318542383\n",
      "gradient = [ 8.44822573e-05 -5.92782224e-03]\n",
      "incrementing: alpha = 0.07392471595155833\n",
      "cnt = 121, f([ 1.49851084 -4.05975286]) = -8.029930814088052\n",
      "gradient = [ 0.00288166 -0.00485268]\n",
      "incrementing: alpha = 0.08870965914187\n",
      "cnt = 122, f([ 1.49876647 -4.06018333]) = -8.02992814418215\n",
      "gradient = [ 0.00064051 -0.00546015]\n",
      "incrementing: alpha = 0.106451590970244\n",
      "cnt = 123, f([ 1.49883466 -4.06076458]) = -8.02992513951881\n",
      "gradient = [ 0.00315251 -0.00443369]\n",
      "incrementing: alpha = 0.1277419091642928\n",
      "cnt = 124, f([ 1.49923736 -4.06133094]) = -8.029921868058448\n",
      "gradient = [-0.00112216 -0.00567527]\n",
      "incrementing: alpha = 0.15329029099715133\n",
      "cnt = 125, f([ 1.49906535 -4.06220091]) = -8.029918995071258\n",
      "gradient = [ 0.00811602 -0.0023123 ]\n",
      "incrementing: alpha = 0.1839483491965816\n",
      "cnt = 126, f([ 1.50055827 -4.06262625]) = -8.029924162302235\n",
      "gradient = [-0.01887191 -0.01117596]\n",
      "decrementing: alpha = 0.0919741745982908\n",
      "cnt = 126, f([ 1.49882255 -4.06365415]) = -8.02992323781519\n",
      "gradient = [0.0226642  0.00300904]\n",
      "decrementing: alpha = 0.0459870872991454\n",
      "cnt = 126, f([ 1.49986481 -4.06351577]) = -8.029911049689131\n",
      "gradient = [ 0.00089988 -0.00429185]\n",
      "incrementing: alpha = 0.055184504758974476\n",
      "cnt = 127, f([ 1.49991447 -4.06375262]) = -8.02991000619464\n",
      "gradient = [ 0.00148583 -0.00401961]\n",
      "incrementing: alpha = 0.06622140571076937\n",
      "cnt = 128, f([ 1.50001286 -4.0640188 ]) = -8.029908802457232\n",
      "gradient = [ 0.00129355 -0.0039974 ]\n",
      "incrementing: alpha = 0.07946568685292324\n",
      "cnt = 129, f([ 1.50011565 -4.06433646]) = -8.029907416154687\n",
      "gradient = [ 0.00135635 -0.00387343]\n",
      "incrementing: alpha = 0.09535882422350789\n",
      "cnt = 130, f([ 1.50024499 -4.06470582]) = -8.029905832509815\n",
      "gradient = [ 0.00123333 -0.00379469]\n",
      "incrementing: alpha = 0.11443058906820947\n",
      "cnt = 131, f([ 1.50038612 -4.06514005]) = -8.02990404139233\n",
      "gradient = [ 0.00130691 -0.00362936]\n",
      "incrementing: alpha = 0.13731670688185135\n",
      "cnt = 132, f([ 1.50056558 -4.06563842]) = -8.029902040089604\n",
      "gradient = [ 0.0010422 -0.0035561]\n",
      "incrementing: alpha = 0.16478004825822162\n",
      "cnt = 133, f([ 1.50073732 -4.0662244 ]) = -8.029899838572334\n",
      "gradient = [ 0.00151536 -0.0032084 ]\n",
      "incrementing: alpha = 0.19773605790986595\n",
      "cnt = 134, f([ 1.50103696 -4.06685881]) = -8.029897491674214\n",
      "gradient = [-0.00024297 -0.00358928]\n",
      "incrementing: alpha = 0.23728326949183914\n",
      "cnt = 135, f([ 1.50097931 -4.06771049]) = -8.029895703928041\n",
      "gradient = [ 0.00658034 -0.00103788]\n",
      "incrementing: alpha = 0.284739923390207\n",
      "cnt = 136, f([ 1.50285299 -4.06800602]) = -8.029914521049228\n",
      "gradient = [-0.02882564 -0.0127549 ]\n",
      "decrementing: alpha = 0.1423699616951035\n",
      "cnt = 136, f([ 1.49874909 -4.06982193]) = -8.029994988871142\n",
      "gradient = [0.06529384 0.01920892]\n",
      "decrementing: alpha = 0.07118498084755175\n"
     ]
    },
    {
     "name": "stdout",
     "output_type": "stream",
     "text": [
      "cnt = 136, f([ 1.50339703 -4.06845455]) = -8.029926062945668\n",
      "gradient = [-0.03667696 -0.0152309 ]\n",
      "decrementing: alpha = 0.03559249042377587\n",
      "cnt = 136, f([ 1.5020916  -4.06899665]) = -8.029891978962931\n",
      "gradient = [-0.00705903 -0.00517071]\n",
      "incrementing: alpha = 0.04271098850853105\n",
      "cnt = 137, f([ 1.5017901 -4.0692175]) = -8.02989012072284\n",
      "gradient = [ 0.00042666 -0.00260225]\n",
      "incrementing: alpha = 0.05125318621023726\n",
      "cnt = 138, f([ 1.50181197 -4.06935087]) = -8.029889772305614\n",
      "gradient = [ 0.00087805 -0.00240853]\n",
      "incrementing: alpha = 0.06150382345228471\n",
      "cnt = 139, f([ 1.50186597 -4.069499  ]) = -8.029889371864668\n",
      "gradient = [ 0.00078632 -0.00239119]\n",
      "incrementing: alpha = 0.07380458814274164\n",
      "cnt = 140, f([ 1.50192401 -4.06967549]) = -8.029888909278613\n",
      "gradient = [ 0.00080285 -0.00232857]\n",
      "incrementing: alpha = 0.08856550577128997\n",
      "cnt = 141, f([ 1.50199511 -4.06988172]) = -8.029888378902912\n",
      "gradient = [ 0.00075656 -0.00227728]\n",
      "incrementing: alpha = 0.10627860692554796\n",
      "cnt = 142, f([ 1.50207552 -4.07012374]) = -8.029887776384152\n",
      "gradient = [ 0.00076291 -0.00219686]\n",
      "incrementing: alpha = 0.12753432831065753\n",
      "cnt = 143, f([ 1.50217282 -4.07040392]) = -8.029887099490848\n",
      "gradient = [ 0.00068612 -0.00213185]\n",
      "incrementing: alpha = 0.15304119397278904\n",
      "cnt = 144, f([ 1.50227782 -4.07073018]) = -8.029886349268384\n",
      "gradient = [ 0.00076227 -0.00200092]\n",
      "incrementing: alpha = 0.18364943276734683\n",
      "cnt = 145, f([ 1.50241781 -4.07109765]) = -8.029885532147055\n",
      "gradient = [ 0.00041462 -0.00199804]\n",
      "incrementing: alpha = 0.2203793193208162\n",
      "cnt = 146, f([ 1.50250919 -4.07153797]) = -8.029884676538313\n",
      "gradient = [ 0.00152178 -0.00148638]\n",
      "incrementing: alpha = 0.2644551831849794\n",
      "cnt = 147, f([ 1.50291163 -4.07193105]) = -8.029884239086229\n",
      "gradient = [-0.00389012 -0.00316453]\n",
      "incrementing: alpha = 0.31734621982197525\n",
      "cnt = 148, f([ 1.50167711 -4.07293531]) = -8.029900998330374\n",
      "gradient = [0.02743942 0.00760681]\n",
      "decrementing: alpha = 0.15867310991098763\n",
      "cnt = 148, f([ 1.50603101 -4.07172831]) = -8.029998138029315\n",
      "gradient = [-0.06729456 -0.02440048]\n",
      "decrementing: alpha = 0.07933655495549381\n",
      "cnt = 148, f([ 1.50069209 -4.07366416]) = -8.029948730979866\n",
      "gradient = [0.0519987  0.01602525]\n",
      "decrementing: alpha = 0.039668277477746906\n",
      "cnt = 148, f([ 1.50275479 -4.07302847]) = -8.029883077465577\n",
      "gradient = [0.00653976 0.00066898]\n",
      "incrementing: alpha = 0.04760193297329628\n",
      "cnt = 149, f([ 1.5030661  -4.07299662]) = -8.029882054224773\n",
      "gradient = [ 0.00011793 -0.00148318]\n",
      "incrementing: alpha = 0.057122319567955535\n",
      "cnt = 150, f([ 1.50307283 -4.07308135]) = -8.02988193354996\n",
      "gradient = [ 0.00054719 -0.00131263]\n",
      "incrementing: alpha = 0.06854678348154664\n",
      "cnt = 151, f([ 1.50311034 -4.07317132]) = -8.029881796788874\n",
      "gradient = [ 0.0003977  -0.00133342]\n",
      "incrementing: alpha = 0.08225614017785596\n",
      "cnt = 152, f([ 1.50314305 -4.073281  ]) = -8.029881639619804\n",
      "gradient = [ 0.00047492 -0.00127222]\n",
      "incrementing: alpha = 0.09870736821342714\n",
      "cnt = 153, f([ 1.50318993 -4.07340658]) = -8.029881460388557\n",
      "gradient = [ 0.0003754  -0.00126485]\n",
      "incrementing: alpha = 0.11844884185611257\n",
      "cnt = 154, f([ 1.5032344 -4.0735564]) = -8.029881258123858\n",
      "gradient = [ 0.00048525 -0.00117981]\n",
      "incrementing: alpha = 0.14213861022733507\n",
      "cnt = 155, f([ 1.50330337 -4.0737241 ]) = -8.029881033040557\n",
      "gradient = [ 0.0002253  -0.00121235]\n",
      "incrementing: alpha = 0.17056633227280207\n",
      "cnt = 156, f([ 1.5033418  -4.07393089]) = -8.029880789894577\n",
      "gradient = [ 0.00083444 -0.00094237]\n",
      "incrementing: alpha = 0.2046795987273625\n",
      "cnt = 157, f([ 1.50351259 -4.07412377]) = -8.029880584597167\n",
      "gradient = [-0.00128812 -0.0015881 ]\n",
      "incrementing: alpha = 0.24561551847283497\n",
      "cnt = 158, f([ 1.50319621 -4.07451383]) = -8.029881569799636\n",
      "gradient = [0.00761605 0.00150777]\n",
      "decrementing: alpha = 0.12280775923641749\n",
      "cnt = 158, f([ 1.50413152 -4.07432867]) = -8.029884084107199\n",
      "gradient = [-0.01226005 -0.00518256]\n",
      "decrementing: alpha = 0.06140387961820874\n",
      "cnt = 158, f([ 1.50337871 -4.0746469 ]) = -8.029880573653664\n",
      "gradient = [0.00486109 0.00063192]\n",
      "model: P(pass|hours) = S(-4.0746468959343405 + 1.5033787070592017 * hours)\n"
     ]
    }
   ],
   "source": [
    "start   = np.zeros((2,))\n",
    "eps     = 10 ** -8\n",
    "f       = lambda w: ll(X, y, w)\n",
    "gradF   = lambda w: gradLL(X, y, w)\n",
    "w, _, _ = gradient_ascent.findMaximum(f, gradF, start, eps, True)\n",
    "beta    = w[1]\n",
    "gamma   = w[0]\n",
    "print(f'model: P(pass|hours) = S({beta} + {gamma} * hours)')"
   ]
  },
  {
   "cell_type": "markdown",
   "metadata": {},
   "source": [
    "Let us plot this function together with the data."
   ]
  },
  {
   "cell_type": "code",
   "execution_count": 30,
   "metadata": {},
   "outputs": [
    {
     "data": {
      "image/png": "[encoded data removed]",
      "text/plain": [
       "<Figure size 1500x900 with 1 Axes>"
      ]
     },
     "metadata": {},
     "output_type": "display_data"
    }
   ],
   "source": [
    "plt.figure(figsize=(15, 9))\n",
    "sns.set_style('whitegrid')\n",
    "plt.title('Pass/Fail vs. Hours of Study')\n",
    "H = np.arange(0.0, 6.0, 0.05)\n",
    "P = sigmoid(beta + gamma * H)\n",
    "sns.lineplot(x=H, y=P, color='r')\n",
    "plt.axvline(x=0.0, c='k')\n",
    "plt.axhline(y=0.0, c='k')\n",
    "plt.xlabel('Hours of Study')\n",
    "plt.ylabel('Probability of Passing the Exam')\n",
    "plt.xticks(np.arange(0.0, 6.0, step=0.5))\n",
    "plt.yticks(np.arange(-0.0, 1.01, step=0.1))\n",
    "plt.scatter(x, (y + 1) / 2, color='b')\n",
    "plt.savefig('exam-probability.pdf')"
   ]
  },
  {
   "cell_type": "code",
   "execution_count": null,
   "metadata": {},
   "outputs": [],
   "source": []
  }
 ],
 "metadata": {
  "kernelspec": {
   "display_name": "Python 3 (ipykernel)",
   "language": "python",
   "name": "python3"
  },
  "language_info": {
   "codemirror_mode": {
    "name": "ipython",
    "version": 3
   },
   "file_extension": ".py",
   "mimetype": "text/x-python",
   "name": "python",
   "nbconvert_exporter": "python",
   "pygments_lexer": "ipython3",
   "version": "3.10.9"
  },
  "toc": {
   "base_numbering": 1,
   "nav_menu": {},
   "number_sections": true,
   "sideBar": true,
   "skip_h1_title": false,
   "title_cell": "Table of Contents",
   "title_sidebar": "Contents",
   "toc_cell": false,
   "toc_position": {},
   "toc_section_display": true,
   "toc_window_display": false
  },
  "varInspector": {
   "cols": {
    "lenName": 16,
    "lenType": 16,
    "lenVar": 40
   },
   "kernels_config": {
    "python": {
     "delete_cmd_postfix": "",
     "delete_cmd_prefix": "del ",
     "library": "var_list.py",
     "varRefreshCmd": "print(var_dic_list())"
    },
    "r": {
     "delete_cmd_postfix": ") ",
     "delete_cmd_prefix": "rm(",
     "library": "var_list.r",
     "varRefreshCmd": "cat(var_dic_list()) "
    }
   },
   "types_to_exclude": [
    "module",
    "function",
    "builtin_function_or_method",
    "instance",
    "_Feature"
   ],
   "window_display": false
  }
 },
 "nbformat": 4,
 "nbformat_minor": 2
}
