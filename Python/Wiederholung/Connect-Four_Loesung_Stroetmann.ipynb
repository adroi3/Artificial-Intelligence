{
 "cells": [
  {
   "cell_type": "code",
   "execution_count": null,
   "metadata": {},
   "outputs": [],
   "source": [
    "from IPython.core.display import HTML\n",
    "with open('../style.css') as f:\n",
    "    css = f.read()\n",
    "HTML(css)"
   ]
  },
  {
   "cell_type": "markdown",
   "metadata": {},
   "source": [
    "# Connect Four"
   ]
  },
  {
   "cell_type": "markdown",
   "metadata": {},
   "source": [
    "This notebook defines the game [Connect Four](https://en.wikipedia.org/wiki/Connect_Four).\n",
    "Connect Four is played on a board of dimension $6 \\times 7$, i.e. there are $6$ rows and $7$ columns.  Instead of `Red` and `Yellow` we call the players `X` and `O`.  Player `X` starts.  Player `X` and `O` take turns to choose columns that are not yet filled.  When player `X` chooses column `c`,  the first non-empty field in column `c` is filled with an `'X'`.  Likewise, when player `O` chooses column `c`,  the first non-empty field in column `c` is filled with an `'O'`.  Rows are numbered from the bottom up, i.e. the bottom row is row $0$.  The goal of the game for player `X` is to get four consecutive `'X's` into a row, column, or diagonal line, while player `O` needs to get four consecutive `'O's` into a row, column, or diagonal line."
   ]
  },
  {
   "cell_type": "code",
   "execution_count": null,
   "metadata": {},
   "outputs": [],
   "source": [
    "gPlayers = [ 'X', 'O' ]"
   ]
  },
  {
   "cell_type": "markdown",
   "metadata": {},
   "source": [
    "States are represented as tuples of tuples.  The game starts with an empty board.  An empty field on the board is represented as the string `' '`."
   ]
  },
  {
   "cell_type": "code",
   "execution_count": null,
   "metadata": {},
   "outputs": [],
   "source": [
    "gStart = tuple( tuple(' ' for col in range(7)) for row in range(6))\n",
    "gStart"
   ]
  },
  {
   "cell_type": "code",
   "execution_count": null,
   "metadata": {},
   "outputs": [],
   "source": [
    "def toString(State):\n",
    "    result = ''\n",
    "    for row in State:\n",
    "        line = '|'\n",
    "        for element in row:\n",
    "            if element == ' ':\n",
    "                line += '⬜|'\n",
    "            elif element == 'X':\n",
    "                line += '🔴|'\n",
    "            elif element == 'O':\n",
    "                line += '🔵|'\n",
    "        result = line + '\\n' + result\n",
    "    return result"
   ]
  },
  {
   "cell_type": "code",
   "execution_count": null,
   "metadata": {},
   "outputs": [],
   "source": [
    "print(toString(gStart))"
   ]
  },
  {
   "cell_type": "code",
   "execution_count": null,
   "metadata": {},
   "outputs": [],
   "source": [
    "R1 = ('X', 'X', 'O', 'X', 'X', 'O', ' ')\n",
    "R2 = ('X', 'O', 'X', 'O', 'X', 'O', ' ')\n",
    "R3 = (' ', ' ', 'O', 'X', 'X', 'X', ' ')\n",
    "R4 = (' ', ' ', 'X', 'O', 'O', 'O', ' ')\n",
    "R5 = (' ', ' ', 'O', 'O', 'X', ' ', ' ')\n",
    "R6 = (' ', ' ', ' ', 'O', ' ', ' ', ' ')\n",
    "gTestState = (R1, R2, R3, R4, R5, R6)\n",
    "print(toString(gTestState))"
   ]
  },
  {
   "cell_type": "markdown",
   "metadata": {},
   "source": [
    "The function `to_list` transforms a tuple of tuples into a list of lists."
   ]
  },
  {
   "cell_type": "code",
   "execution_count": null,
   "metadata": {},
   "outputs": [],
   "source": [
    "def to_list(State): \n",
    "    return [list(row) for row in State]"
   ]
  },
  {
   "cell_type": "markdown",
   "metadata": {},
   "source": [
    "The function `to_tuple` transforms a list of lists into a tuple of tuples."
   ]
  },
  {
   "cell_type": "code",
   "execution_count": null,
   "metadata": {},
   "outputs": [],
   "source": [
    "def to_tuple(State): \n",
    "    return tuple(tuple(row) for row in State)"
   ]
  },
  {
   "cell_type": "markdown",
   "metadata": {},
   "source": [
    "The function `find_empty` takes two arguments:\n",
    "- `State` is a description of the board,\n",
    "- `col`   specifies a column, i.e. it is an integer from the set $\\{0, \\cdots, 6\\}$.\n",
    "\n",
    "Given the `State` the function `find_empty(State, col)` returns the smallest $\\texttt{row} \\in \\{0, \\cdots, 5\\}$ such that \n",
    "\n",
    "```\n",
    "    State[row][col] == ' '\n",
    "```\n",
    "holds.  If the specified column is already completely filled, then instead `None` is returned."
   ]
  },
  {
   "cell_type": "code",
   "execution_count": null,
   "metadata": {},
   "outputs": [],
   "source": [
    "def find_empty(State, col):\n",
    "    for row in range(5+1):\n",
    "        if State[row][col] == ' ':\n",
    "            return row\n",
    "    return None"
   ]
  },
  {
   "cell_type": "markdown",
   "metadata": {},
   "source": [
    "Given a `State` and the `player` who has the next move, the function `next_states(State, player)` computes the list of states that can be reached from `State`."
   ]
  },
  {
   "cell_type": "code",
   "execution_count": null,
   "metadata": {},
   "outputs": [],
   "source": [
    "def next_states(State, player):\n",
    "    Empty = [(row, col) for col in range(6+1) \n",
    "                        if ((row := find_empty(State, col)) != None)]\n",
    "    Result = []\n",
    "    for (row, col) in Empty:\n",
    "        NextState           = to_list(State)\n",
    "        NextState[row][col] = player\n",
    "        NextState           = to_tuple(NextState)\n",
    "        Result.append(NextState)\n",
    "    return Result"
   ]
  },
  {
   "cell_type": "code",
   "execution_count": null,
   "metadata": {},
   "outputs": [],
   "source": [
    "for ns in next_states(gTestState, 'X'):\n",
    "    print(toString(ns))"
   ]
  },
  {
   "cell_type": "markdown",
   "metadata": {},
   "source": [
    "The variable `All_Lines` collects the coordinates of all groups of four fields that are consecutive horizontally, vertically, or diagonally."
   ]
  },
  {
   "cell_type": "code",
   "execution_count": null,
   "metadata": {},
   "outputs": [],
   "source": [
    "# horizontal lines\n",
    "All_Lines  = [ [ (row  , col+x) for x in range(3+1) ] for col in range(3+1)\n",
    "                                                      for row in range(5+1) \n",
    "             ]\n",
    "# vertical lines\n",
    "All_Lines += [ [ (row+x, col  ) for x in range(3+1) ] for col in range(6+1)\n",
    "                                                      for row in range(2+1) \n",
    "             ]\n",
    "# rising diagonals\n",
    "All_Lines += [ [ (row+x, col+x) for x in range(3+1) ] for col in range(3+1)\n",
    "                                                      for row in range(2+1)\n",
    "             ]\n",
    "# falling diagonals\n",
    "All_Lines += [ [ (row+x, col-x) for x in range(3+1) ] for col in range(3, 6+1)\n",
    "                                                      for row in range(2+1)\n",
    "             ]"
   ]
  },
  {
   "cell_type": "code",
   "execution_count": null,
   "metadata": {},
   "outputs": [],
   "source": [
    "len(All_Lines)"
   ]
  },
  {
   "cell_type": "markdown",
   "metadata": {},
   "source": [
    "Given a `State` the function `top_line_filled(State)` checks whether all marks in the top line of the given board are filled."
   ]
  },
  {
   "cell_type": "code",
   "execution_count": null,
   "metadata": {},
   "outputs": [],
   "source": [
    "def top_line_filled(State):\n",
    "    return ' ' not in State[5] "
   ]
  },
  {
   "cell_type": "markdown",
   "metadata": {},
   "source": [
    "The function `utility` takes one argument:\n",
    "- `State` is a tuple of tuples representing the board.\n",
    " \n",
    "The function returns `1` if player `X` has won the game, `-1` if player `O` has won the game, `0` if its a draw, and `None` if the game has not yet been decided."
   ]
  },
  {
   "cell_type": "code",
   "execution_count": null,
   "metadata": {},
   "outputs": [],
   "source": [
    "def utility(State):\n",
    "    # all lines are checked whether they contain 4 identical nonempty marks \n",
    "    for Line in All_Lines:\n",
    "        Chars = { State[r][c] for (r, c) in Line }\n",
    "        if len(Chars) == 1 and Chars != { ' ' }:\n",
    "            if Chars == { 'X' }:\n",
    "                return  1\n",
    "            else:\n",
    "                return -1\n",
    "    # no winner so far, check for a draw\n",
    "    if top_line_filled(State):  # no empty squares\n",
    "        return 0\n",
    "    return None"
   ]
  },
  {
   "cell_type": "markdown",
   "metadata": {},
   "source": [
    "The function heuristic tries to guess the value of a state.  Every three `X`'s in a line that can still be extended to four in a line are counted as `+1/10`, and every two `X`'s in a line that can be extended to four in a line are counted as `+1/100`.  Likewise, three `O`'s in a line count as `-1/10` and two `O`'s count as `-1/100`."
   ]
  },
  {
   "cell_type": "code",
   "execution_count": null,
   "metadata": {},
   "outputs": [],
   "source": [
    "def heuristic(State):\n",
    "    result = 0.0\n",
    "    # all lines are checked whether they contain 3 identical nonempty marks \n",
    "    for Line in All_Lines:\n",
    "        List = [ State[r][c] for (r,c) in Line \n",
    "                             if  State[r][c] != ' ' \n",
    "               ]\n",
    "        if len(List) == 3:\n",
    "            Chars = set(List)\n",
    "            if len(Chars) == 1:\n",
    "                if Chars == { 'X' }: \n",
    "                    result += 1/10\n",
    "                else:\n",
    "                    result -= 1/10\n",
    "        if len(List) == 2:\n",
    "            Chars = set(List)\n",
    "            if len(Chars) == 1:\n",
    "                if Chars == { 'X' }: \n",
    "                    result += 1/100\n",
    "                else:\n",
    "                    result -= 1/100\n",
    "        # prefer middle row\n",
    "    for row in range(5+1):\n",
    "        if State[row][3] == 'X':\n",
    "            result += 1/20\n",
    "        elif State[row][3] == 'O':\n",
    "            result -= 1/20\n",
    "    return result"
   ]
  },
  {
   "cell_type": "code",
   "execution_count": null,
   "metadata": {},
   "outputs": [],
   "source": [
    "heuristic(gTestState)"
   ]
  },
  {
   "cell_type": "markdown",
   "metadata": {},
   "source": [
    "`finished(State)` is `True` if the game is over."
   ]
  },
  {
   "cell_type": "code",
   "execution_count": null,
   "metadata": {},
   "outputs": [],
   "source": [
    "def finished(State):\n",
    "    return utility(State) != None"
   ]
  },
  {
   "cell_type": "markdown",
   "metadata": {},
   "source": [
    "The function `get_move` asks the user to input a move in the format `r,c` where `r` is the row and the `c` is the column where the next symbol is to be placed."
   ]
  },
  {
   "cell_type": "code",
   "execution_count": null,
   "metadata": {},
   "outputs": [],
   "source": [
    "def get_move(State):\n",
    "    State = to_list(State)\n",
    "    while True:\n",
    "        col = input(\"Enter column here: \")\n",
    "        col = int(col)\n",
    "        row = find_empty(State, col)\n",
    "        if row != None:\n",
    "            State[row][col] = 'O'\n",
    "            return to_tuple(State)\n",
    "        else:\n",
    "            print(\"Don't cheat.  Please try again.\")           "
   ]
  },
  {
   "cell_type": "markdown",
   "metadata": {},
   "source": [
    "This function informs the user about the result of the game once the game is finished."
   ]
  },
  {
   "cell_type": "code",
   "execution_count": null,
   "metadata": {},
   "outputs": [],
   "source": [
    "def final_msg(State):\n",
    "    if finished(State):\n",
    "        if utility(State) == -1:\n",
    "            print(\"You have won!\")\n",
    "        elif utility(State) == 1:\n",
    "            print(\"You have lost!\")\n",
    "        else:\n",
    "            print(\"It's a draw.\");\n",
    "        return True\n",
    "    return False"
   ]
  },
  {
   "cell_type": "markdown",
   "metadata": {},
   "source": [
    "# Drawing the Board"
   ]
  },
  {
   "cell_type": "code",
   "execution_count": null,
   "metadata": {},
   "outputs": [],
   "source": [
    "import ipycanvas as cnv"
   ]
  },
  {
   "cell_type": "code",
   "execution_count": null,
   "metadata": {},
   "outputs": [],
   "source": [
    "size = 50"
   ]
  },
  {
   "cell_type": "markdown",
   "metadata": {},
   "source": [
    "This function creates the canvas for the start state.  It draws an empty board which is later used for the game."
   ]
  },
  {
   "cell_type": "code",
   "execution_count": null,
   "metadata": {},
   "outputs": [],
   "source": [
    "def create_canvas():\n",
    "    n = len(gStart)\n",
    "    canvas = cnv.Canvas(size=(size * 7, size * 8))\n",
    "    display(canvas)\n",
    "    return canvas"
   ]
  },
  {
   "cell_type": "code",
   "execution_count": null,
   "metadata": {},
   "outputs": [],
   "source": [
    "import math "
   ]
  },
  {
   "cell_type": "markdown",
   "metadata": {},
   "source": [
    "The function `draw` takes three arguments:\n",
    "- `State` is the current state of the game.\n",
    "- `canvas` is a canvas used to draw the state.\n",
    "- `value` is the value of the game for player `X`.\n",
    "\n",
    "The function draws the given `State` onto `canvas`.  Below that, the `value` is printed."
   ]
  },
  {
   "cell_type": "code",
   "execution_count": null,
   "metadata": {},
   "outputs": [],
   "source": [
    "def draw(State, canvas, value):\n",
    "    canvas.clear()\n",
    "    canvas.font = '36px sans-serif'\n",
    "    canvas.text_align    = 'center'\n",
    "    canvas.text_baseline = 'middle'\n",
    "    for row in range(6):\n",
    "        for col in range(7):\n",
    "            x = col * size\n",
    "            y = row * size\n",
    "            canvas.line_width = 3.0\n",
    "            canvas.stroke_rect(x, y, size, size)\n",
    "            symbol = State[5-row][col]\n",
    "            if symbol != ' ':\n",
    "                x += size // 2\n",
    "                y += size // 2\n",
    "                if symbol == 'X':\n",
    "                    canvas.fill_style ='red'\n",
    "                else:\n",
    "                    canvas.fill_style ='blue'\n",
    "                canvas.fill_arc(x, y, 0.4*size, 0, 2*math.pi)\n",
    "    canvas.font = '20px sans-serif'\n",
    "    canvas.fill_style = 'black'\n",
    "    for i in range(7):\n",
    "        x = (i + 0.5) * size\n",
    "        y = 6.4 * size\n",
    "        canvas.fill_text(str(i), x, y) \n",
    "    x = 3.5 * size\n",
    "    y = 7.4 * size\n",
    "    canvas.fill_text(str(value), x, y)"
   ]
  },
  {
   "cell_type": "code",
   "execution_count": null,
   "metadata": {},
   "outputs": [],
   "source": [
    "draw(gTestState, create_canvas(), 1)"
   ]
  },
  {
   "cell_type": "code",
   "execution_count": null,
   "metadata": {},
   "outputs": [],
   "source": []
  }
 ],
 "metadata": {
  "kernelspec": {
   "display_name": "Python 3 (ipykernel)",
   "language": "python",
   "name": "python3"
  },
  "language_info": {
   "codemirror_mode": {
    "name": "ipython",
    "version": 3
   },
   "file_extension": ".py",
   "mimetype": "text/x-python",
   "name": "python",
   "nbconvert_exporter": "python",
   "pygments_lexer": "ipython3",
   "version": "3.10.8"
  },
  "toc": {
   "base_numbering": 1,
   "nav_menu": {},
   "number_sections": true,
   "sideBar": true,
   "skip_h1_title": false,
   "title_cell": "Table of Contents",
   "title_sidebar": "Contents",
   "toc_cell": false,
   "toc_position": {},
   "toc_section_display": true,
   "toc_window_display": false
  },
  "varInspector": {
   "cols": {
    "lenName": 16,
    "lenType": 16,
    "lenVar": 40
   },
   "kernels_config": {
    "python": {
     "delete_cmd_postfix": "",
     "delete_cmd_prefix": "del ",
     "library": "var_list.py",
     "varRefreshCmd": "print(var_dic_list())"
    },
    "r": {
     "delete_cmd_postfix": ") ",
     "delete_cmd_prefix": "rm(",
     "library": "var_list.r",
     "varRefreshCmd": "cat(var_dic_list()) "
    }
   },
   "types_to_exclude": [
    "module",
    "function",
    "builtin_function_or_method",
    "instance",
    "_Feature"
   ],
   "window_display": false
  }
 },
 "nbformat": 4,
 "nbformat_minor": 2
}
