{
 "cells": [
  {
   "cell_type": "code",
   "execution_count": 59,
   "metadata": {},
   "outputs": [],
   "source": [
    "import z3"
   ]
  },
  {
   "cell_type": "code",
   "execution_count": 60,
   "metadata": {},
   "outputs": [
    {
     "name": "stdout",
     "output_type": "stream",
     "text": [
      "Satisfiable\n"
     ]
    },
    {
     "data": {
      "text/plain": [
       "('45', '8')"
      ]
     },
     "execution_count": 60,
     "metadata": {},
     "output_type": "execute_result"
    }
   ],
   "source": [
    "t1 = z3.Real('t1')\n",
    "v1 = z3.Real('v1')\n",
    "\n",
    "S = z3.Solver()\n",
    "\n",
    "S.add(v1 * t1 == 360)\n",
    "S.add((v1+5)*(t1-z3.Q(48,60))==360)\n",
    "S.add(v1 > 0)\n",
    "\n",
    "if str(S.check()) == 'sat':\n",
    "    print('Satisfiable')\n",
    "\n",
    "Solution = S.model()\n",
    "\n",
    "V1 = Solution[v1].as_decimal(17)\n",
    "T1 = Solution[t1].as_decimal(17)\n",
    "V1, T1"
   ]
  },
  {
   "cell_type": "code",
   "execution_count": 61,
   "metadata": {},
   "outputs": [
    {
     "data": {
      "text/plain": [
       "(7, 4, 3)"
      ]
     },
     "execution_count": 61,
     "metadata": {},
     "output_type": "execute_result"
    }
   ],
   "source": [
    "Boys = z3.Int('boys')\n",
    "Girls = z3.Int('girls')\n",
    "Children = z3.Int('children')\n",
    "\n",
    "S = z3.Solver()\n",
    "\n",
    "S.add(Boys == (Girls -1) * 2)\n",
    "S.add(Girls == Boys -1)\n",
    "S.add(Children == Girls + Boys)\n",
    "S.check()\n",
    "Solution=S.model()\n",
    "\n",
    "Children = Solution[Children].as_long()\n",
    "Boys = Solution[Boys].as_long()\n",
    "Girls = Solution[Girls].as_long()\n",
    "\n",
    "Children, Boys, Girls"
   ]
  }
 ],
 "metadata": {
  "kernelspec": {
   "display_name": "ai",
   "language": "python",
   "name": "python3"
  },
  "language_info": {
   "codemirror_mode": {
    "name": "ipython",
    "version": 3
   },
   "file_extension": ".py",
   "mimetype": "text/x-python",
   "name": "python",
   "nbconvert_exporter": "python",
   "pygments_lexer": "ipython3",
   "version": "3.10.9"
  },
  "orig_nbformat": 4
 },
 "nbformat": 4,
 "nbformat_minor": 2
}
