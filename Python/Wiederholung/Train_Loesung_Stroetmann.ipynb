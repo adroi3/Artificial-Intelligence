{
 "cells": [
  {
   "cell_type": "code",
   "execution_count": 1,
   "id": "84683fdc",
   "metadata": {},
   "outputs": [
    {
     "data": {
      "text/html": [
       "<link href='http://fonts.googleapis.com/css?family=Alegreya+Sans:100,300,400,500,700,800,900,100italic,300italic,400italic,500italic,700italic,800italic,900italic' rel='stylesheet' type='text/css'>\n",
       "<link href='http://fonts.googleapis.com/css?family=Arvo:400,700,400italic' rel='stylesheet' type='text/css'>\n",
       "<link href='http://fonts.googleapis.com/css?family=PT+Mono' rel='stylesheet' type='text/css'>\n",
       "<link href='http://fonts.googleapis.com/css?family=Shadows+Into+Light' rel='stylesheet' type='text/css'>\n",
       "<link href='http://fonts.googleapis.com/css?family=Philosopher:400,700,400italic,700italic' rel='stylesheet' type='text/css'>\n",
       "\n",
       "<style>\n",
       "\n",
       "@font-face {\n",
       "    font-family: \"Computer Modern\";\n",
       "    src: url('http://mirrors.ctan.org/fonts/cm-unicode/fonts/otf/cmunss.otf');\n",
       "}\n",
       "\n",
       ".container { width: 100% }\n",
       "\n",
       "/* Formatting for header cells */\n",
       ".text_cell_render h1 {\n",
       "    font-family: 'Philosopher', sans-serif;\n",
       "    font-weight: 400;\n",
       "    font-size: 2.2em;\n",
       "    line-height: 100%;\n",
       "    color: rgb(0, 80, 120);\n",
       "    margin-bottom: 0.1em;\n",
       "    margin-top: 0.1em;\n",
       "    display: block;\n",
       "}\t\n",
       ".text_cell_render h2 {\n",
       "    font-family: 'Philosopher', serif;\n",
       "    font-weight: 400;\n",
       "    font-size: 1.9em;\n",
       "    line-height: 100%;\n",
       "    color: rgb(200,100,0);\n",
       "    margin-bottom: 0.1em;\n",
       "    margin-top: 0.1em;\n",
       "    display: block;\n",
       "}\t\n",
       "\n",
       ".text_cell_render h3 {\n",
       "    font-family: 'Philosopher', serif;\n",
       "    margin-top:12px;\n",
       "    margin-bottom: 3px;\n",
       "    font-style: italic;\n",
       "    color: rgb(94,127,192);\n",
       "}\n",
       "\n",
       ".text_cell_render h4 {\n",
       "    font-family: 'Philosopher', serif;\n",
       "}\n",
       "\n",
       ".text_cell_render h5 {\n",
       "    font-family: 'Alegreya Sans', sans-serif;\n",
       "    font-weight: 300;\n",
       "    font-size: 16pt;\n",
       "    color: grey;\n",
       "    font-style: italic;\n",
       "    margin-bottom: .1em;\n",
       "    margin-top: 0.1em;\n",
       "    display: block;\n",
       "}\n",
       "\n",
       ".text_cell_render h6 {\n",
       "    font-family: 'PT Mono', sans-serif;\n",
       "    font-weight: 300;\n",
       "    font-size: 10pt;\n",
       "    color: grey;\n",
       "    margin-bottom: 1px;\n",
       "    margin-top: 1px;\n",
       "}\n",
       "\n",
       ".text_cell_render em {\n",
       "    font-family: 'Philosopher', sans-serif;\n",
       "    color:        blue;\n",
       "    background-color: rgb(255,220,180);\n",
       "    font-size:    110%;\n",
       "    margin-left:   2px;\n",
       "    margin-right:  2px;\n",
       "    font-weight:   100;\n",
       "}\n",
       "\n",
       ".text_cell_render b {\n",
       "    color:            rgb(255,195,195);\n",
       "    background-color: rgb(0,0,0);\n",
       "    font-size:    110%;\n",
       "    margin-left:   2px;\n",
       "    margin-right:  2px;\n",
       "    font-weight:   650;\n",
       "}\n",
       "\n",
       ".text_cell_render u {\n",
       "    color:            blue;\n",
       "    font-size:    110%;\n",
       "    margin-left:   2px;\n",
       "    margin-right:  2px;\n",
       "    font-weight:   650;\n",
       "}\n",
       "\n",
       ".text_cell_render tt {\n",
       "    font-size:    120%;\n",
       "    margin-left:   2px;\n",
       "    margin-right:  2px;\n",
       "    font-weight:   150;\n",
       "}\n",
       "\n",
       ".Codemirror {\n",
       "    font-family: \"PT Mono\";\n",
       "    font-size: 100%;\n",
       "}\n",
       "\n",
       "</style>\n",
       "\n"
      ],
      "text/plain": [
       "<IPython.core.display.HTML object>"
      ]
     },
     "execution_count": 1,
     "metadata": {},
     "output_type": "execute_result"
    }
   ],
   "source": [
    "from IPython.core.display import HTML\n",
    "with open('../style.css') as f:\n",
    "    css = f.read()\n",
    "HTML(css)"
   ]
  },
  {
   "cell_type": "markdown",
   "id": "db7d38ac",
   "metadata": {},
   "source": [
    "# Solving a Quadratic Equation with  Z3\n",
    "\n",
    "In this notebook, we solve the following puzzle:\n",
    "\n",
    "<blockquote id=\"fancy\">\n",
    "   A train travels at a uniform speed for 360 miles.  \n",
    "   The train would have taken 48 minutes less to travel the same distance \n",
    "   if it had been 5 miles per hour faster. <br/>\n",
    "    \n",
    "   **Find the speed of the train**.\n",
    "</blockquote>"
   ]
  },
  {
   "cell_type": "code",
   "execution_count": 2,
   "id": "174da55b",
   "metadata": {},
   "outputs": [],
   "source": [
    "import z3"
   ]
  },
  {
   "cell_type": "markdown",
   "id": "66accac8",
   "metadata": {},
   "source": [
    "If $v$ is the velocity of the train (measured in miles per hour), then the time $t$ in hours to cover a distance of 360 miles is determined by the formula\n",
    "$$ 360 = t \\cdot v. $$\n",
    "If the train is 5 miles per hour faster, then the time to travel the same idstance is 48 minutes less.  \n",
    "As $\\displaystyle 48 = \\frac{4}{5} \\cdot 60$, this is equivalent to the equation\n",
    "$$ 360 = \\left(t - \\frac{4}{5}\\right) \\cdot (v + 5). $$\n",
    "Effectively, we therefore have to solve the following *non-linear* system of equations:\n",
    "$$ \\left\\{\n",
    "   \\begin{array}{lcl}\n",
    "     360 & = & t \\cdot v \\\\\n",
    "     360 & = & \\left(t - \\frac{4}{5}\\right) \\cdot (v + 5)\n",
    "   \\end{array}\n",
    "   \\right\\}\n",
    "$$\n",
    "If we solve the first equation for $t$ and substitute the resulting value for $t$ into the second equation, \n",
    "we can transform this system of equations into a single quadratic equation.  However, that gets tedious fast. \n",
    "Instead, we will use `Z3` to solve this system of equations."
   ]
  },
  {
   "cell_type": "markdown",
   "id": "39d70128",
   "metadata": {},
   "source": [
    "We start by declaring $t$ and $v$ as variables ranging over the set of real numbers $\\mathbb{R}$."
   ]
  },
  {
   "cell_type": "code",
   "execution_count": 3,
   "id": "da6dd4d0",
   "metadata": {},
   "outputs": [],
   "source": [
    "t = z3.Real('t')\n",
    "v = z3.Real('v')"
   ]
  },
  {
   "cell_type": "markdown",
   "id": "c2625602",
   "metadata": {},
   "source": [
    "Next, we create a *solver* object."
   ]
  },
  {
   "cell_type": "code",
   "execution_count": 4,
   "id": "211739d3",
   "metadata": {},
   "outputs": [],
   "source": [
    "S = z3.Solver()"
   ]
  },
  {
   "cell_type": "markdown",
   "id": "da3792d0",
   "metadata": {},
   "source": [
    "We can add the constraints to this solver object.  The fraction $\\displaystyle \\frac{4}{5}$ is created via the function `Q`. "
   ]
  },
  {
   "cell_type": "code",
   "execution_count": 5,
   "id": "60da9c3e",
   "metadata": {},
   "outputs": [],
   "source": [
    "S.add(360 == t * v)\n",
    "S.add(360 == (t - z3.Q(4, 5)) * (v + 5))"
   ]
  },
  {
   "cell_type": "markdown",
   "id": "1768406e",
   "metadata": {},
   "source": [
    "Actually, this system of equations given so far has two solutions, one of which is negative.\n",
    "In order to exclude the negative solution, we have to add the constraints that the time $t$ has to be positive."
   ]
  },
  {
   "cell_type": "code",
   "execution_count": 6,
   "id": "2aacd315",
   "metadata": {},
   "outputs": [],
   "source": [
    "S.add(t > 0)"
   ]
  },
  {
   "cell_type": "markdown",
   "id": "b5c45e51",
   "metadata": {},
   "source": [
    "Let us test whether there is a solution."
   ]
  },
  {
   "cell_type": "code",
   "execution_count": 7,
   "id": "ae45fd4e",
   "metadata": {},
   "outputs": [
    {
     "data": {
      "text/html": [
       "<b>sat</b>"
      ],
      "text/plain": [
       "sat"
      ]
     },
     "execution_count": 7,
     "metadata": {},
     "output_type": "execute_result"
    }
   ],
   "source": [
    "S.check()"
   ]
  },
  {
   "cell_type": "markdown",
   "id": "bed3e7be",
   "metadata": {},
   "source": [
    "All right, our system of equation is solvable. "
   ]
  },
  {
   "cell_type": "markdown",
   "id": "a30cfba0",
   "metadata": {},
   "source": [
    "We extract the solution from the solver."
   ]
  },
  {
   "cell_type": "code",
   "execution_count": 8,
   "id": "95f5b419",
   "metadata": {},
   "outputs": [
    {
     "data": {
      "text/html": [
       "[t = 8, v = 45, /0 = [(360, 8) &rarr; 45, else &rarr; 0]]"
      ],
      "text/plain": [
       "[t = 8, v = 45, /0 = [(360, 8) -> 45, else -> 0]]"
      ]
     },
     "execution_count": 8,
     "metadata": {},
     "output_type": "execute_result"
    }
   ],
   "source": [
    "solution = S.model()\n",
    "solution"
   ]
  },
  {
   "cell_type": "markdown",
   "id": "85007b98",
   "metadata": {},
   "source": [
    "We convert the speed into a string using the method `as_decimal`.\n",
    "Here, the number `17` is the *precision*, i.e. the number of digits following the decimal point.  Since the method `as_decimal` returns a string, we have to convert this string into a floating point number."
   ]
  },
  {
   "cell_type": "code",
   "execution_count": 9,
   "id": "7fd3fe8c",
   "metadata": {},
   "outputs": [
    {
     "data": {
      "text/plain": [
       "45.0"
      ]
     },
     "execution_count": 9,
     "metadata": {},
     "output_type": "execute_result"
    }
   ],
   "source": [
    "velocity = float(solution[v].as_decimal(17))\n",
    "velocity"
   ]
  },
  {
   "cell_type": "code",
   "execution_count": 10,
   "id": "e1f0f5eb",
   "metadata": {},
   "outputs": [
    {
     "name": "stdout",
     "output_type": "stream",
     "text": [
      "The train was driving with a velocity of 45.0 miles per hour.\n"
     ]
    }
   ],
   "source": [
    "print(f'The train was driving with a velocity of {velocity} miles per hour.')"
   ]
  },
  {
   "cell_type": "markdown",
   "id": "6e64498a",
   "metadata": {},
   "source": [
    "Let us check that this is correct."
   ]
  },
  {
   "cell_type": "code",
   "execution_count": 11,
   "id": "a8d32c22",
   "metadata": {},
   "outputs": [],
   "source": [
    "time = float(solution[t].as_decimal(17))"
   ]
  },
  {
   "cell_type": "code",
   "execution_count": 12,
   "id": "b93cbb7d",
   "metadata": {},
   "outputs": [
    {
     "data": {
      "text/plain": [
       "360.0"
      ]
     },
     "execution_count": 12,
     "metadata": {},
     "output_type": "execute_result"
    }
   ],
   "source": [
    "time * velocity"
   ]
  },
  {
   "cell_type": "code",
   "execution_count": 13,
   "id": "49f52928",
   "metadata": {},
   "outputs": [
    {
     "data": {
      "text/plain": [
       "360.0"
      ]
     },
     "execution_count": 13,
     "metadata": {},
     "output_type": "execute_result"
    }
   ],
   "source": [
    "(time - 4/5) * (velocity + 5)"
   ]
  },
  {
   "cell_type": "code",
   "execution_count": null,
   "id": "46455691",
   "metadata": {},
   "outputs": [],
   "source": []
  }
 ],
 "metadata": {
  "kernelspec": {
   "display_name": "Python 3 (ipykernel)",
   "language": "python",
   "name": "python3"
  },
  "language_info": {
   "codemirror_mode": {
    "name": "ipython",
    "version": 3
   },
   "file_extension": ".py",
   "mimetype": "text/x-python",
   "name": "python",
   "nbconvert_exporter": "python",
   "pygments_lexer": "ipython3",
   "version": "3.10.9"
  }
 },
 "nbformat": 4,
 "nbformat_minor": 5
}
