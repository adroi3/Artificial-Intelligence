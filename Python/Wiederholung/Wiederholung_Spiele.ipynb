{
 "cells": [
  {
   "cell_type": "markdown",
   "metadata": {},
   "source": [
    "# Allgemein"
   ]
  },
  {
   "cell_type": "code",
   "execution_count": 1,
   "metadata": {},
   "outputs": [],
   "source": [
    "import random\n",
    "random.seed(1)\n",
    "\n",
    "import IPython.display \n",
    "import ipycanvas as cnv"
   ]
  },
  {
   "cell_type": "code",
   "execution_count": 2,
   "metadata": {},
   "outputs": [],
   "source": [
    "def play_game(canvas):\n",
    "    State = gStart\n",
    "    while True: \n",
    "        val, State = best_move(State);\n",
    "        draw(State, canvas, f'For me, the game has the value {val}.')\n",
    "        if finished(State):\n",
    "            final_msg(State)\n",
    "            return\n",
    "        IPython.display.clear_output(wait=True)\n",
    "        State = get_move(State)\n",
    "        draw(State, canvas, '')\n",
    "        if finished(State):\n",
    "            IPython.display.clear_output(wait=True)\n",
    "            final_msg(State)\n",
    "            return"
   ]
  },
  {
   "cell_type": "code",
   "execution_count": 3,
   "metadata": {},
   "outputs": [],
   "source": [
    "def to_list(State): \n",
    "    return [list(row) for row in State]\n",
    "\n",
    "def to_tuple(State): \n",
    "    return tuple(tuple(row) for row in State)"
   ]
  },
  {
   "attachments": {},
   "cell_type": "markdown",
   "metadata": {},
   "source": [
    "# Memoisierung"
   ]
  },
  {
   "cell_type": "code",
   "execution_count": 4,
   "metadata": {},
   "outputs": [],
   "source": [
    "gCache = {}\n",
    "\n",
    "def memoize(f):\n",
    "    global gCache\n",
    "    \n",
    "    def f_memoized(*args):\n",
    "        if (f, args) in gCache:\n",
    "            return gCache[(f, args)]\n",
    "        result = f(*args)\n",
    "        gCache[(f, args)] = result\n",
    "        return result\n",
    "    \n",
    "    return f_memoized"
   ]
  },
  {
   "attachments": {},
   "cell_type": "markdown",
   "metadata": {},
   "source": [
    "# Mini-Max-Algorithmus"
   ]
  },
  {
   "cell_type": "code",
   "execution_count": 5,
   "metadata": {},
   "outputs": [],
   "source": [
    "def best_move(State):\n",
    "    NS        = next_states(State, gPlayers[0])\n",
    "    bestVal   = maxValue(State)\n",
    "    BestMoves = [s for s in NS if minValue(s) == bestVal]\n",
    "    BestState = random.choice(BestMoves)\n",
    "    return bestVal, BestState"
   ]
  },
  {
   "cell_type": "code",
   "execution_count": 6,
   "metadata": {},
   "outputs": [],
   "source": [
    "def maxValue(State):\n",
    "    if finished(State):\n",
    "        return utility(State)\n",
    "    return max([ minValue(ns) for ns in next_states(State, gPlayers[0]) ])"
   ]
  },
  {
   "cell_type": "code",
   "execution_count": 7,
   "metadata": {},
   "outputs": [],
   "source": [
    "def minValue(State):\n",
    "    if finished(State):\n",
    "        return utility(State)\n",
    "    return min([ maxValue(ns) for ns in next_states(State, gPlayers[1]) ])"
   ]
  },
  {
   "attachments": {},
   "cell_type": "markdown",
   "metadata": {},
   "source": [
    "## Beispiel Tic-Tac-Toe"
   ]
  },
  {
   "cell_type": "code",
   "execution_count": 8,
   "metadata": {},
   "outputs": [],
   "source": [
    "gPlayers = [ 'X', 'O' ]\n",
    "gStart = tuple( tuple(' ' for col in range(3)) for row in range(3) )\n",
    "gAllLines = [ [ (row, col) for col in range(3) ] for row in range(3) ] \\\n",
    "          + [ [ (row, col) for row in range(3) ] for col in range(3) ] \\\n",
    "          + [ [ (0, 0), (1, 1), (2, 2) ] ]                             \\\n",
    "          + [ [ (0, 2), (1, 1), (2, 0) ] ]\n",
    "\n",
    "def next_states(State, player):\n",
    "    Result = []\n",
    "    for row in range(3):\n",
    "        for col in range(3):\n",
    "            if State[row][col] == ' ':\n",
    "                NextState           = to_list(State)\n",
    "                NextState[row][col] = player\n",
    "                NextState           = to_tuple(NextState)\n",
    "                Result.append(NextState)\n",
    "    return Result\n",
    "\n",
    "def utility(State):\n",
    "    for Line in gAllLines:\n",
    "        Marks = { State[row][col] for row, col in Line }\n",
    "        if len(Marks) == 1 and  Marks != { ' ' }: \n",
    "            if Marks == { 'X' }:\n",
    "                return  1\n",
    "            else:\n",
    "                return -1\n",
    "    for row in range(3):\n",
    "        for col in range(3):\n",
    "            if State[row][col] == ' ':\n",
    "                return None  # the board is not filled  \n",
    "    # at this point, the board has been filled, but there is no winner, hence it's a draw\n",
    "    return 0\n",
    "\n",
    "def finished(State): \n",
    "    return utility(State) != None"
   ]
  },
  {
   "attachments": {},
   "cell_type": "markdown",
   "metadata": {},
   "source": [
    "### Spiel"
   ]
  },
  {
   "cell_type": "code",
   "execution_count": 9,
   "metadata": {},
   "outputs": [],
   "source": [
    "g_size = 150\n",
    "\n",
    "def create_canvas():\n",
    "    n = 3\n",
    "    canvas = cnv.Canvas(size=(g_size * n, g_size * n + 50))\n",
    "    display(canvas)\n",
    "    return canvas\n",
    "\n",
    "def get_move(State):\n",
    "    State = to_list(State)\n",
    "    while True:\n",
    "        try:\n",
    "            row, col = input('Enter move here: ').split(',')\n",
    "            row, col = int(row), int(col)\n",
    "            if State[row][col] == ' ':\n",
    "                State[row][col] = 'O'\n",
    "                return to_tuple(State)\n",
    "            print(\"Don't cheat! Please try again.\")  \n",
    "        except:\n",
    "            print('Illegal input.')  \n",
    "            print('row and col are numbers from the set {0,1,2}.')\n",
    "\n",
    "def final_msg(State):\n",
    "    if finished(State):\n",
    "        if utility(State) == -1:\n",
    "            print('You have won!')\n",
    "        elif utility(State) == 1:\n",
    "            print('The computer has won!')\n",
    "        else:\n",
    "            print(\"It's a draw.\")\n",
    "        return True\n",
    "    return False\n",
    "\n",
    "def draw(State, canvas, value):\n",
    "    canvas.clear()\n",
    "    n = len(State)\n",
    "    canvas.font = '90px sans-serif'\n",
    "    canvas.text_align    = 'center'\n",
    "    canvas.text_baseline = 'middle'\n",
    "    for row in range(n):\n",
    "        for col in range(n):\n",
    "            x = col * g_size\n",
    "            y = row * g_size\n",
    "            canvas.line_width = 3.0\n",
    "            canvas.stroke_rect(x, y, g_size, g_size)\n",
    "            symbol = State[row][col]\n",
    "            if symbol != ' ':\n",
    "                x += g_size // 2\n",
    "                y += g_size // 2\n",
    "                if symbol == 'X':\n",
    "                    canvas.fill_style ='red'\n",
    "                else:\n",
    "                    canvas.fill_style ='blue'\n",
    "                canvas.fill_text(symbol, x, y)\n",
    "    canvas.font = '12px sans-serif'\n",
    "    canvas.fill_style = 'green'\n",
    "    for row in range(n):\n",
    "        for col in range(n):\n",
    "            x = col * g_size + 16\n",
    "            y = row * g_size + 141\n",
    "            canvas.fill_text(f'({row}, {col})', x, y)            \n",
    "    canvas.font = '20px sans-serif'\n",
    "    canvas.fill_style = 'black'\n",
    "    x = 1.5 * g_size\n",
    "    y = 3.2 * g_size\n",
    "    canvas.fill_text(str(value), x, y)\n",
    "\n",
    "def play_game(canvas):\n",
    "    State = gStart\n",
    "    while True: \n",
    "        val, State = best_move(State);\n",
    "        draw(State, canvas, f'For me, the game has the value {val}.')\n",
    "        if finished(State):\n",
    "            final_msg(State)\n",
    "            return\n",
    "        IPython.display.clear_output(wait=True)\n",
    "        State = get_move(State)\n",
    "        draw(State, canvas, '')\n",
    "        if finished(State):\n",
    "            IPython.display.clear_output(wait=True)\n",
    "            final_msg(State)\n",
    "            return"
   ]
  },
  {
   "cell_type": "code",
   "execution_count": 10,
   "metadata": {},
   "outputs": [],
   "source": [
    "# canvas = create_canvas()\n",
    "# val = maxValue(gStart)\n",
    "# draw(gStart, canvas, f'Current value of game for \"X\": {val}')\n",
    "# play_game(canvas)"
   ]
  },
  {
   "cell_type": "markdown",
   "metadata": {},
   "source": [
    "### Ohne vs. mit Memoizierung"
   ]
  },
  {
   "cell_type": "code",
   "execution_count": 11,
   "metadata": {},
   "outputs": [
    {
     "name": "stdout",
     "output_type": "stream",
     "text": [
      "CPU times: total: 6.22 s\n",
      "Wall time: 6.24 s\n"
     ]
    },
    {
     "data": {
      "text/plain": [
       "0"
      ]
     },
     "execution_count": 11,
     "metadata": {},
     "output_type": "execute_result"
    }
   ],
   "source": [
    "%%time\n",
    "val = maxValue(gStart)\n",
    "val"
   ]
  },
  {
   "cell_type": "code",
   "execution_count": 12,
   "metadata": {},
   "outputs": [],
   "source": [
    "oldMaxValue = maxValue\n",
    "oldMinValue = minValue\n",
    "\n",
    "maxValue = memoize(maxValue)\n",
    "minValue = memoize(minValue)"
   ]
  },
  {
   "cell_type": "code",
   "execution_count": 13,
   "metadata": {},
   "outputs": [
    {
     "name": "stdout",
     "output_type": "stream",
     "text": [
      "CPU times: total: 109 ms\n",
      "Wall time: 118 ms\n"
     ]
    },
    {
     "data": {
      "text/plain": [
       "0"
      ]
     },
     "execution_count": 13,
     "metadata": {},
     "output_type": "execute_result"
    }
   ],
   "source": [
    "%%time\n",
    "val = maxValue(gStart)\n",
    "val"
   ]
  },
  {
   "cell_type": "code",
   "execution_count": 14,
   "metadata": {},
   "outputs": [],
   "source": [
    "maxValue = oldMaxValue\n",
    "minValue = oldMinValue"
   ]
  },
  {
   "cell_type": "markdown",
   "metadata": {},
   "source": [
    "### Ohne vs. mit Bitboard"
   ]
  },
  {
   "cell_type": "code",
   "execution_count": 15,
   "metadata": {},
   "outputs": [
    {
     "name": "stdout",
     "output_type": "stream",
     "text": [
      "CPU times: total: 6.8 s\n",
      "Wall time: 6.97 s\n"
     ]
    },
    {
     "data": {
      "text/plain": [
       "0"
      ]
     },
     "execution_count": 15,
     "metadata": {},
     "output_type": "execute_result"
    }
   ],
   "source": [
    "%%time\n",
    "val = maxValue(gStart)\n",
    "val"
   ]
  },
  {
   "cell_type": "code",
   "execution_count": 16,
   "metadata": {},
   "outputs": [],
   "source": [
    "gPlayers = [0, 1]\n",
    "gStart = 0\n",
    "\n",
    "def set_bits(Bits):\n",
    "    result = 0\n",
    "    for b in Bits:\n",
    "        result |= 1 << b # bitwise or 2**b\n",
    "    return result\n",
    "\n",
    "def set_bit(n): \n",
    "    return 1 << n\n",
    "\n",
    "def empty(state):\n",
    "    Free  = { n for n in range(9) }\n",
    "    Free -= { n for n in range(9) if state & (1 << n) != 0 } # Spieler X => von Bit 0 - 8\n",
    "    Free -= { n for n in range(9) if state & (1 << (9 + n)) != 0 } # Spieler O => von Bit 9 - Bit 17\n",
    "    return Free\n",
    "\n",
    "def next_states(state, player):\n",
    "    Empty  = empty(state)\n",
    "    Result = []\n",
    "    for n in Empty:\n",
    "        next_state = state | set_bit(player * 9 + n)\n",
    "        Result.append(next_state)\n",
    "    return Result\n",
    "\n",
    "gAllLines = [ set_bits([0,1,2]), # 1st row\n",
    "              set_bits([3,4,5]), # 2nd row\n",
    "              set_bits([6,7,8]), # 3rd row\n",
    "              set_bits([0,3,6]), # 1st column\n",
    "              set_bits([1,4,7]), # 2nd column\n",
    "              set_bits([2,5,8]), # 3rd column\n",
    "              set_bits([0,4,8]), # falling diagonal\n",
    "              set_bits([2,4,6]), # rising diagonal\n",
    "            ]\n",
    "\n",
    "def utility(state):\n",
    "    for mask in gAllLines:\n",
    "        if state & mask == mask:\n",
    "            return 1               # the computer has won\n",
    "        if (state >> 9) & mask == mask:\n",
    "            return -1              # the computer has lost\n",
    "    # 511 == 2**9 - 1 = 0b1_1111_1111\n",
    "    # state & 511: Ergibt gesetzten Bits von Spieler X\n",
    "    # (state & 511) | (state >> 9): Schiebt state um 9 nach Rechts (Bits von Spieler 0) und verknüpft Wert mit vorherigem Ergebnis mit Bitwise OR\n",
    "    # Falls das Ergebnis 511 Ergeben würde, wären alle Felder von einem Spieler belegt\n",
    "    if (state & 511) | (state >> 9) != 511: # the board is not yet filled\n",
    "        return None\n",
    "    # at this point, the board has been filled, but there is no winner hence its a draw\n",
    "    return 0 # it's a draw"
   ]
  },
  {
   "cell_type": "code",
   "execution_count": 17,
   "metadata": {},
   "outputs": [
    {
     "name": "stdout",
     "output_type": "stream",
     "text": [
      "CPU times: total: 3.19 s\n",
      "Wall time: 3.21 s\n"
     ]
    },
    {
     "data": {
      "text/plain": [
       "0"
      ]
     },
     "execution_count": 17,
     "metadata": {},
     "output_type": "execute_result"
    }
   ],
   "source": [
    "%%time\n",
    "val = maxValue(gStart)\n",
    "val"
   ]
  }
 ],
 "metadata": {
  "kernelspec": {
   "display_name": "ai",
   "language": "python",
   "name": "python3"
  },
  "language_info": {
   "codemirror_mode": {
    "name": "ipython",
    "version": 3
   },
   "file_extension": ".py",
   "mimetype": "text/x-python",
   "name": "python",
   "nbconvert_exporter": "python",
   "pygments_lexer": "ipython3",
   "version": "3.10.9"
  },
  "orig_nbformat": 4
 },
 "nbformat": 4,
 "nbformat_minor": 2
}
