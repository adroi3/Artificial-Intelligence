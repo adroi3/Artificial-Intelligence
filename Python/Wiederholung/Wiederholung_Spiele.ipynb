{
 "cells": [
  {
   "cell_type": "markdown",
   "metadata": {},
   "source": [
    "# Allgemein"
   ]
  },
  {
   "cell_type": "code",
   "execution_count": 53,
   "metadata": {},
   "outputs": [],
   "source": [
    "import random\n",
    "random.seed(1)\n",
    "\n",
    "import IPython.display \n",
    "import ipycanvas as cnv"
   ]
  },
  {
   "cell_type": "code",
   "execution_count": 54,
   "metadata": {},
   "outputs": [],
   "source": [
    "def play_game(canvas):\n",
    "    State = gStart\n",
    "    while True: \n",
    "        val, State = best_move(State);\n",
    "        draw(State, canvas, f'For me, the game has the value {val}.')\n",
    "        if finished(State):\n",
    "            final_msg(State)\n",
    "            return\n",
    "        IPython.display.clear_output(wait=True)\n",
    "        State = get_move(State)\n",
    "        draw(State, canvas, '')\n",
    "        if finished(State):\n",
    "            IPython.display.clear_output(wait=True)\n",
    "            final_msg(State)\n",
    "            return"
   ]
  },
  {
   "cell_type": "code",
   "execution_count": 55,
   "metadata": {},
   "outputs": [],
   "source": [
    "def to_list(State): \n",
    "    return [list(row) for row in State]\n",
    "\n",
    "def to_tuple(State): \n",
    "    return tuple(tuple(row) for row in State)"
   ]
  },
  {
   "attachments": {},
   "cell_type": "markdown",
   "metadata": {},
   "source": [
    "# Memoisierung"
   ]
  },
  {
   "cell_type": "code",
   "execution_count": 56,
   "metadata": {},
   "outputs": [],
   "source": [
    "gCache = {}\n",
    "\n",
    "def memoize(f):\n",
    "    global gCache\n",
    "    \n",
    "    def f_memoized(*args):\n",
    "        if (f, args) in gCache:\n",
    "            return gCache[(f, args)]\n",
    "        result = f(*args)\n",
    "        gCache[(f, args)] = result\n",
    "        return result\n",
    "    \n",
    "    return f_memoized"
   ]
  },
  {
   "attachments": {},
   "cell_type": "markdown",
   "metadata": {},
   "source": [
    "# Mini-Max-Algorithmus"
   ]
  },
  {
   "cell_type": "code",
   "execution_count": 57,
   "metadata": {},
   "outputs": [],
   "source": [
    "def best_move(State):\n",
    "    NS        = next_states(State, gPlayers[0])\n",
    "    bestVal   = maxValue(State)\n",
    "    BestMoves = [s for s in NS if minValue(s) == bestVal]\n",
    "    BestState = random.choice(BestMoves)\n",
    "    return bestVal, BestState"
   ]
  },
  {
   "cell_type": "code",
   "execution_count": 58,
   "metadata": {},
   "outputs": [],
   "source": [
    "def maxValue(State):\n",
    "    if finished(State):\n",
    "        return utility(State)\n",
    "    return max([ minValue(ns) for ns in next_states(State, gPlayers[0]) ])"
   ]
  },
  {
   "cell_type": "code",
   "execution_count": 59,
   "metadata": {},
   "outputs": [],
   "source": [
    "def minValue(State):\n",
    "    if finished(State):\n",
    "        return utility(State)\n",
    "    return min([ maxValue(ns) for ns in next_states(State, gPlayers[1]) ])"
   ]
  },
  {
   "attachments": {},
   "cell_type": "markdown",
   "metadata": {},
   "source": [
    "### Beispiel Tic-Tac-Toe"
   ]
  },
  {
   "cell_type": "code",
   "execution_count": 60,
   "metadata": {},
   "outputs": [],
   "source": [
    "gPlayers = [ 'X', 'O' ]\n",
    "gStart = tuple( tuple(' ' for col in range(3)) for row in range(3) )\n",
    "gAllLines = [ [ (row, col) for col in range(3) ] for row in range(3) ] \\\n",
    "          + [ [ (row, col) for row in range(3) ] for col in range(3) ] \\\n",
    "          + [ [ (0, 0), (1, 1), (2, 2) ] ]                             \\\n",
    "          + [ [ (0, 2), (1, 1), (2, 0) ] ]\n",
    "\n",
    "def next_states(State, player):\n",
    "    Result = []\n",
    "    for row in range(3):\n",
    "        for col in range(3):\n",
    "            if State[row][col] == ' ':\n",
    "                NextState           = to_list(State)\n",
    "                NextState[row][col] = player\n",
    "                NextState           = to_tuple(NextState)\n",
    "                Result.append(NextState)\n",
    "    return Result\n",
    "\n",
    "def utility(State):\n",
    "    for Line in gAllLines:\n",
    "        Marks = { State[row][col] for row, col in Line }\n",
    "        if len(Marks) == 1 and  Marks != { ' ' }: \n",
    "            if Marks == { 'X' }:\n",
    "                return  1\n",
    "            else:\n",
    "                return -1\n",
    "    for row in range(3):\n",
    "        for col in range(3):\n",
    "            if State[row][col] == ' ':\n",
    "                return None  # the board is not filled  \n",
    "    # at this point, the board has been filled, but there is no winner, hence it's a draw\n",
    "    return 0\n",
    "\n",
    "def finished(State): \n",
    "    return utility(State) != None"
   ]
  },
  {
   "attachments": {},
   "cell_type": "markdown",
   "metadata": {},
   "source": [
    "### Spiel"
   ]
  },
  {
   "cell_type": "code",
   "execution_count": 61,
   "metadata": {},
   "outputs": [],
   "source": [
    "g_size = 150\n",
    "\n",
    "def create_canvas():\n",
    "    n = 3\n",
    "    canvas = cnv.Canvas(size=(g_size * n, g_size * n + 50))\n",
    "    display(canvas)\n",
    "    return canvas\n",
    "\n",
    "def get_move(State):\n",
    "    State = to_list(State)\n",
    "    while True:\n",
    "        try:\n",
    "            row, col = input('Enter move here: ').split(',')\n",
    "            row, col = int(row), int(col)\n",
    "            if State[row][col] == ' ':\n",
    "                State[row][col] = 'O'\n",
    "                return to_tuple(State)\n",
    "            print(\"Don't cheat! Please try again.\")  \n",
    "        except:\n",
    "            print('Illegal input.')  \n",
    "            print('row and col are numbers from the set {0,1,2}.')\n",
    "\n",
    "def final_msg(State):\n",
    "    if finished(State):\n",
    "        if utility(State) == -1:\n",
    "            print('You have won!')\n",
    "        elif utility(State) == 1:\n",
    "            print('The computer has won!')\n",
    "        else:\n",
    "            print(\"It's a draw.\")\n",
    "        return True\n",
    "    return False\n",
    "\n",
    "def draw(State, canvas, value):\n",
    "    canvas.clear()\n",
    "    n = len(State)\n",
    "    canvas.font = '90px sans-serif'\n",
    "    canvas.text_align    = 'center'\n",
    "    canvas.text_baseline = 'middle'\n",
    "    for row in range(n):\n",
    "        for col in range(n):\n",
    "            x = col * g_size\n",
    "            y = row * g_size\n",
    "            canvas.line_width = 3.0\n",
    "            canvas.stroke_rect(x, y, g_size, g_size)\n",
    "            symbol = State[row][col]\n",
    "            if symbol != ' ':\n",
    "                x += g_size // 2\n",
    "                y += g_size // 2\n",
    "                if symbol == 'X':\n",
    "                    canvas.fill_style ='red'\n",
    "                else:\n",
    "                    canvas.fill_style ='blue'\n",
    "                canvas.fill_text(symbol, x, y)\n",
    "    canvas.font = '12px sans-serif'\n",
    "    canvas.fill_style = 'green'\n",
    "    for row in range(n):\n",
    "        for col in range(n):\n",
    "            x = col * g_size + 16\n",
    "            y = row * g_size + 141\n",
    "            canvas.fill_text(f'({row}, {col})', x, y)            \n",
    "    canvas.font = '20px sans-serif'\n",
    "    canvas.fill_style = 'black'\n",
    "    x = 1.5 * g_size\n",
    "    y = 3.2 * g_size\n",
    "    canvas.fill_text(str(value), x, y)\n",
    "\n",
    "def play_game(canvas):\n",
    "    State = gStart\n",
    "    while True: \n",
    "        val, State = best_move(State);\n",
    "        draw(State, canvas, f'For me, the game has the value {val}.')\n",
    "        if finished(State):\n",
    "            final_msg(State)\n",
    "            return\n",
    "        IPython.display.clear_output(wait=True)\n",
    "        State = get_move(State)\n",
    "        draw(State, canvas, '')\n",
    "        if finished(State):\n",
    "            IPython.display.clear_output(wait=True)\n",
    "            final_msg(State)\n",
    "            return"
   ]
  },
  {
   "cell_type": "code",
   "execution_count": 62,
   "metadata": {},
   "outputs": [],
   "source": [
    "# canvas = create_canvas()\n",
    "# val = maxValue(gStart)\n",
    "# draw(gStart, canvas, f'Current value of game for \"X\": {val}')\n",
    "# play_game(canvas)"
   ]
  },
  {
   "cell_type": "markdown",
   "metadata": {},
   "source": [
    "### Ohne vs. mit Memoizierung"
   ]
  },
  {
   "cell_type": "code",
   "execution_count": 63,
   "metadata": {},
   "outputs": [
    {
     "name": "stdout",
     "output_type": "stream",
     "text": [
      "CPU times: total: 5.62 s\n",
      "Wall time: 5.63 s\n"
     ]
    },
    {
     "data": {
      "text/plain": [
       "0"
      ]
     },
     "execution_count": 63,
     "metadata": {},
     "output_type": "execute_result"
    }
   ],
   "source": [
    "%%time\n",
    "val = maxValue(gStart)\n",
    "val"
   ]
  },
  {
   "cell_type": "code",
   "execution_count": 64,
   "metadata": {},
   "outputs": [],
   "source": [
    "oldMaxValue = maxValue\n",
    "oldMinValue = minValue\n",
    "\n",
    "maxValue = memoize(maxValue)\n",
    "minValue = memoize(minValue)"
   ]
  },
  {
   "cell_type": "code",
   "execution_count": 65,
   "metadata": {},
   "outputs": [
    {
     "name": "stdout",
     "output_type": "stream",
     "text": [
      "CPU times: total: 125 ms\n",
      "Wall time: 126 ms\n"
     ]
    },
    {
     "data": {
      "text/plain": [
       "0"
      ]
     },
     "execution_count": 65,
     "metadata": {},
     "output_type": "execute_result"
    }
   ],
   "source": [
    "%%time\n",
    "val = maxValue(gStart)\n",
    "val"
   ]
  },
  {
   "cell_type": "code",
   "execution_count": 66,
   "metadata": {},
   "outputs": [],
   "source": [
    "maxValue = oldMaxValue\n",
    "minValue = oldMinValue"
   ]
  },
  {
   "cell_type": "markdown",
   "metadata": {},
   "source": [
    "### Ohne vs. mit Bitboard"
   ]
  },
  {
   "cell_type": "code",
   "execution_count": 67,
   "metadata": {},
   "outputs": [
    {
     "name": "stdout",
     "output_type": "stream",
     "text": [
      "CPU times: total: 5.81 s\n",
      "Wall time: 5.8 s\n"
     ]
    },
    {
     "data": {
      "text/plain": [
       "0"
      ]
     },
     "execution_count": 67,
     "metadata": {},
     "output_type": "execute_result"
    }
   ],
   "source": [
    "%%time\n",
    "val = maxValue(gStart)\n",
    "val"
   ]
  },
  {
   "cell_type": "code",
   "execution_count": 68,
   "metadata": {},
   "outputs": [],
   "source": [
    "gPlayers = [0, 1]\n",
    "gStart = 0\n",
    "\n",
    "def set_bits(Bits):\n",
    "    result = 0\n",
    "    for b in Bits:\n",
    "        result |= 1 << b # bitwise or 2**b\n",
    "    return result\n",
    "\n",
    "def set_bit(n): \n",
    "    return 1 << n\n",
    "\n",
    "def empty(state):\n",
    "    Free  = { n for n in range(9) }\n",
    "    Free -= { n for n in range(9) if state & (1 << n) != 0 } # Spieler X => von Bit 0 - 8\n",
    "    Free -= { n for n in range(9) if state & (1 << (9 + n)) != 0 } # Spieler O => von Bit 9 - Bit 17\n",
    "    return Free\n",
    "\n",
    "def next_states(state, player):\n",
    "    Empty  = empty(state)\n",
    "    Result = []\n",
    "    for n in Empty:\n",
    "        next_state = state | set_bit(player * 9 + n)\n",
    "        Result.append(next_state)\n",
    "    return Result\n",
    "\n",
    "gAllLines = [ set_bits([0,1,2]), # 1st row\n",
    "              set_bits([3,4,5]), # 2nd row\n",
    "              set_bits([6,7,8]), # 3rd row\n",
    "              set_bits([0,3,6]), # 1st column\n",
    "              set_bits([1,4,7]), # 2nd column\n",
    "              set_bits([2,5,8]), # 3rd column\n",
    "              set_bits([0,4,8]), # falling diagonal\n",
    "              set_bits([2,4,6]), # rising diagonal\n",
    "            ]\n",
    "\n",
    "def utility(state):\n",
    "    for mask in gAllLines:\n",
    "        if state & mask == mask:\n",
    "            return 1               # the computer has won\n",
    "        if (state >> 9) & mask == mask:\n",
    "            return -1              # the computer has lost\n",
    "    # 511 == 2**9 - 1 = 0b1_1111_1111\n",
    "    # state & 511: Ergibt gesetzten Bits von Spieler X\n",
    "    # (state & 511) | (state >> 9): Schiebt state um 9 nach Rechts (Bits von Spieler 0) und verknüpft Wert mit vorherigem Ergebnis mit Bitwise OR\n",
    "    # Falls das Ergebnis 511 Ergeben würde, wären alle Felder von einem Spieler belegt\n",
    "    if (state & 511) | (state >> 9) != 511: # the board is not yet filled\n",
    "        return None\n",
    "    # at this point, the board has been filled, but there is no winner hence its a draw\n",
    "    return 0 # it's a draw"
   ]
  },
  {
   "cell_type": "code",
   "execution_count": 69,
   "metadata": {},
   "outputs": [
    {
     "name": "stdout",
     "output_type": "stream",
     "text": [
      "CPU times: total: 2.95 s\n",
      "Wall time: 2.95 s\n"
     ]
    },
    {
     "data": {
      "text/plain": [
       "0"
      ]
     },
     "execution_count": 69,
     "metadata": {},
     "output_type": "execute_result"
    }
   ],
   "source": [
    "%%time\n",
    "val = maxValue(gStart)\n",
    "val"
   ]
  },
  {
   "attachments": {},
   "cell_type": "markdown",
   "metadata": {},
   "source": [
    "### Alpha-Beta-Pruning"
   ]
  },
  {
   "cell_type": "code",
   "execution_count": 70,
   "metadata": {},
   "outputs": [],
   "source": [
    "def alphaBetaMax(State, alpha, beta):\n",
    "    if finished(State):\n",
    "        return utility(State)\n",
    "    for ns in next_states(State, gPlayers[0]):\n",
    "        value = alphaBetaMin(ns, alpha, beta)\n",
    "        if value >= beta: # Falls value (nächster Zug von gPlayers[1]) <= beta (Aktuell gewähltes Minimum von gPlayers[1]) => Wähle direkt value aus und gebe es zurück, da gPlayers[1] danach sowieso beta wählen wird und es somit auch egal ist, ob ein größerer Wert noch zur Auswahl steht\n",
    "            return value\n",
    "        alpha = max(alpha, value)\n",
    "    return alpha\n",
    "\n",
    "def alphaBetaMin(State, alpha, beta):\n",
    "    if finished(State):\n",
    "        return utility(State)\n",
    "    for ns in next_states(State, gPlayers[1]):\n",
    "        value = alphaBetaMax(ns, alpha, beta)\n",
    "        if value <= alpha:\n",
    "            return value\n",
    "        beta = min(beta, value)\n",
    "    return beta"
   ]
  },
  {
   "cell_type": "code",
   "execution_count": 71,
   "metadata": {},
   "outputs": [],
   "source": [
    "def best_move(State):\n",
    "    NS        = next_states(State, gPlayers[0])\n",
    "    bestVal   = alphaBetaMax(State, -1, 1)\n",
    "    print(f'The state {State} has value {bestVal}.')\n",
    "    bestMoves = [s for s in NS if alphaBetaMin(s, -1, 1) == bestVal]\n",
    "    bestState = random.choice(bestMoves)\n",
    "    print(f'My move is: {bestState}')\n",
    "    return bestVal, bestState"
   ]
  },
  {
   "cell_type": "code",
   "execution_count": 72,
   "metadata": {},
   "outputs": [
    {
     "name": "stdout",
     "output_type": "stream",
     "text": [
      "CPU times: total: 125 ms\n",
      "Wall time: 105 ms\n"
     ]
    },
    {
     "data": {
      "text/plain": [
       "0"
      ]
     },
     "execution_count": 72,
     "metadata": {},
     "output_type": "execute_result"
    }
   ],
   "source": [
    "%%time\n",
    "val = alphaBetaMax(gStart, -1, 1)\n",
    "val"
   ]
  },
  {
   "attachments": {},
   "cell_type": "markdown",
   "metadata": {},
   "source": [
    "### Alpha-Beta Pruning with Intelligent Memoization"
   ]
  },
  {
   "cell_type": "code",
   "execution_count": 73,
   "metadata": {},
   "outputs": [],
   "source": [
    "gCache = {}\n",
    "\n",
    "def maxValue(State, alpha, beta):\n",
    "    if finished(State):\n",
    "        return utility(State)\n",
    "    for ns in next_states(State, gPlayers[0]):\n",
    "        value = evaluate(ns, minValue, alpha, beta)\n",
    "        if value >= beta:\n",
    "            return value\n",
    "        alpha = max(alpha, value)\n",
    "    return alpha\n",
    "\n",
    "def minValue(State, alpha, beta):\n",
    "    if finished(State):\n",
    "        return utility(State)\n",
    "    for ns in next_states(State, gPlayers[1]):\n",
    "        value = evaluate(ns, maxValue, alpha, beta)\n",
    "        if value <= alpha:\n",
    "            return value\n",
    "        beta = min(beta, value)\n",
    "    return beta\n",
    "\n",
    "def evaluate(State, f, alpha=-1, beta=1):\n",
    "    global gCache\n",
    "    if State in gCache:\n",
    "        flag, v = gCache[State]\n",
    "        if flag == '=':\n",
    "            return v\n",
    "        if flag == '≤':\n",
    "            if v <= alpha:\n",
    "                return v\n",
    "            else:\n",
    "                beta = min(beta, v)\n",
    "        if flag == '≥':\n",
    "            if beta <= v:\n",
    "                return v\n",
    "            else:\n",
    "                alpha = max(alpha, v)\n",
    "    v = f(State, alpha, beta)\n",
    "    store_cache(State, alpha, beta, v)\n",
    "    return v\n",
    "\n",
    "def store_cache(State, alpha, beta, v):\n",
    "    global gCache\n",
    "    if   v <= alpha:\n",
    "        gCache[State] = ('≤', v)\n",
    "    elif v <  beta: # alpha < v\n",
    "        gCache[State] = ('=', v)\n",
    "    else: # beta <= v\n",
    "        gCache[State] = ('≥', v)"
   ]
  },
  {
   "cell_type": "code",
   "execution_count": 74,
   "metadata": {},
   "outputs": [],
   "source": [
    "def best_move(State):\n",
    "    NS        = next_states(State, gPlayers[0])\n",
    "    bestValue = evaluate(State, maxValue, -1, 1)\n",
    "    BestMoves = [s for s in NS if evaluate(s, minValue, -1, 1) == bestValue]\n",
    "    BestState = random.choice(BestMoves)\n",
    "    return bestValue, BestState"
   ]
  },
  {
   "cell_type": "code",
   "execution_count": 75,
   "metadata": {},
   "outputs": [
    {
     "name": "stdout",
     "output_type": "stream",
     "text": [
      "CPU times: total: 31.2 ms\n",
      "Wall time: 25 ms\n"
     ]
    },
    {
     "data": {
      "text/plain": [
       "0"
      ]
     },
     "execution_count": 75,
     "metadata": {},
     "output_type": "execute_result"
    }
   ],
   "source": [
    "%%time\n",
    "v = evaluate(gStart, maxValue, -1, 1)\n",
    "v"
   ]
  }
 ],
 "metadata": {
  "kernelspec": {
   "display_name": "ai",
   "language": "python",
   "name": "python3"
  },
  "language_info": {
   "codemirror_mode": {
    "name": "ipython",
    "version": 3
   },
   "file_extension": ".py",
   "mimetype": "text/x-python",
   "name": "python",
   "nbconvert_exporter": "python",
   "pygments_lexer": "ipython3",
   "version": "3.10.9"
  },
  "orig_nbformat": 4
 },
 "nbformat": 4,
 "nbformat_minor": 2
}
