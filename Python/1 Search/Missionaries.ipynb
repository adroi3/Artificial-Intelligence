{
 "cells": [
  {
   "cell_type": "code",
   "execution_count": 1,
   "metadata": {},
   "outputs": [
    {
     "data": {
      "text/html": [
       "<link href='http://fonts.googleapis.com/css?family=Alegreya+Sans:100,300,400,500,700,800,900,100italic,300italic,400italic,500italic,700italic,800italic,900italic' rel='stylesheet' type='text/css'>\n",
       "<link href='http://fonts.googleapis.com/css?family=Arvo:400,700,400italic' rel='stylesheet' type='text/css'>\n",
       "<link href='http://fonts.googleapis.com/css?family=PT+Mono' rel='stylesheet' type='text/css'>\n",
       "<link href='http://fonts.googleapis.com/css?family=Shadows+Into+Light' rel='stylesheet' type='text/css'>\n",
       "<link href='http://fonts.googleapis.com/css?family=Philosopher:400,700,400italic,700italic' rel='stylesheet' type='text/css'>\n",
       "<link href=\"http://fonts.googleapis.com/css?family=Sacramento\" rel=\"stylesheet\" type=\"text/css\">\n",
       "\n",
       "<style>\n",
       "\n",
       "@font-face {\n",
       "    font-family: \"Computer Modern\";\n",
       "    src: url('http://mirrors.ctan.org/fonts/cm-unicode/fonts/otf/cmunss.otf');\n",
       "}\n",
       "\n",
       ".container { width: 100% }\n",
       "\n",
       "/* Formatting for header cells */\n",
       ".text_cell_render h1 {\n",
       "    font-family: 'Philosopher', sans-serif;\n",
       "    font-weight: 400;\n",
       "    font-size: 2.2em;\n",
       "    line-height: 100%;\n",
       "    color: rgb(0, 80, 120);\n",
       "    margin-bottom: 0.1em;\n",
       "    margin-top: 0.1em;\n",
       "    display: block;\n",
       "}\t\n",
       ".text_cell_render h2 {\n",
       "    font-family: 'Philosopher', serif;\n",
       "    font-weight: 400;\n",
       "    font-size: 1.9em;\n",
       "    line-height: 100%;\n",
       "    color: rgb(200,100,0);\n",
       "    margin-bottom: 0.1em;\n",
       "    margin-top: 0.1em;\n",
       "    display: block;\n",
       "}\t\n",
       "\n",
       ".text_cell_render h3 {\n",
       "    font-family: 'Philosopher', serif;\n",
       "    margin-top:12px;\n",
       "    margin-bottom: 3px;\n",
       "    font-style: italic;\n",
       "    color: rgb(94,127,192);\n",
       "}\n",
       "\n",
       ".text_cell_render h4 {\n",
       "    font-family: 'Philosopher', serif;\n",
       "}\n",
       "\n",
       ".text_cell_render h5 {\n",
       "    font-family: 'Alegreya Sans', sans-serif;\n",
       "    font-weight: 300;\n",
       "    font-size: 16pt;\n",
       "    color: grey;\n",
       "    font-style: italic;\n",
       "    margin-bottom: .1em;\n",
       "    margin-top: 0.1em;\n",
       "    display: block;\n",
       "}\n",
       "\n",
       ".text_cell_render h6 {\n",
       "    font-family: 'PT Mono', sans-serif;\n",
       "    font-weight: 300;\n",
       "    font-size: 10pt;\n",
       "    color: grey;\n",
       "    margin-bottom: 1px;\n",
       "    margin-top: 1px;\n",
       "}\n",
       "\n",
       ".text_cell_render em {\n",
       "    font-family: 'Philosopher', sans-serif;\n",
       "    color:        blue;\n",
       "    background-color: rgb(255,220,180);\n",
       "    font-size:    110%;\n",
       "    margin-left:   2px;\n",
       "    margin-right:  2px;\n",
       "    font-weight:   100;\n",
       "}\n",
       "\n",
       ".text_cell_render b {\n",
       "    color:            rgb(255,195,195);\n",
       "    background-color: rgb(0,0,0);\n",
       "    font-size:    110%;\n",
       "    margin-left:   2px;\n",
       "    margin-right:  2px;\n",
       "    font-weight:   650;\n",
       "}\n",
       "\n",
       ".text_cell_render u {\n",
       "    color:            blue;\n",
       "    font-size:    110%;\n",
       "    margin-left:   2px;\n",
       "    margin-right:  2px;\n",
       "    font-weight:   650;\n",
       "}\n",
       "\n",
       ".text_cell_render tt {\n",
       "    font-size:    120%;\n",
       "    margin-left:   2px;\n",
       "    margin-right:  2px;\n",
       "    font-weight:   150;\n",
       "}\n",
       "\n",
       ".Codemirror {\n",
       "    font-family: \"PT Mono\";\n",
       "    font-size: 100%;\n",
       "}\n",
       "\n",
       "#fancy {\n",
       "    font-family:      Georgia;\n",
       "    position:         relative;\n",
       "    float:            left;\n",
       "    border:           2px solid red;\n",
       "    width:            600px;\n",
       "    padding-left:     20px;\n",
       "    padding-right:    20px;\n",
       "    padding-top:      10px;\n",
       "    font-family:      'Sacramento', cursive;\n",
       "    font-size:        26px;\n",
       "    background-color: #F4EBF3;\n",
       "    border-radius:    15px;\n",
       "}\n",
       "\n",
       "</Style>\n",
       "\n"
      ],
      "text/plain": [
       "<IPython.core.display.HTML object>"
      ]
     },
     "execution_count": 1,
     "metadata": {},
     "output_type": "execute_result"
    }
   ],
   "source": [
    "from IPython.core.display import HTML\n",
    "with open('../style.css') as f:\n",
    "    css = f.read()\n",
    "HTML(css)"
   ]
  },
  {
   "cell_type": "markdown",
   "metadata": {},
   "source": [
    "# Missionaries and Infidels"
   ]
  },
  {
   "cell_type": "markdown",
   "metadata": {},
   "source": [
    "We illustrate the notion of a search problem with the following example, which is also known as the\n",
    "<a href=\"https://en.wikipedia.org/wiki/Missionaries_and_cannibals_problem\">missionaries and cannibals problem</a>:\n",
    "Three *missionaries* and three *infidels* have to cross a river that runs from the north to the south.\n",
    "Initially, both the missionaries and the infidels are on the western shore.  There is just one small boat and\n",
    "that boat can carry at most two passengers.  Both the missionaries and the infidels can steer the boat.\n",
    "However, if at any time the missionaries are confronted with a majority of infidels on either shore of the\n",
    "river, then the missionaries have a problem. Below is an artist's rendition of the problem.\n",
    "\n",
    "![Missionaries and Infidels](missionaries-and-infidels.png)"
   ]
  },
  {
   "cell_type": "markdown",
   "metadata": {},
   "source": [
    "$\\texttt{problem}(m, i)$ is `True` if there is a problem on a shore that has $m$ missionaries and $i$ infidels.\n",
    "For a problem to arise, the number $m$ of missionaries needs to be greater than $0$ but less than the number $i$ of\n",
    "infidels."
   ]
  },
  {
   "cell_type": "code",
   "execution_count": 2,
   "metadata": {},
   "outputs": [],
   "source": [
    "def problem(m, i): \n",
    "    return 0 < m < i"
   ]
  },
  {
   "cell_type": "markdown",
   "metadata": {},
   "source": [
    "$\\texttt{no_problem}(m, i)$ is true if there is no problem on either side.\n",
    "$m$ and $i$ are the number of missionaries and infidels on the left shore.\n",
    "Hence there are $3-m$ missionaries and $3-i$ infidels on the right shore."
   ]
  },
  {
   "cell_type": "code",
   "execution_count": 3,
   "metadata": {},
   "outputs": [],
   "source": [
    "def no_problem(m, i): \n",
    "    return not problem(m, i) and not problem(3 - m, 3 - i)"
   ]
  },
  {
   "cell_type": "markdown",
   "metadata": {},
   "source": [
    "A state is represented as a triple.  The triple $(m, i, b)$ specifies that there are\n",
    "  - $m$ missionaries,\n",
    "  - $i$ infidels, and\n",
    "  - $b$ boats\n",
    "\n",
    "on the *western* shore of the river.  This implies that there are \n",
    "$3 - m$ missionaries, $3 - i$ infidels, and $1 - b$ boats on the *eastern* shore.\n",
    "\n",
    "The function `next_states` takes a given `state` and computes the set of states that can be reached from `state` by one crossing of the river."
   ]
  },
  {
   "cell_type": "code",
   "execution_count": null,
   "metadata": {},
   "outputs": [],
   "source": [
    "def next_states(state):\n",
    "    m, i, b = state\n",
    "    if  b == 1:\n",
    "        return { (m-mb, i-ib, 0) for mb in range(m+1)\n",
    "                                 for ib in range(i+1)\n",
    "                                 if 1 <= mb + ib <= 2 and no_problem(m-mb, i-ib) \n",
    "               }\n",
    "    else:\n",
    "        return { (m+mb, i+ib, 1) for mb in range(3-m+1)\n",
    "                                 for ib in range(3-i+1)\n",
    "                                 if 1 <= mb + ib <= 2 and no_problem(m+mb, i+ib) \n",
    "               }"
   ]
  },
  {
   "cell_type": "markdown",
   "metadata": {},
   "source": [
    "Initially, all missionaries, all infidels and the boat are on the left shore.\n",
    "The goal is to have everybody on the right shore, hence the numbers on the left shore\n",
    "should all be $0$."
   ]
  },
  {
   "cell_type": "code",
   "execution_count": null,
   "metadata": {},
   "outputs": [],
   "source": [
    "start = (3, 3, 1)\n",
    "goal  = (0, 0, 0)"
   ]
  },
  {
   "cell_type": "markdown",
   "metadata": {},
   "source": [
    "In order to compute a solution of this search problem, we have to `%run` the notebook `Breadth-First-Search.iypnb`. "
   ]
  },
  {
   "cell_type": "markdown",
   "metadata": {},
   "source": [
    "# Printing the Solution"
   ]
  },
  {
   "cell_type": "markdown",
   "metadata": {},
   "source": [
    "To begin with, we display the transition relation that is generated by the function `next_states`.  To this end, we need the module `graphviz`."
   ]
  },
  {
   "cell_type": "code",
   "execution_count": null,
   "metadata": {},
   "outputs": [],
   "source": [
    "import graphviz as gv"
   ]
  },
  {
   "cell_type": "code",
   "execution_count": null,
   "metadata": {},
   "outputs": [],
   "source": [
    "def tripleToStr(t):\n",
    "    return '(' + str(t[0]) + ',' + str(t[1]) + ',' + str(t[2]) + ')'"
   ]
  },
  {
   "cell_type": "markdown",
   "metadata": {},
   "source": [
    "The function `dot_graph(R)` turns a given binary relation `R` into a graph."
   ]
  },
  {
   "cell_type": "code",
   "execution_count": null,
   "metadata": {},
   "outputs": [],
   "source": [
    "def dot_graph(R):\n",
    "    \"\"\"This function takes binary relation R as inputs and shows this relation as\n",
    "       a graph using the module graphviz.\n",
    "    \"\"\"\n",
    "    dot = gv.Digraph()\n",
    "    dot.attr(rankdir='LR')\n",
    "    Nodes = { tripleToStr(a) for (a,b) in R } | { tripleToStr(b) for (a,b) in R }\n",
    "    for n in Nodes:\n",
    "        dot.node(n)\n",
    "    for (x, y) in R:\n",
    "        dot.edge(tripleToStr(x), tripleToStr(y))\n",
    "    return dot"
   ]
  },
  {
   "cell_type": "markdown",
   "metadata": {},
   "source": [
    "The function call `createRelation(start)` computes the transition relation.  It assumes that all states are reachable from `start`. "
   ]
  },
  {
   "cell_type": "code",
   "execution_count": null,
   "metadata": {},
   "outputs": [],
   "source": [
    "def createRelation(start):\n",
    "    oldM = set()\n",
    "    M    = { start }\n",
    "    R    = set()\n",
    "    while True:\n",
    "        oldM = M.copy()\n",
    "        M |= { y for x in M\n",
    "                 for y in next_states(x)\n",
    "             }\n",
    "        if M == oldM:\n",
    "            break\n",
    "    return { (x, y) for x in M\n",
    "                    for y in next_states(x)\n",
    "           }"
   ]
  },
  {
   "cell_type": "markdown",
   "metadata": {},
   "source": [
    "The function call `printPath(Path)` prints the solution of the search problem."
   ]
  },
  {
   "cell_type": "code",
   "execution_count": null,
   "metadata": {},
   "outputs": [],
   "source": [
    "def printPath(Path):\n",
    "    print(\"Solution:\\n\")\n",
    "    for i in range(len(Path) - 1):\n",
    "        m1, k1, b1 = Path[i]\n",
    "        m2, k2, b2 = Path[i+1]\n",
    "        printState(m1, k1, b1)\n",
    "        printBoat(m1, k1, b1, m2, k2, b2)\n",
    "    m, k, b = Path[-1]\n",
    "    printState(m, k, b)"
   ]
  },
  {
   "cell_type": "markdown",
   "metadata": {},
   "source": [
    "The function `printState(m, k, b)` displays a state where there are `m` missionaries, \n",
    "`k` cannibals, and `b` boats on the left shore."
   ]
  },
  {
   "cell_type": "code",
   "execution_count": null,
   "metadata": {},
   "outputs": [],
   "source": [
    "def printState(m, k, b):\n",
    "     print( fillCharsRight(m * \"M\", 6) + \n",
    "            fillCharsRight(k * \"K\", 6) + \n",
    "            fillCharsRight(b * \"B\", 3) + \"    |~~~~~|    \" + \n",
    "            fillCharsLeft((3 - m) * \"M\", 6) + \n",
    "            fillCharsLeft((3 - k) * \"K\", 6) + \n",
    "            fillCharsLeft((1 - b) * \"B\", 3) \n",
    "          )"
   ]
  },
  {
   "cell_type": "markdown",
   "metadata": {},
   "source": [
    "The function `printBoat(m1, k1, b1, m2, k2, b2)` prints the boat when there are\n",
    "`m1` missionaries, `k1` cannibals, and `b1` boats on the left shore before the transition,\n",
    "while there `m2` missionaries, `k2` cannibals, and `b2` boats on the left shore after the transition.\n",
    "The function also checks whether the transition is possible at all."
   ]
  },
  {
   "cell_type": "code",
   "execution_count": null,
   "metadata": {},
   "outputs": [],
   "source": [
    "def printBoat(m1, k1, b1, m2, k2, b2):\n",
    "    if b1 == 1:\n",
    "        if m1 < m2:\n",
    "            print(\"Error in printBoat: negative number of missionaries in the boat!\")\n",
    "            return\n",
    "        if k1 < k2:\n",
    "            print(\"Error in printBoat: negative number of infidels in the boat!\")\n",
    "            return\n",
    "        print(19*\" \" + \"> \" + fillCharsBoth((m1-m2)*\"M\" + \" \" + (k1-k2)*\"K\", 3) + \" >\")\n",
    "    else:\n",
    "        if m1 > m2:\n",
    "            print(\"Error in printBoat: negative number of missionaries in the boat!\")\n",
    "            return\n",
    "        if k1 > k2:\n",
    "            print(\"Error in printBoat: negative number of infidels in the boat!\")\n",
    "            return\n",
    "        print(19*\" \" + \"< \" + fillCharsBoth((m2-m1)*\"M\" + \" \" + (k2-k1)*\"K\", 3) + \" <\")"
   ]
  },
  {
   "cell_type": "code",
   "execution_count": null,
   "metadata": {},
   "outputs": [],
   "source": [
    "def fillCharsLeft(x, n):\n",
    "    s = str(x)\n",
    "    m = n - len(s)\n",
    "    return m * \" \" + s"
   ]
  },
  {
   "cell_type": "code",
   "execution_count": null,
   "metadata": {},
   "outputs": [],
   "source": [
    "def fillCharsRight(x, n):\n",
    "    s = str(x)\n",
    "    m = n - len(s)\n",
    "    return s + m * \" \""
   ]
  },
  {
   "cell_type": "code",
   "execution_count": null,
   "metadata": {},
   "outputs": [],
   "source": [
    "def fillCharsBoth(x, n):\n",
    "    s  = str(x)\n",
    "    ml = (n     - len(s)) // 2\n",
    "    mr = (n + 1 - len(s)) // 2\n",
    "    return ml * \" \" + s + mr * \" \""
   ]
  }
 ],
 "metadata": {
  "hide_input": false,
  "kernelspec": {
   "display_name": "Python 3 (ipykernel)",
   "language": "python",
   "name": "python3"
  },
  "language_info": {
   "codemirror_mode": {
    "name": "ipython",
    "version": 3
   },
   "file_extension": ".py",
   "mimetype": "text/x-python",
   "name": "python",
   "nbconvert_exporter": "python",
   "pygments_lexer": "ipython3",
   "version": "3.9.13"
  },
  "toc": {
   "base_numbering": 1,
   "nav_menu": {},
   "number_sections": true,
   "sideBar": true,
   "skip_h1_title": false,
   "title_cell": "Table of Contents",
   "title_sidebar": "Contents",
   "toc_cell": false,
   "toc_position": {},
   "toc_section_display": true,
   "toc_window_display": false
  },
  "varInspector": {
   "cols": {
    "lenName": 16,
    "lenType": 16,
    "lenVar": 40
   },
   "kernels_config": {
    "python": {
     "delete_cmd_postfix": "",
     "delete_cmd_prefix": "del ",
     "library": "var_list.py",
     "varRefreshCmd": "print(var_dic_list())"
    },
    "r": {
     "delete_cmd_postfix": ") ",
     "delete_cmd_prefix": "rm(",
     "library": "var_list.r",
     "varRefreshCmd": "cat(var_dic_list()) "
    }
   },
   "types_to_exclude": [
    "module",
    "function",
    "builtin_function_or_method",
    "instance",
    "_Feature"
   ],
   "window_display": false
  }
 },
 "nbformat": 4,
 "nbformat_minor": 2
}
