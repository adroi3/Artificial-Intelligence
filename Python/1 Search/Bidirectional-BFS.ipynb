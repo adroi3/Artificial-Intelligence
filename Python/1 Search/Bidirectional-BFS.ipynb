{
 "cells": [
  {
   "cell_type": "code",
   "execution_count": 1,
   "metadata": {},
   "outputs": [
    {
     "data": {
      "text/html": [
       "<link href='http://fonts.googleapis.com/css?family=Alegreya+Sans:100,300,400,500,700,800,900,100italic,300italic,400italic,500italic,700italic,800italic,900italic' rel='stylesheet' type='text/css'>\n",
       "<link href='http://fonts.googleapis.com/css?family=Arvo:400,700,400italic' rel='stylesheet' type='text/css'>\n",
       "<link href='http://fonts.googleapis.com/css?family=PT+Mono' rel='stylesheet' type='text/css'>\n",
       "<link href='http://fonts.googleapis.com/css?family=Shadows+Into+Light' rel='stylesheet' type='text/css'>\n",
       "<link href='http://fonts.googleapis.com/css?family=Philosopher:400,700,400italic,700italic' rel='stylesheet' type='text/css'>\n",
       "<link href=\"http://fonts.googleapis.com/css?family=Sacramento\" rel=\"stylesheet\" type=\"text/css\">\n",
       "\n",
       "<style>\n",
       "\n",
       "@font-face {\n",
       "    font-family: \"Computer Modern\";\n",
       "    src: url('http://mirrors.ctan.org/fonts/cm-unicode/fonts/otf/cmunss.otf');\n",
       "}\n",
       "\n",
       ".container { width: 100% }\n",
       "\n",
       "/* Formatting for header cells */\n",
       ".text_cell_render h1 {\n",
       "    font-family: 'Philosopher', sans-serif;\n",
       "    font-weight: 400;\n",
       "    font-size: 2.2em;\n",
       "    line-height: 100%;\n",
       "    color: rgb(0, 80, 120);\n",
       "    margin-bottom: 0.1em;\n",
       "    margin-top: 0.1em;\n",
       "    display: block;\n",
       "}\t\n",
       ".text_cell_render h2 {\n",
       "    font-family: 'Philosopher', serif;\n",
       "    font-weight: 400;\n",
       "    font-size: 1.9em;\n",
       "    line-height: 100%;\n",
       "    color: rgb(200,100,0);\n",
       "    margin-bottom: 0.1em;\n",
       "    margin-top: 0.1em;\n",
       "    display: block;\n",
       "}\t\n",
       "\n",
       ".text_cell_render h3 {\n",
       "    font-family: 'Philosopher', serif;\n",
       "    margin-top:12px;\n",
       "    margin-bottom: 3px;\n",
       "    font-style: italic;\n",
       "    color: rgb(94,127,192);\n",
       "}\n",
       "\n",
       ".text_cell_render h4 {\n",
       "    font-family: 'Philosopher', serif;\n",
       "}\n",
       "\n",
       ".text_cell_render h5 {\n",
       "    font-family: 'Alegreya Sans', sans-serif;\n",
       "    font-weight: 300;\n",
       "    font-size: 16pt;\n",
       "    color: grey;\n",
       "    font-style: italic;\n",
       "    margin-bottom: .1em;\n",
       "    margin-top: 0.1em;\n",
       "    display: block;\n",
       "}\n",
       "\n",
       ".text_cell_render h6 {\n",
       "    font-family: 'PT Mono', sans-serif;\n",
       "    font-weight: 300;\n",
       "    font-size: 10pt;\n",
       "    color: grey;\n",
       "    margin-bottom: 1px;\n",
       "    margin-top: 1px;\n",
       "}\n",
       "\n",
       ".text_cell_render em {\n",
       "    font-family: 'Philosopher', sans-serif;\n",
       "    color:        blue;\n",
       "    background-color: rgb(255,220,180);\n",
       "    font-size:    110%;\n",
       "    margin-left:   2px;\n",
       "    margin-right:  2px;\n",
       "    font-weight:   100;\n",
       "}\n",
       "\n",
       ".text_cell_render b {\n",
       "    color:            rgb(255,195,195);\n",
       "    background-color: rgb(0,0,0);\n",
       "    font-size:    110%;\n",
       "    margin-left:   2px;\n",
       "    margin-right:  2px;\n",
       "    font-weight:   650;\n",
       "}\n",
       "\n",
       ".text_cell_render u {\n",
       "    color:            blue;\n",
       "    font-size:    110%;\n",
       "    margin-left:   2px;\n",
       "    margin-right:  2px;\n",
       "    font-weight:   650;\n",
       "}\n",
       "\n",
       ".text_cell_render tt {\n",
       "    font-size:    120%;\n",
       "    margin-left:   2px;\n",
       "    margin-right:  2px;\n",
       "    font-weight:   150;\n",
       "}\n",
       "\n",
       ".Codemirror {\n",
       "    font-family: \"PT Mono\";\n",
       "    font-size: 100%;\n",
       "}\n",
       "\n",
       "#fancy {\n",
       "    font-family:      Georgia;\n",
       "    position:         relative;\n",
       "    float:            left;\n",
       "    border:           2px solid red;\n",
       "    width:            600px;\n",
       "    padding-left:     20px;\n",
       "    padding-right:    20px;\n",
       "    padding-top:      10px;\n",
       "    font-family:      'Sacramento', cursive;\n",
       "    font-size:        26px;\n",
       "    background-color: #F4EBF3;\n",
       "    border-radius:    15px;\n",
       "}\n",
       "\n",
       "</Style>\n",
       "\n"
      ],
      "text/plain": [
       "<IPython.core.display.HTML object>"
      ]
     },
     "execution_count": 1,
     "metadata": {},
     "output_type": "execute_result"
    }
   ],
   "source": [
    "from IPython.core.display import HTML\n",
    "with open('../style.css') as f:\n",
    "    css = f.read()\n",
    "HTML(css)"
   ]
  },
  {
   "cell_type": "markdown",
   "metadata": {},
   "source": [
    "# Bidirectional Breadth First Search"
   ]
  },
  {
   "cell_type": "markdown",
   "metadata": {},
   "source": [
    "The function `search` takes three arguments to solve a *search problem*:\n",
    "- `start` is the *start state* of the search problem,\n",
    "- `goal` is the *goal state*, and\n",
    "- `next_states` is a function with signature $\\texttt{next_states}:Q \\rightarrow 2^Q$, where $Q$ is the set of states.\n",
    "   For every state $s \\in Q$, $\\texttt{next_states}(s)$ is the set of states that can be reached from $s$ in one step.\n",
    "\n",
    "If successful, `search` returns a path from `start` to `goal` that is a solution of the search problem\n",
    "$$ \\langle Q, \\texttt{next_states}, \\texttt{start}, \\texttt{goal} \\rangle. $$\n",
    "The implementation of `search` uses *bidirectional breadth first search* to find a path from `start` to `goal`."
   ]
  },
  {
   "cell_type": "code",
   "execution_count": 2,
   "metadata": {},
   "outputs": [],
   "source": [
    "def search(start, goal, next_states):        \n",
    "    FrontierA = { start }\n",
    "    ParentA   = { start: start }\n",
    "    FrontierB = { goal }\n",
    "    ParentB   = { goal: goal } \n",
    "    while FrontierA and FrontierB:\n",
    "        NewFrontier = set()\n",
    "        for s in FrontierA:\n",
    "            for ns in next_states(s):\n",
    "                if ns not in ParentA:\n",
    "                    NewFrontier |= { ns }\n",
    "                    ParentA[ns]  = s\n",
    "                    if ns in ParentB:\n",
    "                        return combinePaths(ns, ParentA, ParentB)\n",
    "        FrontierA   = NewFrontier\n",
    "        NewFrontier = set()\n",
    "        for s in FrontierB:\n",
    "            for ns in next_states(s):\n",
    "                if ns not in ParentB:\n",
    "                    NewFrontier |= { ns }\n",
    "                    ParentB[ns]  = s\n",
    "                    if ns in ParentA:\n",
    "                        return combinePaths(ns, ParentA, ParentB)\n",
    "        FrontierB = NewFrontier"
   ]
  },
  {
   "cell_type": "markdown",
   "metadata": {},
   "source": [
    "Given a `state` and a parent dictionary `Parent`, the function `path_to` returns a path leading to the given `state`."
   ]
  },
  {
   "cell_type": "code",
   "execution_count": 3,
   "metadata": {},
   "outputs": [],
   "source": [
    "def path_to(state, Parent):\n",
    "    p = Parent[state]\n",
    "    if p == state:\n",
    "        return [state]\n",
    "    return path_to(p, Parent) + [state]"
   ]
  },
  {
   "cell_type": "markdown",
   "metadata": {},
   "source": [
    "The function `combinePath` takes three parameters:\n",
    "- `state` is a state that has been reached in bidirectional BFS from both `start` and `goal`.\n",
    "- `ParentA` is the parent dictionary that has been build when searching from `start`.\n",
    "   If $\\texttt{ParentA}[s_1] = s_2$ holds, then either $s_1 = s_2 = \\texttt{start}$ or \n",
    "   $s_1 \\in \\texttt{next_states}(s_2)$.\n",
    "- `ParentB` is the parent dictionary that has been build when searching from `goal`.\n",
    "   If $\\texttt{ParentB}[s_1] = s_2$ holds, then either $s_1 = s_2 = \\texttt{goal}$ or\n",
    "   $s_1 \\in \\texttt{next_states}(s_2)$.\n",
    "The function returns a path from `start` to `goal`."
   ]
  },
  {
   "cell_type": "code",
   "execution_count": 10,
   "metadata": {},
   "outputs": [],
   "source": [
    "def combinePaths(state, ParentA, ParentB):\n",
    "        Path1 = path_to(state, ParentA)\n",
    "        Path2 = path_to(state, ParentB)\n",
    "        return Path1[:-1] + Path2[::-1] # Path2 is reversed"
   ]
  },
  {
   "cell_type": "code",
   "execution_count": 11,
   "metadata": {},
   "outputs": [],
   "source": [
    "%run Sliding-Puzzle.ipynb"
   ]
  },
  {
   "cell_type": "code",
   "execution_count": 12,
   "metadata": {},
   "outputs": [],
   "source": [
    "%load_ext memory_profiler"
   ]
  },
  {
   "cell_type": "code",
   "execution_count": 13,
   "metadata": {},
   "outputs": [
    {
     "name": "stdout",
     "output_type": "stream",
     "text": [
      "peak memory: 106.04 MiB, increment: 4.48 MiB\n",
      "31\n",
      "CPU times: user 116 ms, sys: 14.2 ms, total: 130 ms\n",
      "Wall time: 616 ms\n"
     ]
    }
   ],
   "source": [
    "%%time\n",
    "%memit Path = search(start, goal, next_states)\n",
    "print(len(Path)-1)"
   ]
  },
  {
   "cell_type": "code",
   "execution_count": 14,
   "metadata": {
    "scrolled": false
   },
   "outputs": [
    {
     "data": {
      "application/vnd.jupyter.widget-view+json": {
       "model_id": "de4f70b3c1d3471d9450059a19631d19",
       "version_major": 2,
       "version_minor": 0
      },
      "text/plain": [
       "Canvas()"
      ]
     },
     "metadata": {},
     "output_type": "display_data"
    }
   ],
   "source": [
    "animation(Path)"
   ]
  },
  {
   "cell_type": "code",
   "execution_count": 15,
   "metadata": {},
   "outputs": [
    {
     "name": "stdout",
     "output_type": "stream",
     "text": [
      "peak memory: 912.21 MiB, increment: 805.75 MiB\n",
      "36\n",
      "CPU times: user 11.4 s, sys: 290 ms, total: 11.6 s\n",
      "Wall time: 12.1 s\n"
     ]
    }
   ],
   "source": [
    "%%time\n",
    "%memit Path = search(start2, goal2, next_states)\n",
    "print(len(Path)-1)"
   ]
  },
  {
   "cell_type": "code",
   "execution_count": 16,
   "metadata": {},
   "outputs": [
    {
     "data": {
      "application/vnd.jupyter.widget-view+json": {
       "model_id": "b57906f46b0a42588d2852f49b64b403",
       "version_major": 2,
       "version_minor": 0
      },
      "text/plain": [
       "Canvas()"
      ]
     },
     "metadata": {},
     "output_type": "display_data"
    }
   ],
   "source": [
    "animation(Path)"
   ]
  },
  {
   "cell_type": "code",
   "execution_count": null,
   "metadata": {},
   "outputs": [],
   "source": []
  }
 ],
 "metadata": {
  "hide_input": false,
  "kernelspec": {
   "display_name": "Python 3 (ipykernel)",
   "language": "python",
   "name": "python3"
  },
  "language_info": {
   "codemirror_mode": {
    "name": "ipython",
    "version": 3
   },
   "file_extension": ".py",
   "mimetype": "text/x-python",
   "name": "python",
   "nbconvert_exporter": "python",
   "pygments_lexer": "ipython3",
   "version": "3.10.8"
  },
  "toc": {
   "base_numbering": 1,
   "nav_menu": {},
   "number_sections": true,
   "sideBar": true,
   "skip_h1_title": false,
   "title_cell": "Table of Contents",
   "title_sidebar": "Contents",
   "toc_cell": false,
   "toc_position": {},
   "toc_section_display": true,
   "toc_window_display": false
  },
  "varInspector": {
   "cols": {
    "lenName": 16,
    "lenType": 16,
    "lenVar": 40
   },
   "kernels_config": {
    "python": {
     "delete_cmd_postfix": "",
     "delete_cmd_prefix": "del ",
     "library": "var_list.py",
     "varRefreshCmd": "print(var_dic_list())"
    },
    "r": {
     "delete_cmd_postfix": ") ",
     "delete_cmd_prefix": "rm(",
     "library": "var_list.r",
     "varRefreshCmd": "cat(var_dic_list()) "
    }
   },
   "types_to_exclude": [
    "module",
    "function",
    "builtin_function_or_method",
    "instance",
    "_Feature"
   ],
   "window_display": false
  }
 },
 "nbformat": 4,
 "nbformat_minor": 2
}
