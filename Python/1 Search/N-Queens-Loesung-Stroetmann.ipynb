{
 "cells": [
  {
   "cell_type": "code",
   "execution_count": null,
   "metadata": {
    "scrolled": true
   },
   "outputs": [],
   "source": [
    "from IPython.core.display import HTML\n",
    "with open('../../Python/style.css') as f:\n",
    "    css = f.read()\n",
    "HTML(css)"
   ]
  },
  {
   "cell_type": "markdown",
   "metadata": {},
   "source": [
    "# The 8-Queens Puzzle"
   ]
  },
  {
   "cell_type": "markdown",
   "metadata": {},
   "source": [
    "We represent solutions to the 8-queens puzzle as tuples of the the form\n",
    "$$ (r_0, \\cdots, r_7), $$\n",
    "where $r_i$ is the row of the queen in column $i$.  We start counting from $0$ because this is the way it is done in *Python*.\n",
    "\n",
    "In general, states are defined as tuples of the form\n",
    "$$ s = (r_0, \\cdots, r_{c-1}). $$\n",
    "In the state $s$, there are $c$ queens on the board.\n",
    "The state `start` is the empty tuple."
   ]
  },
  {
   "cell_type": "code",
   "execution_count": null,
   "metadata": {},
   "outputs": [],
   "source": [
    "start = ()"
   ]
  },
  {
   "cell_type": "markdown",
   "metadata": {},
   "source": [
    "The function `next_states` takes a tuple $S$ representing a state\n",
    "and tries to extend this tuple by placing an additional queen on the board.  It returns the set of all such states that do not lead to a conflict."
   ]
  },
  {
   "cell_type": "code",
   "execution_count": null,
   "metadata": {},
   "outputs": [],
   "source": [
    "def next_states(S):\n",
    "    return { S + (row,) for row in range(8) \n",
    "                        if  row not in S and diagonalsOK(S, row)\n",
    "           }"
   ]
  },
  {
   "cell_type": "markdown",
   "metadata": {},
   "source": [
    "Given a state $S$, this function checks whether adding a queen in the next column in `row` would lead to a conflict because the new queen could capture some queen already on the board by moving diagonally."
   ]
  },
  {
   "cell_type": "code",
   "execution_count": null,
   "metadata": {},
   "outputs": [],
   "source": [
    "def diagonalsOK(S, row):\n",
    "    col = len(S)\n",
    "    return all(col - i != abs(row - S[i]) for i in range(col))"
   ]
  },
  {
   "cell_type": "markdown",
   "metadata": {},
   "source": [
    "# Depth First Search"
   ]
  },
  {
   "cell_type": "markdown",
   "metadata": {},
   "source": [
    "The global variable `gSolutions` is a list that collect all solutions to the 8-Queens puzzle."
   ]
  },
  {
   "cell_type": "code",
   "execution_count": null,
   "metadata": {},
   "outputs": [],
   "source": [
    "gSolutions = []"
   ]
  },
  {
   "cell_type": "markdown",
   "metadata": {},
   "source": [
    "The function `dfs` takes a `state` as its first argument and adds all solutions that can be found starting from \n",
    "state to the global variable `gSolutions`."
   ]
  },
  {
   "cell_type": "code",
   "execution_count": null,
   "metadata": {},
   "outputs": [],
   "source": [
    "def dfs(state, next_states):\n",
    "    global gSolutions\n",
    "    if len(state) == 8:\n",
    "        gSolutions.append(state)\n",
    "    for ns in next_states(state):\n",
    "        dfs(ns, next_states)"
   ]
  },
  {
   "cell_type": "code",
   "execution_count": null,
   "metadata": {},
   "outputs": [],
   "source": [
    "%%time\n",
    "dfs(start, next_states)"
   ]
  },
  {
   "cell_type": "code",
   "execution_count": null,
   "metadata": {},
   "outputs": [],
   "source": [
    "len(gSolutions)"
   ]
  },
  {
   "cell_type": "markdown",
   "metadata": {},
   "source": [
    "# Visualization"
   ]
  },
  {
   "cell_type": "markdown",
   "metadata": {},
   "source": [
    "In order to have a more convenient view of the solution, we have to install `python-chess`.  After activating the appropriate \n",
    "Python environment, this can be done using the following command:\n",
    "```\n",
    "pip install python-chess\n",
    "```"
   ]
  },
  {
   "cell_type": "code",
   "execution_count": null,
   "metadata": {},
   "outputs": [],
   "source": [
    "import chess"
   ]
  },
  {
   "cell_type": "markdown",
   "metadata": {},
   "source": [
    "This function takes a solution, which is represented as a set of unit clauses and displays it as a chess board with n queens"
   ]
  },
  {
   "cell_type": "code",
   "execution_count": null,
   "metadata": {},
   "outputs": [],
   "source": [
    "from IPython.display import display"
   ]
  },
  {
   "cell_type": "code",
   "execution_count": null,
   "metadata": {},
   "outputs": [],
   "source": [
    "def show_solution(Solution):\n",
    "    board = chess.Board(None)  # create empty chess board\n",
    "    queen = chess.Piece(chess.QUEEN, True)\n",
    "    for col in range(8):\n",
    "        row = Solution[col]\n",
    "        field_number = row * 8 + col\n",
    "        board.set_piece_at(field_number, queen)\n",
    "    display(board)"
   ]
  },
  {
   "cell_type": "code",
   "execution_count": null,
   "metadata": {
    "scrolled": false
   },
   "outputs": [],
   "source": [
    "for S in gSolutions:\n",
    "    show_solution(S)"
   ]
  },
  {
   "cell_type": "markdown",
   "metadata": {},
   "source": [
    "# An Upper Bound for the Number of States"
   ]
  },
  {
   "cell_type": "markdown",
   "metadata": {},
   "source": [
    "When we disregard the condition on diagonals, there is \n",
    "* $1$ state with $0$ queens, \n",
    "* $8$ states with 1 queen, \n",
    "* $8 \\cdot 7$ states with $2$ queens, \n",
    "* $\\vdots$\n",
    "* $8 \\cdot 7 \\cdots \\dots (8 - (k-1))$ states with $k$ queens,\n",
    "* $8!$ states with $8$ queens.\n",
    "\n",
    "Therefore, an upper bound for the total number of states is:\n",
    "$$ \\begin{array}{cl}\n",
    "     & 1 + 8 + 8 \\cdot 7 + \\cdots + 8! \\\\[0.2cm] \n",
    "   = &\\displaystyle \\frac{8!}{8!} + \\frac{8!}{7!} + \\frac{8!}{6!} + \\cdots + \\frac{8!}{1!} \\\\[0.2cm] \n",
    "   = &\\displaystyle \\sum\\limits_{i=0}^8 \\frac{8!}{(8-i)!} \\\\[0.2cm] \n",
    "   = &\\displaystyle 8! \\cdot \\sum\\limits_{i=0}^8 \\frac{1}{(8-i)!} \\\\[0.2cm] \n",
    "   = &\\displaystyle 8! \\cdot \\sum\\limits_{i=0}^8 \\frac{1}{i!} \\\\[0.2cm] \n",
    "   \\approx & 8! \\cdot \\mathrm{e}\n",
    "   \\end{array}\n",
    "$$   "
   ]
  },
  {
   "cell_type": "code",
   "execution_count": null,
   "metadata": {},
   "outputs": [],
   "source": [
    "def factorial(n):\n",
    "    result = 1\n",
    "    for i in range(1, n+1):\n",
    "        result *= i\n",
    "    return result"
   ]
  },
  {
   "cell_type": "code",
   "execution_count": null,
   "metadata": {},
   "outputs": [],
   "source": [
    "for i in range(9):\n",
    "    print(f'{i}! = {factorial(i)}')"
   ]
  },
  {
   "cell_type": "code",
   "execution_count": null,
   "metadata": {},
   "outputs": [],
   "source": [
    "result = 0\n",
    "for k in range(8+1):\n",
    "    result += factorial(8) // factorial(k)\n",
    "result"
   ]
  },
  {
   "cell_type": "code",
   "execution_count": null,
   "metadata": {},
   "outputs": [],
   "source": [
    "import math"
   ]
  },
  {
   "cell_type": "code",
   "execution_count": null,
   "metadata": {},
   "outputs": [],
   "source": [
    "round(factorial(8) * math.e)"
   ]
  },
  {
   "cell_type": "code",
   "execution_count": null,
   "metadata": {},
   "outputs": [],
   "source": []
  }
 ],
 "metadata": {
  "hide_input": false,
  "kernelspec": {
   "display_name": "Python 3 (ipykernel)",
   "language": "python",
   "name": "python3"
  },
  "language_info": {
   "codemirror_mode": {
    "name": "ipython",
    "version": 3
   },
   "file_extension": ".py",
   "mimetype": "text/x-python",
   "name": "python",
   "nbconvert_exporter": "python",
   "pygments_lexer": "ipython3",
   "version": "3.10.4"
  },
  "toc": {
   "base_numbering": 1,
   "nav_menu": {},
   "number_sections": true,
   "sideBar": true,
   "skip_h1_title": false,
   "title_cell": "Table of Contents",
   "title_sidebar": "Contents",
   "toc_cell": false,
   "toc_position": {},
   "toc_section_display": true,
   "toc_window_display": false
  },
  "varInspector": {
   "cols": {
    "lenName": 16,
    "lenType": 16,
    "lenVar": 40
   },
   "kernels_config": {
    "python": {
     "delete_cmd_postfix": "",
     "delete_cmd_prefix": "del ",
     "library": "var_list.py",
     "varRefreshCmd": "print(var_dic_list())"
    },
    "r": {
     "delete_cmd_postfix": ") ",
     "delete_cmd_prefix": "rm(",
     "library": "var_list.r",
     "varRefreshCmd": "cat(var_dic_list()) "
    }
   },
   "types_to_exclude": [
    "module",
    "function",
    "builtin_function_or_method",
    "instance",
    "_Feature"
   ],
   "window_display": false
  }
 },
 "nbformat": 4,
 "nbformat_minor": 2
}
