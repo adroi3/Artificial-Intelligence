{
 "cells": [
  {
   "cell_type": "code",
   "execution_count": 36,
   "metadata": {},
   "outputs": [],
   "source": [
    "import graphviz as gv"
   ]
  },
  {
   "cell_type": "code",
   "execution_count": 37,
   "metadata": {},
   "outputs": [],
   "source": [
    "def to_list(State): \n",
    "    return [list(row) for row in State]"
   ]
  },
  {
   "cell_type": "code",
   "execution_count": 38,
   "metadata": {},
   "outputs": [],
   "source": [
    "def to_tuple(State):\n",
    "    return tuple(tuple(row) for row in State)"
   ]
  },
  {
   "attachments": {},
   "cell_type": "markdown",
   "metadata": {},
   "source": [
    "# Suchprobleme"
   ]
  },
  {
   "attachments": {},
   "cell_type": "markdown",
   "metadata": {},
   "source": [
    "## Breitensuche (Breadth First Search)"
   ]
  },
  {
   "cell_type": "code",
   "execution_count": 39,
   "metadata": {},
   "outputs": [],
   "source": [
    "def path_to(state, Parent):\n",
    "    p = Parent[state]\n",
    "    if p == state:\n",
    "        return [state]\n",
    "    return path_to(p, Parent) + [state]"
   ]
  },
  {
   "cell_type": "code",
   "execution_count": 40,
   "metadata": {},
   "outputs": [],
   "source": [
    "def bfs_search(start, goal, next_states):\n",
    "    Frontier = { start }\n",
    "    Visited  = set()\n",
    "    Parent   = { start: start }\n",
    "    while Frontier:\n",
    "        NewFrontier = set()\n",
    "        for s in Frontier:\n",
    "            for ns in next_states(s):\n",
    "                if ns not in Visited and ns not in Frontier:\n",
    "                    NewFrontier.add(ns)\n",
    "                    Parent[ns] = s\n",
    "                    if ns == goal:\n",
    "                        print(\"number of states: \", len(Visited) + len(Frontier) + len(NewFrontier))\n",
    "                        return path_to(goal, Parent)\n",
    "        Visited |= Frontier\n",
    "        Frontier = NewFrontier"
   ]
  },
  {
   "cell_type": "markdown",
   "metadata": {},
   "source": [
    "### Beispiel Missionare"
   ]
  },
  {
   "attachments": {},
   "cell_type": "markdown",
   "metadata": {},
   "source": [
    "$\\texttt{problem}(m, i)$ is `True` if there is a problem on a shore that has $m$ missionaries and $i$ infidels.\n",
    "For a problem to arise, the number $m$ of missionaries needs to be greater than $0$ but less than the number $i$ of\n",
    "infidels."
   ]
  },
  {
   "cell_type": "code",
   "execution_count": 41,
   "metadata": {},
   "outputs": [],
   "source": [
    "def problem(m, i): \n",
    "    return 0 < m < i\n",
    "\n",
    "def no_problem(m, i): \n",
    "    return not problem(m, i) and not problem(3 - m, 3 - i)"
   ]
  },
  {
   "cell_type": "code",
   "execution_count": 42,
   "metadata": {},
   "outputs": [],
   "source": [
    "def next_states_mis(state):\n",
    "    m, i, b = state\n",
    "    if  b == 1:\n",
    "        return { (m-mb, i-ib, 0) for mb in range(m+1)\n",
    "                                 for ib in range(i+1)\n",
    "                                 if 1 <= mb + ib <= 2 and no_problem(m-mb, i-ib) \n",
    "               }\n",
    "    else:\n",
    "        return { (m+mb, i+ib, 1) for mb in range(3-m+1)\n",
    "                                 for ib in range(3-i+1)\n",
    "                                 if 1 <= mb + ib <= 2 and no_problem(m+mb, i+ib) \n",
    "               }"
   ]
  },
  {
   "cell_type": "code",
   "execution_count": 43,
   "metadata": {},
   "outputs": [],
   "source": [
    "def toDot(source, goal, Edges, Frontier, Visited, Parent=None):\n",
    "    V = set()\n",
    "    for x, L in Edges.items():\n",
    "        V.add(x)\n",
    "        for y in L:\n",
    "            V.add(y)\n",
    "    dot = gv.Digraph(node_attr={'shape': 'record', 'style': 'rounded'})\n",
    "    dot.attr(rankdir='LR')\n",
    "    for x in V:\n",
    "        if x == source:\n",
    "            dot.node(str(x), color='blue', shape='doublecircle')\n",
    "        elif x in Frontier and x == goal:\n",
    "            dot.node(str(x), label=str(x), color='magenta')\n",
    "        elif x in Frontier:\n",
    "            dot.node(str(x), label=str(x), color='red')\n",
    "        elif x in Visited:\n",
    "            dot.node(str(x), label=str(x), color='blue')\n",
    "        else:\n",
    "            dot.node(str(x), label=str(x))\n",
    "    if Parent:        \n",
    "        Path = path_to(goal, Parent)\n",
    "    for u in V:\n",
    "        if Edges.get(u):\n",
    "            for v in Edges[u]:\n",
    "                if Parent and v in Path and Parent[v] == u:\n",
    "                    dot.edge(str(u), str(v), color='brown', style='bold')                    \n",
    "                else:\n",
    "                    dot.edge(str(u), str(v))\n",
    "    return dot"
   ]
  },
  {
   "cell_type": "code",
   "execution_count": 44,
   "metadata": {},
   "outputs": [],
   "source": [
    "def tripleToStr(t):\n",
    "    return '(' + str(t[0]) + ',' + str(t[1]) + ',' + str(t[2]) + ')'\n",
    "\n",
    "def dot_graph(R):\n",
    "    \"\"\"This function takes binary relation R as inputs and shows this relation as\n",
    "       a graph using the module graphviz.\n",
    "    \"\"\"\n",
    "    dot = gv.Digraph()\n",
    "    dot.attr(rankdir='LR')\n",
    "    Nodes = { tripleToStr(a) for (a,b) in R } | { tripleToStr(b) for (a,b) in R }\n",
    "    for n in Nodes:\n",
    "        dot.node(n)\n",
    "    for (x, y) in R:\n",
    "        dot.edge(tripleToStr(x), tripleToStr(y))\n",
    "    return dot"
   ]
  },
  {
   "cell_type": "code",
   "execution_count": 45,
   "metadata": {},
   "outputs": [],
   "source": [
    "def createRelation(start):\n",
    "    oldM = set()\n",
    "    M    = { start }\n",
    "    R    = set()\n",
    "    while True:\n",
    "        oldM = M.copy()\n",
    "        M |= { y for x in M\n",
    "                 for y in next_states_mis(x)\n",
    "             }\n",
    "        if M == oldM:\n",
    "            break\n",
    "    return { (x, y) for x in M\n",
    "                    for y in next_states_mis(x)\n",
    "           }"
   ]
  },
  {
   "cell_type": "markdown",
   "metadata": {},
   "source": [
    "Initially, all missionaries, all infidels and the boat are on the left shore.\n",
    "The goal is to have everybody on the right shore, hence the numbers on the left shore\n",
    "should all be $0$."
   ]
  },
  {
   "cell_type": "code",
   "execution_count": 46,
   "metadata": {},
   "outputs": [],
   "source": [
    "start = (3, 3, 1)\n",
    "goal  = (0, 0, 0)"
   ]
  },
  {
   "cell_type": "code",
   "execution_count": 47,
   "metadata": {},
   "outputs": [
    {
     "data": {
      "image/svg+xml": "<?xml version=\"1.0\" encoding=\"UTF-8\" standalone=\"no\"?>\n<!DOCTYPE svg PUBLIC \"-//W3C//DTD SVG 1.1//EN\"\n \"http://www.w3.org/Graphics/SVG/1.1/DTD/svg11.dtd\">\n<!-- Generated by graphviz version 2.50.0 (0)\n -->\n<!-- Pages: 1 -->\n<svg width=\"1021pt\" height=\"179pt\"\n viewBox=\"0.00 0.00 1020.94 179.00\" xmlns=\"http://www.w3.org/2000/svg\" xmlns:xlink=\"http://www.w3.org/1999/xlink\">\n<g id=\"graph0\" class=\"graph\" transform=\"scale(1 1) rotate(0) translate(4 175)\">\n<polygon fill=\"white\" stroke=\"transparent\" points=\"-4,4 -4,-175 1016.94,-175 1016.94,4 -4,4\"/>\n<!-- (0,3,1) -->\n<g id=\"node1\" class=\"node\">\n<title>(0,3,1)</title>\n<ellipse fill=\"none\" stroke=\"black\" cx=\"34.45\" cy=\"-72\" rx=\"34.39\" ry=\"18\"/>\n<text text-anchor=\"middle\" x=\"34.45\" y=\"-68.3\" font-family=\"Times New Roman,serif\" font-size=\"14.00\">(0,3,1)</text>\n</g>\n<!-- (0,1,0) -->\n<g id=\"node2\" class=\"node\">\n<title>(0,1,0)</title>\n<ellipse fill=\"none\" stroke=\"black\" cx=\"139.34\" cy=\"-99\" rx=\"34.39\" ry=\"18\"/>\n<text text-anchor=\"middle\" x=\"139.34\" y=\"-95.3\" font-family=\"Times New Roman,serif\" font-size=\"14.00\">(0,1,0)</text>\n</g>\n<!-- (0,3,1)&#45;&gt;(0,1,0) -->\n<g id=\"edge5\" class=\"edge\">\n<title>(0,3,1)&#45;&gt;(0,1,0)</title>\n<path fill=\"none\" stroke=\"black\" d=\"M68.85,-74.4C80.2,-76.88 92.89,-80.2 104.28,-83.67\"/>\n<polygon fill=\"black\" stroke=\"black\" points=\"103.31,-87.03 113.9,-86.74 105.44,-80.36 103.31,-87.03\"/>\n</g>\n<!-- (0,2,0) -->\n<g id=\"node3\" class=\"node\">\n<title>(0,2,0)</title>\n<ellipse fill=\"none\" stroke=\"black\" cx=\"139.34\" cy=\"-45\" rx=\"34.39\" ry=\"18\"/>\n<text text-anchor=\"middle\" x=\"139.34\" y=\"-41.3\" font-family=\"Times New Roman,serif\" font-size=\"14.00\">(0,2,0)</text>\n</g>\n<!-- (0,3,1)&#45;&gt;(0,2,0) -->\n<g id=\"edge31\" class=\"edge\">\n<title>(0,3,1)&#45;&gt;(0,2,0)</title>\n<path fill=\"none\" stroke=\"black\" d=\"M59.83,-59.76C70.42,-56.2 83.14,-52.58 95.23,-49.64\"/>\n<polygon fill=\"black\" stroke=\"black\" points=\"96.22,-53.01 105.18,-47.35 94.65,-46.18 96.22,-53.01\"/>\n</g>\n<!-- (0,1,0)&#45;&gt;(0,3,1) -->\n<g id=\"edge24\" class=\"edge\">\n<title>(0,1,0)&#45;&gt;(0,3,1)</title>\n<path fill=\"none\" stroke=\"black\" d=\"M105.18,-96.65C93.77,-94.17 80.99,-90.83 69.51,-87.33\"/>\n<polygon fill=\"black\" stroke=\"black\" points=\"70.42,-83.95 59.83,-84.24 68.29,-90.62 70.42,-83.95\"/>\n</g>\n<!-- (0,2,1) -->\n<g id=\"node13\" class=\"node\">\n<title>(0,2,1)</title>\n<ellipse fill=\"none\" stroke=\"black\" cx=\"454.02\" cy=\"-153\" rx=\"34.39\" ry=\"18\"/>\n<text text-anchor=\"middle\" x=\"454.02\" y=\"-149.3\" font-family=\"Times New Roman,serif\" font-size=\"14.00\">(0,2,1)</text>\n</g>\n<!-- (0,1,0)&#45;&gt;(0,2,1) -->\n<g id=\"edge8\" class=\"edge\">\n<title>(0,1,0)&#45;&gt;(0,2,1)</title>\n<path fill=\"none\" stroke=\"black\" d=\"M171.93,-104.84C183.61,-109.03 197.1,-113.89 209.79,-117 279.37,-134.08 362.82,-140.37 411.68,-145.25\"/>\n<polygon fill=\"black\" stroke=\"black\" points=\"411.55,-148.76 421.86,-146.31 412.27,-141.79 411.55,-148.76\"/>\n</g>\n<!-- (1,1,1) -->\n<g id=\"node16\" class=\"node\">\n<title>(1,1,1)</title>\n<ellipse fill=\"none\" stroke=\"black\" cx=\"244.23\" cy=\"-99\" rx=\"34.39\" ry=\"18\"/>\n<text text-anchor=\"middle\" x=\"244.23\" y=\"-95.3\" font-family=\"Times New Roman,serif\" font-size=\"14.00\">(1,1,1)</text>\n</g>\n<!-- (0,1,0)&#45;&gt;(1,1,1) -->\n<g id=\"edge15\" class=\"edge\">\n<title>(0,1,0)&#45;&gt;(1,1,1)</title>\n<path fill=\"none\" stroke=\"black\" d=\"M171.77,-92.73C181.16,-92.26 191.6,-92.13 201.53,-92.36\"/>\n<polygon fill=\"black\" stroke=\"black\" points=\"201.52,-95.86 211.64,-92.72 201.77,-88.87 201.52,-95.86\"/>\n</g>\n<!-- (0,2,0)&#45;&gt;(0,3,1) -->\n<g id=\"edge1\" class=\"edge\">\n<title>(0,2,0)&#45;&gt;(0,3,1)</title>\n<path fill=\"none\" stroke=\"black\" d=\"M113.9,-57.26C103.38,-60.8 90.76,-64.39 78.74,-67.31\"/>\n<polygon fill=\"black\" stroke=\"black\" points=\"77.81,-63.94 68.85,-69.6 79.39,-70.76 77.81,-63.94\"/>\n</g>\n<!-- (2,2,1) -->\n<g id=\"node12\" class=\"node\">\n<title>(2,2,1)</title>\n<ellipse fill=\"none\" stroke=\"black\" cx=\"244.23\" cy=\"-45\" rx=\"34.39\" ry=\"18\"/>\n<text text-anchor=\"middle\" x=\"244.23\" y=\"-41.3\" font-family=\"Times New Roman,serif\" font-size=\"14.00\">(2,2,1)</text>\n</g>\n<!-- (0,2,0)&#45;&gt;(2,2,1) -->\n<g id=\"edge34\" class=\"edge\">\n<title>(0,2,0)&#45;&gt;(2,2,1)</title>\n<path fill=\"none\" stroke=\"black\" d=\"M171.77,-38.73C181.16,-38.26 191.6,-38.13 201.53,-38.36\"/>\n<polygon fill=\"black\" stroke=\"black\" points=\"201.52,-41.86 211.64,-38.72 201.77,-34.87 201.52,-41.86\"/>\n</g>\n<!-- (0,0,0) -->\n<g id=\"node4\" class=\"node\">\n<title>(0,0,0)</title>\n<ellipse fill=\"none\" stroke=\"black\" cx=\"349.13\" cy=\"-99\" rx=\"34.39\" ry=\"18\"/>\n<text text-anchor=\"middle\" x=\"349.13\" y=\"-95.3\" font-family=\"Times New Roman,serif\" font-size=\"14.00\">(0,0,0)</text>\n</g>\n<!-- (0,0,0)&#45;&gt;(0,2,1) -->\n<g id=\"edge9\" class=\"edge\">\n<title>(0,0,0)&#45;&gt;(0,2,1)</title>\n<path fill=\"none\" stroke=\"black\" d=\"M379.06,-108.05C393.69,-114.88 411.34,-124.17 425.73,-132.64\"/>\n<polygon fill=\"black\" stroke=\"black\" points=\"424.29,-135.86 434.65,-138.05 427.92,-129.87 424.29,-135.86\"/>\n</g>\n<!-- (0,1,1) -->\n<g id=\"node15\" class=\"node\">\n<title>(0,1,1)</title>\n<ellipse fill=\"none\" stroke=\"black\" cx=\"454.02\" cy=\"-99\" rx=\"34.39\" ry=\"18\"/>\n<text text-anchor=\"middle\" x=\"454.02\" y=\"-95.3\" font-family=\"Times New Roman,serif\" font-size=\"14.00\">(0,1,1)</text>\n</g>\n<!-- (0,0,0)&#45;&gt;(0,1,1) -->\n<g id=\"edge12\" class=\"edge\">\n<title>(0,0,0)&#45;&gt;(0,1,1)</title>\n<path fill=\"none\" stroke=\"black\" d=\"M381.56,-92.73C390.95,-92.26 401.39,-92.13 411.32,-92.36\"/>\n<polygon fill=\"black\" stroke=\"black\" points=\"411.31,-95.86 421.43,-92.72 411.56,-88.87 411.31,-95.86\"/>\n</g>\n<!-- (0,0,0)&#45;&gt;(1,1,1) -->\n<g id=\"edge17\" class=\"edge\">\n<title>(0,0,0)&#45;&gt;(1,1,1)</title>\n<path fill=\"none\" stroke=\"black\" d=\"M316.54,-105.28C307.14,-105.75 296.69,-105.87 286.76,-105.64\"/>\n<polygon fill=\"black\" stroke=\"black\" points=\"286.78,-102.14 276.67,-105.27 286.53,-109.13 286.78,-102.14\"/>\n</g>\n<!-- (3,0,0) -->\n<g id=\"node5\" class=\"node\">\n<title>(3,0,0)</title>\n<ellipse fill=\"none\" stroke=\"black\" cx=\"558.92\" cy=\"-45\" rx=\"34.39\" ry=\"18\"/>\n<text text-anchor=\"middle\" x=\"558.92\" y=\"-41.3\" font-family=\"Times New Roman,serif\" font-size=\"14.00\">(3,0,0)</text>\n</g>\n<!-- (3,2,1) -->\n<g id=\"node6\" class=\"node\">\n<title>(3,2,1)</title>\n<ellipse fill=\"none\" stroke=\"black\" cx=\"663.81\" cy=\"-45\" rx=\"34.39\" ry=\"18\"/>\n<text text-anchor=\"middle\" x=\"663.81\" y=\"-41.3\" font-family=\"Times New Roman,serif\" font-size=\"14.00\">(3,2,1)</text>\n</g>\n<!-- (3,0,0)&#45;&gt;(3,2,1) -->\n<g id=\"edge30\" class=\"edge\">\n<title>(3,0,0)&#45;&gt;(3,2,1)</title>\n<path fill=\"none\" stroke=\"black\" d=\"M591.35,-38.73C600.73,-38.26 611.17,-38.13 621.11,-38.36\"/>\n<polygon fill=\"black\" stroke=\"black\" points=\"621.1,-41.86 631.22,-38.72 621.35,-34.87 621.1,-41.86\"/>\n</g>\n<!-- (3,1,1) -->\n<g id=\"node7\" class=\"node\">\n<title>(3,1,1)</title>\n<ellipse fill=\"none\" stroke=\"black\" cx=\"454.02\" cy=\"-45\" rx=\"34.39\" ry=\"18\"/>\n<text text-anchor=\"middle\" x=\"454.02\" y=\"-41.3\" font-family=\"Times New Roman,serif\" font-size=\"14.00\">(3,1,1)</text>\n</g>\n<!-- (3,0,0)&#45;&gt;(3,1,1) -->\n<g id=\"edge33\" class=\"edge\">\n<title>(3,0,0)&#45;&gt;(3,1,1)</title>\n<path fill=\"none\" stroke=\"black\" d=\"M526.32,-51.28C516.92,-51.75 506.48,-51.87 496.55,-51.64\"/>\n<polygon fill=\"black\" stroke=\"black\" points=\"496.57,-48.14 486.45,-51.27 496.32,-55.13 496.57,-48.14\"/>\n</g>\n<!-- (3,2,1)&#45;&gt;(3,0,0) -->\n<g id=\"edge7\" class=\"edge\">\n<title>(3,2,1)&#45;&gt;(3,0,0)</title>\n<path fill=\"none\" stroke=\"black\" d=\"M631.22,-51.28C621.82,-51.75 611.38,-51.87 601.45,-51.64\"/>\n<polygon fill=\"black\" stroke=\"black\" points=\"601.47,-48.14 591.35,-51.27 601.21,-55.13 601.47,-48.14\"/>\n</g>\n<!-- (3,1,0) -->\n<g id=\"node8\" class=\"node\">\n<title>(3,1,0)</title>\n<ellipse fill=\"none\" stroke=\"black\" cx=\"978.49\" cy=\"-72\" rx=\"34.39\" ry=\"18\"/>\n<text text-anchor=\"middle\" x=\"978.49\" y=\"-68.3\" font-family=\"Times New Roman,serif\" font-size=\"14.00\">(3,1,0)</text>\n</g>\n<!-- (3,2,1)&#45;&gt;(3,1,0) -->\n<g id=\"edge23\" class=\"edge\">\n<title>(3,2,1)&#45;&gt;(3,1,0)</title>\n<path fill=\"none\" stroke=\"black\" d=\"M698.27,-43.52C755.91,-45.45 873.73,-55.5 936.31,-63.7\"/>\n<polygon fill=\"black\" stroke=\"black\" points=\"936.21,-67.22 946.59,-65.1 937.16,-60.28 936.21,-67.22\"/>\n</g>\n<!-- (2,2,0) -->\n<g id=\"node10\" class=\"node\">\n<title>(2,2,0)</title>\n<ellipse fill=\"none\" stroke=\"black\" cx=\"768.7\" cy=\"-18\" rx=\"34.39\" ry=\"18\"/>\n<text text-anchor=\"middle\" x=\"768.7\" y=\"-14.3\" font-family=\"Times New Roman,serif\" font-size=\"14.00\">(2,2,0)</text>\n</g>\n<!-- (3,2,1)&#45;&gt;(2,2,0) -->\n<g id=\"edge26\" class=\"edge\">\n<title>(3,2,1)&#45;&gt;(2,2,0)</title>\n<path fill=\"none\" stroke=\"black\" d=\"M689.19,-32.76C699.78,-29.2 712.5,-25.58 724.59,-22.64\"/>\n<polygon fill=\"black\" stroke=\"black\" points=\"725.58,-26.01 734.54,-20.35 724.01,-19.18 725.58,-26.01\"/>\n</g>\n<!-- (3,1,1)&#45;&gt;(3,0,0) -->\n<g id=\"edge32\" class=\"edge\">\n<title>(3,1,1)&#45;&gt;(3,0,0)</title>\n<path fill=\"none\" stroke=\"black\" d=\"M486.45,-38.73C495.84,-38.26 506.28,-38.13 516.22,-38.36\"/>\n<polygon fill=\"black\" stroke=\"black\" points=\"516.21,-41.86 526.32,-38.72 516.45,-34.87 516.21,-41.86\"/>\n</g>\n<!-- (1,1,0) -->\n<g id=\"node11\" class=\"node\">\n<title>(1,1,0)</title>\n<ellipse fill=\"none\" stroke=\"black\" cx=\"349.13\" cy=\"-45\" rx=\"34.39\" ry=\"18\"/>\n<text text-anchor=\"middle\" x=\"349.13\" y=\"-41.3\" font-family=\"Times New Roman,serif\" font-size=\"14.00\">(1,1,0)</text>\n</g>\n<!-- (3,1,1)&#45;&gt;(1,1,0) -->\n<g id=\"edge6\" class=\"edge\">\n<title>(3,1,1)&#45;&gt;(1,1,0)</title>\n<path fill=\"none\" stroke=\"black\" d=\"M421.43,-51.28C412.03,-51.75 401.59,-51.87 391.66,-51.64\"/>\n<polygon fill=\"black\" stroke=\"black\" points=\"391.68,-48.14 381.56,-51.27 391.43,-55.13 391.68,-48.14\"/>\n</g>\n<!-- (3,1,0)&#45;&gt;(3,2,1) -->\n<g id=\"edge27\" class=\"edge\">\n<title>(3,1,0)&#45;&gt;(3,2,1)</title>\n<path fill=\"none\" stroke=\"black\" d=\"M944.07,-73.48C886.43,-71.55 768.5,-61.49 705.93,-53.29\"/>\n<polygon fill=\"black\" stroke=\"black\" points=\"706.03,-49.77 695.65,-51.89 705.08,-56.71 706.03,-49.77\"/>\n</g>\n<!-- (3,3,1) -->\n<g id=\"node9\" class=\"node\">\n<title>(3,3,1)</title>\n<ellipse fill=\"none\" stroke=\"black\" cx=\"873.6\" cy=\"-18\" rx=\"34.39\" ry=\"18\"/>\n<text text-anchor=\"middle\" x=\"873.6\" y=\"-14.3\" font-family=\"Times New Roman,serif\" font-size=\"14.00\">(3,3,1)</text>\n</g>\n<!-- (3,1,0)&#45;&gt;(3,3,1) -->\n<g id=\"edge22\" class=\"edge\">\n<title>(3,1,0)&#45;&gt;(3,3,1)</title>\n<path fill=\"none\" stroke=\"black\" d=\"M948.37,-62.86C933.77,-56.04 916.21,-46.79 901.88,-38.36\"/>\n<polygon fill=\"black\" stroke=\"black\" points=\"903.36,-35.16 892.99,-32.97 899.73,-41.15 903.36,-35.16\"/>\n</g>\n<!-- (3,3,1)&#45;&gt;(3,1,0) -->\n<g id=\"edge25\" class=\"edge\">\n<title>(3,3,1)&#45;&gt;(3,1,0)</title>\n<path fill=\"none\" stroke=\"black\" d=\"M903.53,-27.05C918.16,-33.88 935.81,-43.17 950.2,-51.64\"/>\n<polygon fill=\"black\" stroke=\"black\" points=\"948.76,-54.86 959.12,-57.05 952.39,-48.87 948.76,-54.86\"/>\n</g>\n<!-- (3,3,1)&#45;&gt;(2,2,0) -->\n<g id=\"edge29\" class=\"edge\">\n<title>(3,3,1)&#45;&gt;(2,2,0)</title>\n<path fill=\"none\" stroke=\"black\" d=\"M841.01,-24.28C831.61,-24.75 821.16,-24.87 811.23,-24.64\"/>\n<polygon fill=\"black\" stroke=\"black\" points=\"811.25,-21.14 801.13,-24.27 811,-28.13 811.25,-21.14\"/>\n</g>\n<!-- (3,2,0) -->\n<g id=\"node14\" class=\"node\">\n<title>(3,2,0)</title>\n<ellipse fill=\"none\" stroke=\"black\" cx=\"978.49\" cy=\"-18\" rx=\"34.39\" ry=\"18\"/>\n<text text-anchor=\"middle\" x=\"978.49\" y=\"-14.3\" font-family=\"Times New Roman,serif\" font-size=\"14.00\">(3,2,0)</text>\n</g>\n<!-- (3,3,1)&#45;&gt;(3,2,0) -->\n<g id=\"edge14\" class=\"edge\">\n<title>(3,3,1)&#45;&gt;(3,2,0)</title>\n<path fill=\"none\" stroke=\"black\" d=\"M906.03,-11.73C915.42,-11.26 925.86,-11.13 935.79,-11.36\"/>\n<polygon fill=\"black\" stroke=\"black\" points=\"935.78,-14.86 945.9,-11.72 936.03,-7.87 935.78,-14.86\"/>\n</g>\n<!-- (2,2,0)&#45;&gt;(3,2,1) -->\n<g id=\"edge10\" class=\"edge\">\n<title>(2,2,0)&#45;&gt;(3,2,1)</title>\n<path fill=\"none\" stroke=\"black\" d=\"M743.26,-30.26C732.74,-33.8 720.12,-37.39 708.11,-40.31\"/>\n<polygon fill=\"black\" stroke=\"black\" points=\"707.17,-36.94 698.22,-42.6 708.75,-43.76 707.17,-36.94\"/>\n</g>\n<!-- (2,2,0)&#45;&gt;(3,3,1) -->\n<g id=\"edge2\" class=\"edge\">\n<title>(2,2,0)&#45;&gt;(3,3,1)</title>\n<path fill=\"none\" stroke=\"black\" d=\"M801.13,-11.73C810.52,-11.26 820.96,-11.13 830.9,-11.36\"/>\n<polygon fill=\"black\" stroke=\"black\" points=\"830.89,-14.86 841.01,-11.72 831.14,-7.87 830.89,-14.86\"/>\n</g>\n<!-- (1,1,0)&#45;&gt;(3,1,1) -->\n<g id=\"edge13\" class=\"edge\">\n<title>(1,1,0)&#45;&gt;(3,1,1)</title>\n<path fill=\"none\" stroke=\"black\" d=\"M381.56,-38.73C390.95,-38.26 401.39,-38.13 411.32,-38.36\"/>\n<polygon fill=\"black\" stroke=\"black\" points=\"411.31,-41.86 421.43,-38.72 411.56,-34.87 411.31,-41.86\"/>\n</g>\n<!-- (1,1,0)&#45;&gt;(2,2,1) -->\n<g id=\"edge18\" class=\"edge\">\n<title>(1,1,0)&#45;&gt;(2,2,1)</title>\n<path fill=\"none\" stroke=\"black\" d=\"M316.54,-51.28C307.14,-51.75 296.69,-51.87 286.76,-51.64\"/>\n<polygon fill=\"black\" stroke=\"black\" points=\"286.78,-48.14 276.67,-51.27 286.53,-55.13 286.78,-48.14\"/>\n</g>\n<!-- (2,2,1)&#45;&gt;(0,2,0) -->\n<g id=\"edge28\" class=\"edge\">\n<title>(2,2,1)&#45;&gt;(0,2,0)</title>\n<path fill=\"none\" stroke=\"black\" d=\"M211.64,-51.28C202.24,-51.75 191.8,-51.87 181.87,-51.64\"/>\n<polygon fill=\"black\" stroke=\"black\" points=\"181.89,-48.14 171.77,-51.27 181.64,-55.13 181.89,-48.14\"/>\n</g>\n<!-- (2,2,1)&#45;&gt;(1,1,0) -->\n<g id=\"edge11\" class=\"edge\">\n<title>(2,2,1)&#45;&gt;(1,1,0)</title>\n<path fill=\"none\" stroke=\"black\" d=\"M276.67,-38.73C286.05,-38.26 296.49,-38.13 306.43,-38.36\"/>\n<polygon fill=\"black\" stroke=\"black\" points=\"306.42,-41.86 316.54,-38.72 306.67,-34.87 306.42,-41.86\"/>\n</g>\n<!-- (0,2,1)&#45;&gt;(0,1,0) -->\n<g id=\"edge4\" class=\"edge\">\n<title>(0,2,1)&#45;&gt;(0,1,0)</title>\n<path fill=\"none\" stroke=\"black\" d=\"M420.68,-157.98C373.64,-159.14 283.85,-153.18 209.79,-135 195.07,-131.39 179.28,-125.43 166.48,-119.16\"/>\n<polygon fill=\"black\" stroke=\"black\" points=\"167.82,-115.91 157.35,-114.35 164.56,-122.11 167.82,-115.91\"/>\n</g>\n<!-- (0,2,1)&#45;&gt;(0,0,0) -->\n<g id=\"edge20\" class=\"edge\">\n<title>(0,2,1)&#45;&gt;(0,0,0)</title>\n<path fill=\"none\" stroke=\"black\" d=\"M423.9,-143.86C409.3,-137.04 391.74,-127.79 377.41,-119.36\"/>\n<polygon fill=\"black\" stroke=\"black\" points=\"378.89,-116.16 368.52,-113.97 375.26,-122.15 378.89,-116.16\"/>\n</g>\n<!-- (3,2,0)&#45;&gt;(3,3,1) -->\n<g id=\"edge19\" class=\"edge\">\n<title>(3,2,0)&#45;&gt;(3,3,1)</title>\n<path fill=\"none\" stroke=\"black\" d=\"M945.9,-24.28C936.5,-24.75 926.06,-24.87 916.13,-24.64\"/>\n<polygon fill=\"black\" stroke=\"black\" points=\"916.15,-21.14 906.03,-24.27 915.9,-28.13 916.15,-21.14\"/>\n</g>\n<!-- (0,1,1)&#45;&gt;(0,0,0) -->\n<g id=\"edge21\" class=\"edge\">\n<title>(0,1,1)&#45;&gt;(0,0,0)</title>\n<path fill=\"none\" stroke=\"black\" d=\"M421.43,-105.28C412.03,-105.75 401.59,-105.87 391.66,-105.64\"/>\n<polygon fill=\"black\" stroke=\"black\" points=\"391.68,-102.14 381.56,-105.27 391.43,-109.13 391.68,-102.14\"/>\n</g>\n<!-- (1,1,1)&#45;&gt;(0,1,0) -->\n<g id=\"edge3\" class=\"edge\">\n<title>(1,1,1)&#45;&gt;(0,1,0)</title>\n<path fill=\"none\" stroke=\"black\" d=\"M211.64,-105.28C202.24,-105.75 191.8,-105.87 181.87,-105.64\"/>\n<polygon fill=\"black\" stroke=\"black\" points=\"181.89,-102.14 171.77,-105.27 181.64,-109.13 181.89,-102.14\"/>\n</g>\n<!-- (1,1,1)&#45;&gt;(0,0,0) -->\n<g id=\"edge16\" class=\"edge\">\n<title>(1,1,1)&#45;&gt;(0,0,0)</title>\n<path fill=\"none\" stroke=\"black\" d=\"M276.67,-92.73C286.05,-92.26 296.49,-92.13 306.43,-92.36\"/>\n<polygon fill=\"black\" stroke=\"black\" points=\"306.42,-95.86 316.54,-92.72 306.67,-88.87 306.42,-95.86\"/>\n</g>\n</g>\n</svg>\n",
      "text/plain": [
       "<graphviz.graphs.Digraph at 0x2457daa1c90>"
      ]
     },
     "execution_count": 47,
     "metadata": {},
     "output_type": "execute_result"
    }
   ],
   "source": [
    "dot_graph(createRelation(start))"
   ]
  },
  {
   "cell_type": "code",
   "execution_count": 48,
   "metadata": {},
   "outputs": [],
   "source": [
    "def fillCharsLeft(x, n):\n",
    "    s = str(x)\n",
    "    m = n - len(s)\n",
    "    return m * \" \" + s\n",
    "\n",
    "def fillCharsRight(x, n):\n",
    "    s = str(x)\n",
    "    m = n - len(s)\n",
    "    return s + m * \" \"\n",
    "\n",
    "def fillCharsBoth(x, n):\n",
    "    s  = str(x)\n",
    "    ml = (n     - len(s)) // 2\n",
    "    mr = (n + 1 - len(s)) // 2\n",
    "    return ml * \" \" + s + mr * \" \"\n",
    "\n",
    "def printState(m, k, b):\n",
    "     print( fillCharsRight(m * \"M\", 6) + \n",
    "            fillCharsRight(k * \"K\", 6) + \n",
    "            fillCharsRight(b * \"B\", 3) + \"    |~~~~~|    \" + \n",
    "            fillCharsLeft((3 - m) * \"M\", 6) + \n",
    "            fillCharsLeft((3 - k) * \"K\", 6) + \n",
    "            fillCharsLeft((1 - b) * \"B\", 3) \n",
    "          )\n",
    "\n",
    "def printBoat(m1, k1, b1, m2, k2, b2):\n",
    "    if b1 == 1:\n",
    "        if m1 < m2:\n",
    "            print(\"Error in printBoat: negative number of missionaries in the boat!\")\n",
    "            return\n",
    "        if k1 < k2:\n",
    "            print(\"Error in printBoat: negative number of infidels in the boat!\")\n",
    "            return\n",
    "        print(19*\" \" + \"> \" + fillCharsBoth((m1-m2)*\"M\" + \" \" + (k1-k2)*\"K\", 3) + \" >\")\n",
    "    else:\n",
    "        if m1 > m2:\n",
    "            print(\"Error in printBoat: negative number of missionaries in the boat!\")\n",
    "            return\n",
    "        if k1 > k2:\n",
    "            print(\"Error in printBoat: negative number of infidels in the boat!\")\n",
    "            return\n",
    "        print(19*\" \" + \"< \" + fillCharsBoth((m2-m1)*\"M\" + \" \" + (k2-k1)*\"K\", 3) + \" <\")\n",
    "\n",
    "def printPath(Path):\n",
    "    print(\"Solution:\\n\")\n",
    "    for i in range(len(Path) - 1):\n",
    "        m1, k1, b1 = Path[i]\n",
    "        m2, k2, b2 = Path[i+1]\n",
    "        printState(m1, k1, b1)\n",
    "        printBoat(m1, k1, b1, m2, k2, b2)\n",
    "    m, k, b = Path[-1]\n",
    "    printState(m, k, b)"
   ]
  },
  {
   "cell_type": "code",
   "execution_count": 49,
   "metadata": {},
   "outputs": [
    {
     "name": "stdout",
     "output_type": "stream",
     "text": [
      "number of states:  15\n",
      "Solution:\n",
      "\n",
      "MMM   KKK   B      |~~~~~|                   \n",
      "                   > M K >\n",
      "MM    KK           |~~~~~|         M     K  B\n",
      "                   < M   <\n",
      "MMM   KK    B      |~~~~~|               K   \n",
      "                   >  KK >\n",
      "MMM                |~~~~~|             KKK  B\n",
      "                   <  K  <\n",
      "MMM   K     B      |~~~~~|              KK   \n",
      "                   > MM  >\n",
      "M     K            |~~~~~|        MM    KK  B\n",
      "                   < M K <\n",
      "MM    KK    B      |~~~~~|         M     K   \n",
      "                   > MM  >\n",
      "      KK           |~~~~~|       MMM     K  B\n",
      "                   <  K  <\n",
      "      KKK   B      |~~~~~|       MMM         \n",
      "                   >  KK >\n",
      "      K            |~~~~~|       MMM    KK  B\n",
      "                   <  K  <\n",
      "      KK    B      |~~~~~|       MMM     K   \n",
      "                   >  KK >\n",
      "                   |~~~~~|       MMM   KKK  B\n",
      "CPU times: total: 0 ns\n",
      "Wall time: 0 ns\n"
     ]
    }
   ],
   "source": [
    "%%time\n",
    "Path = bfs_search(start, goal, next_states_mis)\n",
    "printPath(Path)"
   ]
  },
  {
   "attachments": {},
   "cell_type": "markdown",
   "metadata": {},
   "source": [
    "## Beispiel Sliding Puzzle"
   ]
  },
  {
   "attachments": {},
   "cell_type": "markdown",
   "metadata": {},
   "source": [
    "### Animation"
   ]
  },
  {
   "cell_type": "markdown",
   "metadata": {},
   "source": [
    "The package `ipycanvas`, which is imported below, can be installed using the following command:\n",
    "```\n",
    "    conda install -c conda-forge ipycanvas\n",
    "```\n",
    "This package is useful for drawings and animations.  Its documentation can be found at:\n",
    "  https://ipycanvas.readthedocs.io/en/latest/."
   ]
  },
  {
   "cell_type": "code",
   "execution_count": 50,
   "metadata": {},
   "outputs": [],
   "source": [
    "import ipycanvas as cnv"
   ]
  },
  {
   "cell_type": "markdown",
   "metadata": {},
   "source": [
    "The module `time` is part of the standard library, so it is preinstalled.  We have imported it because we need the function `time.sleep(secs)` to pause the animation for a specified time."
   ]
  },
  {
   "cell_type": "code",
   "execution_count": 51,
   "metadata": {},
   "outputs": [],
   "source": [
    "import time"
   ]
  },
  {
   "cell_type": "markdown",
   "metadata": {},
   "source": [
    "The global variable `Colors` specifies the colors of the tiles."
   ]
  },
  {
   "cell_type": "code",
   "execution_count": 52,
   "metadata": {},
   "outputs": [],
   "source": [
    "Colors = ['white', 'lightblue', 'pink', 'magenta', 'orange', 'red', 'yellow', 'lightgreen', 'gold',\n",
    "          'CornFlowerBlue', 'Coral', 'Cyan', 'orchid', 'DarkSalmon', 'DeepPink', 'green'\n",
    "         ] "
   ]
  },
  {
   "cell_type": "markdown",
   "metadata": {},
   "source": [
    "The global variable `size` specifies the size of one tile in pixels."
   ]
  },
  {
   "cell_type": "code",
   "execution_count": 53,
   "metadata": {},
   "outputs": [],
   "source": [
    "size = 100"
   ]
  },
  {
   "cell_type": "markdown",
   "metadata": {},
   "source": [
    "The function `draw(State, canvas, dx, dy, tile, x)` draws a given `State` of the sliding puzzle, where `tile` has been moved by `offset` pixels into the direction `(dx, dy)`."
   ]
  },
  {
   "cell_type": "code",
   "execution_count": 54,
   "metadata": {},
   "outputs": [],
   "source": [
    "def draw(State, canvas, dx, dy, tile, offset):\n",
    "    canvas.text_align    = 'center'\n",
    "    canvas.text_baseline = 'middle'\n",
    "    with cnv.hold_canvas(canvas):\n",
    "        canvas.clear()\n",
    "        n = len(State)\n",
    "        for row in range(n):\n",
    "            for col in range(n):\n",
    "                tile_to_draw = State[row][col]\n",
    "                color = Colors[tile_to_draw]\n",
    "                canvas.fill_style = color\n",
    "                if tile_to_draw not in (0, tile):\n",
    "                    x = col * size\n",
    "                    y = row * size\n",
    "                    canvas.fill_rect(x, y, size, size)\n",
    "                    canvas.line_width = 3.0\n",
    "                    x += size // 2\n",
    "                    y += size // 2\n",
    "                    canvas.stroke_text(str(tile_to_draw), x, y)\n",
    "                elif tile_to_draw == tile:\n",
    "                    x = col * size + offset * dx\n",
    "                    y = row * size + offset * dy\n",
    "                    canvas.fill_rect(x, y, size, size)\n",
    "                    canvas.line_width = 3.0\n",
    "                    x += size // 2\n",
    "                    y += size // 2\n",
    "                    if tile_to_draw != 0:\n",
    "                        canvas.stroke_text(str(tile_to_draw), x, y)"
   ]
  },
  {
   "cell_type": "code",
   "execution_count": 55,
   "metadata": {},
   "outputs": [],
   "source": [
    "def create_canvas(n): \n",
    "    canvas = cnv.Canvas(size=(size * n, size * n))\n",
    "    canvas.font = '100px serif'\n",
    "    return canvas"
   ]
  },
  {
   "cell_type": "markdown",
   "metadata": {},
   "source": [
    "The global variable `delay` controls the speed of the animation."
   ]
  },
  {
   "cell_type": "code",
   "execution_count": 65,
   "metadata": {},
   "outputs": [],
   "source": [
    "delay = 0.0005"
   ]
  },
  {
   "cell_type": "markdown",
   "metadata": {},
   "source": [
    "The function call `tile_and_direction(state, next_state)` takes a state and the state that follows this state and returns a triple `(tile, dx, dy)` where `tile` is the tile that is moved to transform `state` into `next_state` and `(dx, dy)` is the direction in which this tile is moved."
   ]
  },
  {
   "cell_type": "code",
   "execution_count": 57,
   "metadata": {},
   "outputs": [],
   "source": [
    "def tile_and_direction(state, next_state):\n",
    "    row0, col0 = find_tile(0, state)\n",
    "    row1, col1 = find_tile(0, next_state)\n",
    "    return state[row1][col1], col0-col1, row0-row1"
   ]
  },
  {
   "cell_type": "markdown",
   "metadata": {},
   "source": [
    "Given a list of states representing a solution to the sliding puzzle, the function call \n",
    "`animation(Solution)` animates the solution."
   ]
  },
  {
   "cell_type": "code",
   "execution_count": 58,
   "metadata": {},
   "outputs": [],
   "source": [
    "def animation(Solution):\n",
    "    start = Solution[0]\n",
    "    n = len(start)\n",
    "    canvas = create_canvas(n)\n",
    "    draw(start, canvas, 0, 0, 0, 0)\n",
    "    m = len(Solution)\n",
    "    display(canvas)\n",
    "    for i in range(m-1):\n",
    "        state = Solution[i]\n",
    "        tile, dx, dy = tile_and_direction(state, Solution[i+1])\n",
    "        for offset in range(size+1):\n",
    "            draw(state, canvas, dx, dy, tile, offset)\n",
    "            time.sleep(delay)"
   ]
  },
  {
   "attachments": {},
   "cell_type": "markdown",
   "metadata": {},
   "source": [
    "### Code"
   ]
  },
  {
   "cell_type": "code",
   "execution_count": 59,
   "metadata": {},
   "outputs": [],
   "source": [
    "def move_dir(State, row, col, dx, dy):\n",
    "    State = to_list(State)\n",
    "    State[row     ][col     ] = State[row + dx][col + dy]\n",
    "    State[row + dx][col + dy] = 0\n",
    "    return to_tuple(State)"
   ]
  },
  {
   "cell_type": "code",
   "execution_count": 60,
   "metadata": {},
   "outputs": [],
   "source": [
    "def find_tile(tile, State):\n",
    "    n = len(State)\n",
    "    for row in range(n):\n",
    "        for col in range(n):\n",
    "            if State[row][col] == tile:\n",
    "                return row, col"
   ]
  },
  {
   "cell_type": "code",
   "execution_count": 61,
   "metadata": {},
   "outputs": [],
   "source": [
    "def next_states_sliding(State):\n",
    "    n          = len(State)\n",
    "    row, col   = find_tile(0, State)\n",
    "    New_States = set()\n",
    "    Directions = [ (1, 0), (-1, 0), (0, 1), (0, -1) ]\n",
    "    for dx, dy in Directions:\n",
    "        if row + dx in range(n) and col + dy in range(n):\n",
    "            New_States.add(move_dir(State, row, col, dx, dy))\n",
    "    return New_States"
   ]
  },
  {
   "cell_type": "code",
   "execution_count": 62,
   "metadata": {},
   "outputs": [],
   "source": [
    "start = ( (8, 0, 6),\n",
    "          (5, 4, 7),\n",
    "          (2, 3, 1)\n",
    "        )\n",
    "goal = ( (0, 1, 2), \n",
    "         (3, 4, 5), \n",
    "         (6, 7, 8)\n",
    "       )"
   ]
  },
  {
   "cell_type": "code",
   "execution_count": 63,
   "metadata": {},
   "outputs": [
    {
     "name": "stdout",
     "output_type": "stream",
     "text": [
      "number of states:  181440\n",
      "[((8, 0, 6), (5, 4, 7), (2, 3, 1)), ((8, 4, 6), (5, 0, 7), (2, 3, 1)), ((8, 4, 6), (0, 5, 7), (2, 3, 1)), ((8, 4, 6), (2, 5, 7), (0, 3, 1)), ((8, 4, 6), (2, 5, 7), (3, 0, 1)), ((8, 4, 6), (2, 0, 7), (3, 5, 1)), ((8, 4, 6), (2, 7, 0), (3, 5, 1)), ((8, 4, 6), (2, 7, 1), (3, 5, 0)), ((8, 4, 6), (2, 7, 1), (3, 0, 5)), ((8, 4, 6), (2, 0, 1), (3, 7, 5)), ((8, 4, 6), (0, 2, 1), (3, 7, 5)), ((0, 4, 6), (8, 2, 1), (3, 7, 5)), ((4, 0, 6), (8, 2, 1), (3, 7, 5)), ((4, 6, 0), (8, 2, 1), (3, 7, 5)), ((4, 6, 1), (8, 2, 0), (3, 7, 5)), ((4, 6, 1), (8, 0, 2), (3, 7, 5)), ((4, 6, 1), (0, 8, 2), (3, 7, 5)), ((4, 6, 1), (3, 8, 2), (0, 7, 5)), ((4, 6, 1), (3, 8, 2), (7, 0, 5)), ((4, 6, 1), (3, 0, 2), (7, 8, 5)), ((4, 0, 1), (3, 6, 2), (7, 8, 5)), ((0, 4, 1), (3, 6, 2), (7, 8, 5)), ((3, 4, 1), (0, 6, 2), (7, 8, 5)), ((3, 4, 1), (6, 0, 2), (7, 8, 5)), ((3, 0, 1), (6, 4, 2), (7, 8, 5)), ((3, 1, 0), (6, 4, 2), (7, 8, 5)), ((3, 1, 2), (6, 4, 0), (7, 8, 5)), ((3, 1, 2), (6, 4, 5), (7, 8, 0)), ((3, 1, 2), (6, 4, 5), (7, 0, 8)), ((3, 1, 2), (6, 4, 5), (0, 7, 8)), ((3, 1, 2), (0, 4, 5), (6, 7, 8)), ((0, 1, 2), (3, 4, 5), (6, 7, 8))]\n",
      "CPU times: total: 2.55 s\n",
      "Wall time: 2.53 s\n"
     ]
    }
   ],
   "source": [
    "%%time\n",
    "Path = bfs_search(start, goal, next_states_sliding)\n",
    "print(Path)"
   ]
  },
  {
   "cell_type": "code",
   "execution_count": 66,
   "metadata": {},
   "outputs": [
    {
     "data": {
      "application/vnd.jupyter.widget-view+json": {
       "model_id": "0883871486c94d3a809576cdfd26c726",
       "version_major": 2,
       "version_minor": 0
      },
      "text/plain": [
       "Canvas()"
      ]
     },
     "metadata": {},
     "output_type": "display_data"
    }
   ],
   "source": [
    "animation(Path)"
   ]
  }
 ],
 "metadata": {
  "kernelspec": {
   "display_name": "ai",
   "language": "python",
   "name": "python3"
  },
  "language_info": {
   "codemirror_mode": {
    "name": "ipython",
    "version": 3
   },
   "file_extension": ".py",
   "mimetype": "text/x-python",
   "name": "python",
   "nbconvert_exporter": "python",
   "pygments_lexer": "ipython3",
   "version": "3.10.9"
  },
  "orig_nbformat": 4
 },
 "nbformat": 4,
 "nbformat_minor": 2
}
