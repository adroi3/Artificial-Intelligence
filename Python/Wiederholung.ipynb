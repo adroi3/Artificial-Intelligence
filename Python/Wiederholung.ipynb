{
 "cells": [
  {
   "cell_type": "markdown",
   "metadata": {},
   "source": [
    "# Allgemein"
   ]
  },
  {
   "cell_type": "code",
   "execution_count": 34,
   "metadata": {},
   "outputs": [
    {
     "name": "stdout",
     "output_type": "stream",
     "text": [
      "The memory_profiler extension is already loaded. To reload it, use:\n",
      "  %reload_ext memory_profiler\n"
     ]
    }
   ],
   "source": [
    "%load_ext memory_profiler"
   ]
  },
  {
   "cell_type": "code",
   "execution_count": 35,
   "metadata": {},
   "outputs": [],
   "source": [
    "import graphviz as gv\n",
    "import heapq"
   ]
  },
  {
   "cell_type": "code",
   "execution_count": 36,
   "metadata": {},
   "outputs": [],
   "source": [
    "def to_list(State): \n",
    "    return [list(row) for row in State]"
   ]
  },
  {
   "cell_type": "code",
   "execution_count": 37,
   "metadata": {},
   "outputs": [],
   "source": [
    "def to_tuple(State):\n",
    "    return tuple(tuple(row) for row in State)"
   ]
  },
  {
   "attachments": {},
   "cell_type": "markdown",
   "metadata": {},
   "source": [
    "# Suchprobleme"
   ]
  },
  {
   "attachments": {},
   "cell_type": "markdown",
   "metadata": {},
   "source": [
    "## Breitensuche (Breadth First Search)"
   ]
  },
  {
   "cell_type": "code",
   "execution_count": 38,
   "metadata": {},
   "outputs": [],
   "source": [
    "def rec_path_to(state, Parent):\n",
    "    p = Parent[state]\n",
    "    if p == state:\n",
    "        return [state]\n",
    "    return rec_path_to(p, Parent) + [state]"
   ]
  },
  {
   "cell_type": "code",
   "execution_count": 39,
   "metadata": {},
   "outputs": [],
   "source": [
    "def bf_search(start, goal, next_states):\n",
    "    Frontier = { start }\n",
    "    Visited  = set()\n",
    "    Parent   = { start: start }\n",
    "    while Frontier:\n",
    "        NewFrontier = set()\n",
    "        for s in Frontier:\n",
    "            for ns in next_states(s):\n",
    "                if ns not in Visited and ns not in Frontier:\n",
    "                    NewFrontier.add(ns)\n",
    "                    Parent[ns] = s\n",
    "                    if ns == goal:\n",
    "                        print(\"number of states: \", len(Visited) + len(Frontier) + len(NewFrontier))\n",
    "                        return rec_path_to(goal, Parent)\n",
    "        Visited |= Frontier\n",
    "        Frontier = NewFrontier"
   ]
  },
  {
   "attachments": {},
   "cell_type": "markdown",
   "metadata": {},
   "source": [
    "## Tiefensuche mit Stack (Depth First Search)"
   ]
  },
  {
   "cell_type": "code",
   "execution_count": 40,
   "metadata": {},
   "outputs": [],
   "source": [
    "def iter_path_to(state, Parent):\n",
    "    Path = [state]\n",
    "    while state != Parent[state]:\n",
    "        state = Parent[state]\n",
    "        Path  = [ state ] + Path\n",
    "    return Path"
   ]
  },
  {
   "cell_type": "code",
   "execution_count": 41,
   "metadata": {},
   "outputs": [],
   "source": [
    "def df_search(start, goal, next_states):\n",
    "    Stack  = [start]\n",
    "    Parent = { start: start }\n",
    "    while Stack:\n",
    "        state = Stack.pop()\n",
    "        for ns in next_states(state):            \n",
    "            if ns not in Parent:\n",
    "                Parent[ns] = state\n",
    "                Stack.append(ns)\n",
    "                if ns == goal:\n",
    "                    return iter_path_to(goal, Parent)"
   ]
  },
  {
   "attachments": {},
   "cell_type": "markdown",
   "metadata": {},
   "source": [
    "## Iterative Tiefensuche (Iterative Deepening)"
   ]
  },
  {
   "cell_type": "code",
   "execution_count": 42,
   "metadata": {},
   "outputs": [],
   "source": [
    "def depth_limited_search(state, goal, next_states, Path, PathSet, limit):\n",
    "    if state == goal:\n",
    "        return Path\n",
    "    if len(Path) == limit:\n",
    "        return None\n",
    "    for ns in next_states(state):\n",
    "        if ns not in PathSet:\n",
    "            Path   .append(ns)\n",
    "            PathSet.add(ns)\n",
    "            Result = depth_limited_search(ns, goal, next_states, Path, PathSet, limit)\n",
    "            if Result:\n",
    "                return Result\n",
    "            Path   .pop()\n",
    "            PathSet.remove(ns) # remove this line for faster, but non-optimal solution\n",
    "    return None"
   ]
  },
  {
   "cell_type": "code",
   "execution_count": 43,
   "metadata": {},
   "outputs": [],
   "source": [
    "def id_search(start, goal, next_states):\n",
    "    limit = 32\n",
    "    while True:\n",
    "        Path = depth_limited_search(start, goal, next_states, [start], { start }, limit)\n",
    "        if Path is not None:\n",
    "            return Path\n",
    "        limit += 1\n",
    "        print(f'limit = {limit}')"
   ]
  },
  {
   "attachments": {},
   "cell_type": "markdown",
   "metadata": {},
   "source": [
    "## Best First Search"
   ]
  },
  {
   "cell_type": "code",
   "execution_count": 44,
   "metadata": {},
   "outputs": [],
   "source": [
    "def bfs_search(start, goal, next_states, heuristic):\n",
    "    PrioQueue = [ (heuristic(start, goal), [start]) ]\n",
    "    while PrioQueue:\n",
    "        _, Path = heapq.heappop(PrioQueue)\n",
    "        state   = Path[-1]\n",
    "        if state == goal:\n",
    "            return Path\n",
    "        for ns in next_states(state):\n",
    "            if ns not in Path:\n",
    "                d = heuristic(ns, goal)\n",
    "                heapq.heappush(PrioQueue, (d, Path + [ns]))"
   ]
  },
  {
   "attachments": {},
   "cell_type": "markdown",
   "metadata": {},
   "source": [
    "## Beispiel Missionare"
   ]
  },
  {
   "attachments": {},
   "cell_type": "markdown",
   "metadata": {},
   "source": [
    "$\\texttt{problem}(m, i)$ is `True` if there is a problem on a shore that has $m$ missionaries and $i$ infidels.\n",
    "For a problem to arise, the number $m$ of missionaries needs to be greater than $0$ but less than the number $i$ of\n",
    "infidels."
   ]
  },
  {
   "cell_type": "code",
   "execution_count": 45,
   "metadata": {},
   "outputs": [],
   "source": [
    "def problem(m, i): \n",
    "    return 0 < m < i\n",
    "\n",
    "def no_problem(m, i): \n",
    "    return not problem(m, i) and not problem(3 - m, 3 - i)"
   ]
  },
  {
   "cell_type": "code",
   "execution_count": 46,
   "metadata": {},
   "outputs": [],
   "source": [
    "def next_states_mis(state):\n",
    "    m, i, b = state\n",
    "    if  b == 1:\n",
    "        return { (m-mb, i-ib, 0) for mb in range(m+1)\n",
    "                                 for ib in range(i+1)\n",
    "                                 if 1 <= mb + ib <= 2 and no_problem(m-mb, i-ib) \n",
    "               }\n",
    "    else:\n",
    "        return { (m+mb, i+ib, 1) for mb in range(3-m+1)\n",
    "                                 for ib in range(3-i+1)\n",
    "                                 if 1 <= mb + ib <= 2 and no_problem(m+mb, i+ib) \n",
    "               }"
   ]
  },
  {
   "cell_type": "markdown",
   "metadata": {},
   "source": [
    "Initially, all missionaries, all infidels and the boat are on the left shore.\n",
    "The goal is to have everybody on the right shore, hence the numbers on the left shore\n",
    "should all be $0$."
   ]
  },
  {
   "cell_type": "code",
   "execution_count": 47,
   "metadata": {},
   "outputs": [],
   "source": [
    "start = (3, 3, 1)\n",
    "goal  = (0, 0, 0)"
   ]
  },
  {
   "cell_type": "code",
   "execution_count": 48,
   "metadata": {},
   "outputs": [],
   "source": [
    "def fillCharsLeft(x, n):\n",
    "    s = str(x)\n",
    "    m = n - len(s)\n",
    "    return m * \" \" + s\n",
    "\n",
    "def fillCharsRight(x, n):\n",
    "    s = str(x)\n",
    "    m = n - len(s)\n",
    "    return s + m * \" \"\n",
    "\n",
    "def fillCharsBoth(x, n):\n",
    "    s  = str(x)\n",
    "    ml = (n     - len(s)) // 2\n",
    "    mr = (n + 1 - len(s)) // 2\n",
    "    return ml * \" \" + s + mr * \" \"\n",
    "\n",
    "def printState(m, k, b):\n",
    "     print( fillCharsRight(m * \"M\", 6) + \n",
    "            fillCharsRight(k * \"K\", 6) + \n",
    "            fillCharsRight(b * \"B\", 3) + \"    |~~~~~|    \" + \n",
    "            fillCharsLeft((3 - m) * \"M\", 6) + \n",
    "            fillCharsLeft((3 - k) * \"K\", 6) + \n",
    "            fillCharsLeft((1 - b) * \"B\", 3) \n",
    "          )\n",
    "\n",
    "def printBoat(m1, k1, b1, m2, k2, b2):\n",
    "    if b1 == 1:\n",
    "        if m1 < m2:\n",
    "            print(\"Error in printBoat: negative number of missionaries in the boat!\")\n",
    "            return\n",
    "        if k1 < k2:\n",
    "            print(\"Error in printBoat: negative number of infidels in the boat!\")\n",
    "            return\n",
    "        print(19*\" \" + \"> \" + fillCharsBoth((m1-m2)*\"M\" + \" \" + (k1-k2)*\"K\", 3) + \" >\")\n",
    "    else:\n",
    "        if m1 > m2:\n",
    "            print(\"Error in printBoat: negative number of missionaries in the boat!\")\n",
    "            return\n",
    "        if k1 > k2:\n",
    "            print(\"Error in printBoat: negative number of infidels in the boat!\")\n",
    "            return\n",
    "        print(19*\" \" + \"< \" + fillCharsBoth((m2-m1)*\"M\" + \" \" + (k2-k1)*\"K\", 3) + \" <\")\n",
    "\n",
    "def printPath(Path):\n",
    "    print(\"Solution:\\n\")\n",
    "    for i in range(len(Path) - 1):\n",
    "        m1, k1, b1 = Path[i]\n",
    "        m2, k2, b2 = Path[i+1]\n",
    "        printState(m1, k1, b1)\n",
    "        printBoat(m1, k1, b1, m2, k2, b2)\n",
    "    m, k, b = Path[-1]\n",
    "    printState(m, k, b)"
   ]
  },
  {
   "cell_type": "code",
   "execution_count": 49,
   "metadata": {},
   "outputs": [
    {
     "name": "stdout",
     "output_type": "stream",
     "text": [
      "number of states:  15\n",
      "peak memory: 93.36 MiB, increment: 0.00 MiB\n",
      "CPU times: total: 46.9 ms\n",
      "Wall time: 1 s\n"
     ]
    }
   ],
   "source": [
    "%%time\n",
    "%memit Path = bf_search(start, goal, next_states_mis)"
   ]
  },
  {
   "cell_type": "code",
   "execution_count": 50,
   "metadata": {},
   "outputs": [
    {
     "name": "stdout",
     "output_type": "stream",
     "text": [
      "peak memory: 93.36 MiB, increment: 0.00 MiB\n",
      "CPU times: total: 46.9 ms\n",
      "Wall time: 985 ms\n"
     ]
    }
   ],
   "source": [
    "%%time\n",
    "%memit Path = df_search(start, goal, next_states_mis)"
   ]
  },
  {
   "cell_type": "code",
   "execution_count": 51,
   "metadata": {},
   "outputs": [
    {
     "name": "stdout",
     "output_type": "stream",
     "text": [
      "peak memory: 93.36 MiB, increment: 0.00 MiB\n",
      "CPU times: total: 46.9 ms\n",
      "Wall time: 989 ms\n"
     ]
    }
   ],
   "source": [
    "%%time\n",
    "%memit Path = id_search(start, goal, next_states_mis)"
   ]
  },
  {
   "attachments": {},
   "cell_type": "markdown",
   "metadata": {},
   "source": [
    "## Beispiel Sliding Puzzle"
   ]
  },
  {
   "attachments": {},
   "cell_type": "markdown",
   "metadata": {},
   "source": [
    "### Animation"
   ]
  },
  {
   "cell_type": "markdown",
   "metadata": {},
   "source": [
    "The package `ipycanvas`, which is imported below, can be installed using the following command:\n",
    "```\n",
    "    conda install -c conda-forge ipycanvas\n",
    "```\n",
    "This package is useful for drawings and animations.  Its documentation can be found at:\n",
    "  https://ipycanvas.readthedocs.io/en/latest/."
   ]
  },
  {
   "cell_type": "code",
   "execution_count": 52,
   "metadata": {},
   "outputs": [],
   "source": [
    "import ipycanvas as cnv"
   ]
  },
  {
   "cell_type": "markdown",
   "metadata": {},
   "source": [
    "The module `time` is part of the standard library, so it is preinstalled.  We have imported it because we need the function `time.sleep(secs)` to pause the animation for a specified time."
   ]
  },
  {
   "cell_type": "code",
   "execution_count": 53,
   "metadata": {},
   "outputs": [],
   "source": [
    "import time"
   ]
  },
  {
   "cell_type": "markdown",
   "metadata": {},
   "source": [
    "The global variable `Colors` specifies the colors of the tiles."
   ]
  },
  {
   "cell_type": "code",
   "execution_count": 54,
   "metadata": {},
   "outputs": [],
   "source": [
    "Colors = ['white', 'lightblue', 'pink', 'magenta', 'orange', 'red', 'yellow', 'lightgreen', 'gold',\n",
    "          'CornFlowerBlue', 'Coral', 'Cyan', 'orchid', 'DarkSalmon', 'DeepPink', 'green'\n",
    "         ] "
   ]
  },
  {
   "cell_type": "markdown",
   "metadata": {},
   "source": [
    "The global variable `size` specifies the size of one tile in pixels."
   ]
  },
  {
   "cell_type": "code",
   "execution_count": 55,
   "metadata": {},
   "outputs": [],
   "source": [
    "size = 100"
   ]
  },
  {
   "cell_type": "markdown",
   "metadata": {},
   "source": [
    "The function `draw(State, canvas, dx, dy, tile, x)` draws a given `State` of the sliding puzzle, where `tile` has been moved by `offset` pixels into the direction `(dx, dy)`."
   ]
  },
  {
   "cell_type": "code",
   "execution_count": 56,
   "metadata": {},
   "outputs": [],
   "source": [
    "def draw(State, canvas, dx, dy, tile, offset):\n",
    "    canvas.text_align    = 'center'\n",
    "    canvas.text_baseline = 'middle'\n",
    "    with cnv.hold_canvas(canvas):\n",
    "        canvas.clear()\n",
    "        n = len(State)\n",
    "        for row in range(n):\n",
    "            for col in range(n):\n",
    "                tile_to_draw = State[row][col]\n",
    "                color = Colors[tile_to_draw]\n",
    "                canvas.fill_style = color\n",
    "                if tile_to_draw not in (0, tile):\n",
    "                    x = col * size\n",
    "                    y = row * size\n",
    "                    canvas.fill_rect(x, y, size, size)\n",
    "                    canvas.line_width = 3.0\n",
    "                    x += size // 2\n",
    "                    y += size // 2\n",
    "                    canvas.stroke_text(str(tile_to_draw), x, y)\n",
    "                elif tile_to_draw == tile:\n",
    "                    x = col * size + offset * dx\n",
    "                    y = row * size + offset * dy\n",
    "                    canvas.fill_rect(x, y, size, size)\n",
    "                    canvas.line_width = 3.0\n",
    "                    x += size // 2\n",
    "                    y += size // 2\n",
    "                    if tile_to_draw != 0:\n",
    "                        canvas.stroke_text(str(tile_to_draw), x, y)"
   ]
  },
  {
   "cell_type": "code",
   "execution_count": 57,
   "metadata": {},
   "outputs": [],
   "source": [
    "def create_canvas(n): \n",
    "    canvas = cnv.Canvas(size=(size * n, size * n))\n",
    "    canvas.font = '100px serif'\n",
    "    return canvas"
   ]
  },
  {
   "cell_type": "markdown",
   "metadata": {},
   "source": [
    "The global variable `delay` controls the speed of the animation."
   ]
  },
  {
   "cell_type": "code",
   "execution_count": 58,
   "metadata": {},
   "outputs": [],
   "source": [
    "delay = 0.0005"
   ]
  },
  {
   "cell_type": "markdown",
   "metadata": {},
   "source": [
    "The function call `tile_and_direction(state, next_state)` takes a state and the state that follows this state and returns a triple `(tile, dx, dy)` where `tile` is the tile that is moved to transform `state` into `next_state` and `(dx, dy)` is the direction in which this tile is moved."
   ]
  },
  {
   "cell_type": "code",
   "execution_count": 59,
   "metadata": {},
   "outputs": [],
   "source": [
    "def tile_and_direction(state, next_state):\n",
    "    row0, col0 = find_tile(0, state)\n",
    "    row1, col1 = find_tile(0, next_state)\n",
    "    return state[row1][col1], col0-col1, row0-row1"
   ]
  },
  {
   "cell_type": "markdown",
   "metadata": {},
   "source": [
    "Given a list of states representing a solution to the sliding puzzle, the function call \n",
    "`animation(Solution)` animates the solution."
   ]
  },
  {
   "cell_type": "code",
   "execution_count": 60,
   "metadata": {},
   "outputs": [],
   "source": [
    "def animation(Solution):\n",
    "    start = Solution[0]\n",
    "    n = len(start)\n",
    "    canvas = create_canvas(n)\n",
    "    draw(start, canvas, 0, 0, 0, 0)\n",
    "    m = len(Solution)\n",
    "    display(canvas)\n",
    "    for i in range(m-1):\n",
    "        state = Solution[i]\n",
    "        tile, dx, dy = tile_and_direction(state, Solution[i+1])\n",
    "        for offset in range(size+1):\n",
    "            draw(state, canvas, dx, dy, tile, offset)\n",
    "            time.sleep(delay)"
   ]
  },
  {
   "attachments": {},
   "cell_type": "markdown",
   "metadata": {},
   "source": [
    "### Code"
   ]
  },
  {
   "cell_type": "code",
   "execution_count": 61,
   "metadata": {},
   "outputs": [],
   "source": [
    "def move_dir(State, row, col, dx, dy):\n",
    "    State = to_list(State)\n",
    "    State[row     ][col     ] = State[row + dx][col + dy]\n",
    "    State[row + dx][col + dy] = 0\n",
    "    return to_tuple(State)"
   ]
  },
  {
   "cell_type": "code",
   "execution_count": 62,
   "metadata": {},
   "outputs": [],
   "source": [
    "def find_tile(tile, State):\n",
    "    n = len(State)\n",
    "    for row in range(n):\n",
    "        for col in range(n):\n",
    "            if State[row][col] == tile:\n",
    "                return row, col"
   ]
  },
  {
   "cell_type": "code",
   "execution_count": 63,
   "metadata": {},
   "outputs": [],
   "source": [
    "def next_states_sliding(State):\n",
    "    n          = len(State)\n",
    "    row, col   = find_tile(0, State)\n",
    "    New_States = set()\n",
    "    Directions = [ (1, 0), (-1, 0), (0, 1), (0, -1) ]\n",
    "    for dx, dy in Directions:\n",
    "        if row + dx in range(n) and col + dy in range(n):\n",
    "            New_States.add(move_dir(State, row, col, dx, dy))\n",
    "    return New_States"
   ]
  },
  {
   "cell_type": "code",
   "execution_count": 64,
   "metadata": {},
   "outputs": [],
   "source": [
    "start = ( (8, 0, 6),\n",
    "          (5, 4, 7),\n",
    "          (2, 3, 1)\n",
    "        )\n",
    "goal = ( (0, 1, 2), \n",
    "         (3, 4, 5), \n",
    "         (6, 7, 8)\n",
    "       )"
   ]
  },
  {
   "cell_type": "code",
   "execution_count": 65,
   "metadata": {},
   "outputs": [],
   "source": [
    "def manhattan(stateA, stateB):\n",
    "    n = len(stateA)\n",
    "    PositionsB = {}\n",
    "    for row in range(n):\n",
    "        for col in range(n): \n",
    "            tile = stateB[row][col]\n",
    "            PositionsB[tile] = (row, col)\n",
    "    result = 0\n",
    "    for rowA in range(n):\n",
    "        for colA in range(n): \n",
    "            tile = stateA[rowA][colA]\n",
    "            if tile != 0:\n",
    "                rowB, colB = PositionsB[tile]\n",
    "                result += abs(rowA - rowB) + abs(colA - colB)\n",
    "    return result"
   ]
  },
  {
   "cell_type": "code",
   "execution_count": 66,
   "metadata": {},
   "outputs": [
    {
     "name": "stdout",
     "output_type": "stream",
     "text": [
      "number of states:  181440\n",
      "peak memory: 156.66 MiB, increment: 63.35 MiB\n",
      "CPU times: total: 2.25 s\n",
      "Wall time: 3.12 s\n"
     ]
    }
   ],
   "source": [
    "%%time\n",
    "%memit Path = bf_search(start, goal, next_states_sliding)"
   ]
  },
  {
   "cell_type": "code",
   "execution_count": 67,
   "metadata": {},
   "outputs": [
    {
     "name": "stdout",
     "output_type": "stream",
     "text": [
      "peak memory: 111.88 MiB, increment: 3.48 MiB\n",
      "CPU times: total: 1.02 s\n",
      "Wall time: 1.85 s\n"
     ]
    }
   ],
   "source": [
    "%%time\n",
    "%memit Path = df_search(start, goal, next_states_sliding)"
   ]
  },
  {
   "cell_type": "code",
   "execution_count": 68,
   "metadata": {},
   "outputs": [
    {
     "name": "stdout",
     "output_type": "stream",
     "text": [
      "peak memory: 110.62 MiB, increment: 0.00 MiB\n",
      "CPU times: total: 5.06 s\n",
      "Wall time: 5.94 s\n"
     ]
    }
   ],
   "source": [
    "%%time\n",
    "%memit Path = id_search(start, goal, next_states_sliding)"
   ]
  },
  {
   "cell_type": "code",
   "execution_count": 69,
   "metadata": {},
   "outputs": [
    {
     "name": "stdout",
     "output_type": "stream",
     "text": [
      "peak memory: 107.63 MiB, increment: 0.01 MiB\n",
      "CPU times: total: 62.5 ms\n",
      "Wall time: 898 ms\n"
     ]
    }
   ],
   "source": [
    "%%time\n",
    "%memit bfs_search(start, goal, next_states_sliding, manhattan)"
   ]
  },
  {
   "cell_type": "code",
   "execution_count": 70,
   "metadata": {},
   "outputs": [],
   "source": [
    "#animation(Path)"
   ]
  }
 ],
 "metadata": {
  "kernelspec": {
   "display_name": "ai",
   "language": "python",
   "name": "python3"
  },
  "language_info": {
   "codemirror_mode": {
    "name": "ipython",
    "version": 3
   },
   "file_extension": ".py",
   "mimetype": "text/x-python",
   "name": "python",
   "nbconvert_exporter": "python",
   "pygments_lexer": "ipython3",
   "version": "3.10.9"
  },
  "orig_nbformat": 4
 },
 "nbformat": 4,
 "nbformat_minor": 2
}
